{
 "cells": [
  {
   "cell_type": "markdown",
   "metadata": {},
   "source": [
    "Version: 0.0.2  Updated date: 07/05/2024\n",
    "Conda Environment : py-snowpark_df_ml_fs-1.15.0_v1"
   ]
  },
  {
   "cell_type": "markdown",
   "metadata": {},
   "source": [
    "# Getting Started with Snowflake Feature Store -  Customer Segmentation\n",
    "\n",
    "The Customer segmentation (UC01) use case is designed to emulate a data science pipeline to find clusters of customers based  on  aggregate  features where  the  customers  are  grouped  based  on  their  spending behavior. <br>\n",
    "\n",
    "It  involves  creating subgroups of customers based on similar traits. <br>\n",
    "\n",
    "The input in this use case consists of order and return transaction data from a retail business. <br>\n",
    "\n",
    "The use case uses Tables Customer, Order, Lineitem and Order_returns. <br>\n",
    "\n",
    "K-means  clustering  algorithm  is  used  to  derive  the  optimum  number  of  clusters  and  understand  the  underlying customer segments based on the data provided. <br>\n",
    "Clustering is an unsupervised machine learning technique, where there are no defined dependent and independent variables, i.e. the training samples are unlabeled. <br>\n",
    "The pattern in the data is used to identify and group similar observations. <br>\n",
    "\n",
    "We will use the Use-Case to show how Snowflake Feature Store (and Model Registry) can be used to maintain & store features, retrieve them for training and perform micro-batch inference.\n",
    "\n",
    "In the development (TRAINING) enviroment we will \n",
    "- create FeatureViews in the Feature Store that maintain the required customer-behaviour features.\n",
    "- use these Features to train a model, and save the model in the Snowflake model-registry.\n",
    "- plot the clusters for the trained model to visually verify. \n",
    "\n",
    "In the production (SERVING) environment we will\n",
    "- re-create the FeatureViews on production data\n",
    "- generate an Inference FeatureView that uses the saved model to perform incremental inference\n",
    "\n",
    "# Model Operationalisation in Production"
   ]
  },
  {
   "cell_type": "code",
   "execution_count": 1,
   "metadata": {
    "metadata": {}
   },
   "outputs": [],
   "source": [
    "%load_ext autoreload\n",
    "%autoreload 2"
   ]
  },
  {
   "cell_type": "markdown",
   "metadata": {},
   "source": [
    "#### Notebook Packages"
   ]
  },
  {
   "cell_type": "code",
   "execution_count": 1,
   "metadata": {
    "metadata": {}
   },
   "outputs": [],
   "source": [
    "# Python packages\n",
    "import os\n",
    "from os import listdir\n",
    "from os.path import isfile, join\n",
    "import time\n",
    "import json\n",
    "import timeit\n",
    "import numpy as np\n",
    "import pandas as pd\n",
    "import tabulate\n",
    "import datetime\n",
    "import ast      \n",
    "import sqlglot\n",
    "import sqlglot.optimizer.optimizer\n",
    "\n",
    "# SNOWFLAKE\n",
    "# Snowpark\n",
    "from snowflake.snowpark import Session, DataFrame, Window, WindowSpec\n",
    "#from snowflake.snowpark import Analytics\n",
    "\n",
    "import snowflake.snowpark.functions as F\n",
    "import snowflake.snowpark.types as T\n",
    "from snowflake.snowpark.version import VERSION\n",
    "\n",
    "# Snowflake Feature Store\n",
    "from snowflake.ml.feature_store import (\n",
    "    FeatureStore,\n",
    "    FeatureView,\n",
    "    Entity,\n",
    "    CreationMode)\n",
    "\n",
    "# Snowflake Model Registry\n",
    "from snowflake.ml.registry import Registry\n",
    "from snowflake.ml.utils import connection_params\n",
    "from snowflake.ml._internal.utils import identifier  \n",
    "\n",
    "\n",
    "# COMMON FUNCTIONS\n",
    "from useful_fns import check_and_update, formatSQL, create_ModelRegistry, create_FeatureStore \n",
    "\n",
    "#### Use-Case 01 - Specific Packages\n",
    "# K-Means clustering\n",
    "#from sklearn.pipeline import Pipeline as skl_Pipeline\n",
    "from snowflake.ml.modeling.pipeline import Pipeline as sml_Pipeline\n",
    "#from sklearn.preprocessing import MinMaxScaler as skl_MinMaxScaler\n",
    "from snowflake.ml.modeling.preprocessing import MinMaxScaler as sml_MinMaxScaler\n",
    "#from sklearn.cluster import KMeans as skl_KMeans\n",
    "from snowflake.ml.modeling.cluster import KMeans as sml_KMeans\n",
    "\n",
    "# Feature Engineering Functions\n",
    "from feature_engineering_fns import uc01_load_data, uc01_pre_process"
   ]
  },
  {
   "cell_type": "markdown",
   "metadata": {},
   "source": [
    "### Setup Snowflake connection and database parameters"
   ]
  },
  {
   "cell_type": "code",
   "execution_count": 2,
   "metadata": {
    "metadata": {}
   },
   "outputs": [],
   "source": [
    "# Scale Factor\n",
    "scale_factor               = 'SF0001'\n",
    "\n",
    "# Roles\n",
    "fs_qs_role                 = 'RAKESHGADIPARTHI'\n",
    "\n",
    "# Database\n",
    "tpcxai_database_base       = f'TPCXAI_{scale_factor}_QUICKSTART'\n",
    "tpcxai_database            = f'{tpcxai_database_base}_INC'\n",
    "\n",
    "# Schemas\n",
    "tpcxai_training_schema     = 'TRAINING'\n",
    "tpcxai_scoring_schema      = 'SCORING'\n",
    "tpcxai_serving_schema      = 'SERVING'"
   ]
  },
  {
   "cell_type": "markdown",
   "metadata": {},
   "source": [
    "We point the `tpcxai_schema` variable to our `SERVING` schema, and this one change allows us to recreate the model development pipeline in production."
   ]
  },
  {
   "cell_type": "code",
   "execution_count": 3,
   "metadata": {},
   "outputs": [],
   "source": [
    "# Set the Schema (Environment)\n",
    "tpcxai_schema = tpcxai_serving_schema"
   ]
  },
  {
   "cell_type": "code",
   "execution_count": 4,
   "metadata": {},
   "outputs": [
    {
     "name": "stderr",
     "output_type": "stream",
     "text": [
      "SnowflakeLoginOptions() is in private preview since 0.2.0. Do not use it in production. \n"
     ]
    },
    {
     "ename": "SnowparkSQLException",
     "evalue": "(1304): 01b613a5-0608-e0a8-0072-f3030fb56302: 002043 (02000): SQL compilation error:\nObject does not exist, or operation cannot be performed.",
     "output_type": "error",
     "traceback": [
      "\u001b[0;31m---------------------------------------------------------------------------\u001b[0m",
      "\u001b[0;31mSnowparkSQLException\u001b[0m                      Traceback (most recent call last)",
      "Cell \u001b[0;32mIn[4], line 16\u001b[0m\n\u001b[1;32m     14\u001b[0m warehouse_sz \u001b[38;5;241m=\u001b[39m \u001b[38;5;124m'\u001b[39m\u001b[38;5;124mMEDIUM\u001b[39m\u001b[38;5;124m'\u001b[39m\n\u001b[1;32m     15\u001b[0m warehouse_env \u001b[38;5;241m=\u001b[39m \u001b[38;5;124mf\u001b[39m\u001b[38;5;124m'\u001b[39m\u001b[38;5;124mTPCXAI_\u001b[39m\u001b[38;5;132;01m{\u001b[39;00mscale_factor\u001b[38;5;132;01m}\u001b[39;00m\u001b[38;5;124m_QUICKSTART_WH\u001b[39m\u001b[38;5;124m'\u001b[39m\n\u001b[0;32m---> 16\u001b[0m \u001b[43msession\u001b[49m\u001b[38;5;241;43m.\u001b[39;49m\u001b[43msql\u001b[49m\u001b[43m(\u001b[49m\u001b[38;5;124;43mf\u001b[39;49m\u001b[38;5;124;43m'''\u001b[39;49m\u001b[38;5;124;43muse warehouse \u001b[39;49m\u001b[38;5;132;43;01m{\u001b[39;49;00m\u001b[43mwarehouse_env\u001b[49m\u001b[38;5;132;43;01m}\u001b[39;49;00m\u001b[38;5;124;43m'''\u001b[39;49m\u001b[43m)\u001b[49m\u001b[38;5;241;43m.\u001b[39;49m\u001b[43mcollect\u001b[49m\u001b[43m(\u001b[49m\u001b[43m)\u001b[49m\n\u001b[1;32m     17\u001b[0m session\u001b[38;5;241m.\u001b[39msql(\u001b[38;5;124mf\u001b[39m\u001b[38;5;124m'''\u001b[39m\u001b[38;5;124malter warehouse \u001b[39m\u001b[38;5;132;01m{\u001b[39;00mwarehouse_env\u001b[38;5;132;01m}\u001b[39;00m\u001b[38;5;124m set warehouse_size = \u001b[39m\u001b[38;5;132;01m{\u001b[39;00mwarehouse_sz\u001b[38;5;132;01m}\u001b[39;00m\u001b[38;5;124m'''\u001b[39m)\u001b[38;5;241m.\u001b[39mcollect()\n\u001b[1;32m     19\u001b[0m \u001b[38;5;66;03m# Current Environment Details\u001b[39;00m\n",
      "File \u001b[0;32m/opt/conda/lib/python3.9/site-packages/snowflake/snowpark/_internal/telemetry.py:150\u001b[0m, in \u001b[0;36mdf_collect_api_telemetry.<locals>.wrap\u001b[0;34m(*args, **kwargs)\u001b[0m\n\u001b[1;32m    147\u001b[0m \u001b[38;5;129m@functools\u001b[39m\u001b[38;5;241m.\u001b[39mwraps(func)\n\u001b[1;32m    148\u001b[0m \u001b[38;5;28;01mdef\u001b[39;00m \u001b[38;5;21mwrap\u001b[39m(\u001b[38;5;241m*\u001b[39margs, \u001b[38;5;241m*\u001b[39m\u001b[38;5;241m*\u001b[39mkwargs):\n\u001b[1;32m    149\u001b[0m     \u001b[38;5;28;01mwith\u001b[39;00m args[\u001b[38;5;241m0\u001b[39m]\u001b[38;5;241m.\u001b[39m_session\u001b[38;5;241m.\u001b[39mquery_history() \u001b[38;5;28;01mas\u001b[39;00m query_history:\n\u001b[0;32m--> 150\u001b[0m         result \u001b[38;5;241m=\u001b[39m \u001b[43mfunc\u001b[49m\u001b[43m(\u001b[49m\u001b[38;5;241;43m*\u001b[39;49m\u001b[43margs\u001b[49m\u001b[43m,\u001b[49m\u001b[43m \u001b[49m\u001b[38;5;241;43m*\u001b[39;49m\u001b[38;5;241;43m*\u001b[39;49m\u001b[43mkwargs\u001b[49m\u001b[43m)\u001b[49m\n\u001b[1;32m    151\u001b[0m     plan \u001b[38;5;241m=\u001b[39m args[\u001b[38;5;241m0\u001b[39m]\u001b[38;5;241m.\u001b[39m_select_statement \u001b[38;5;129;01mor\u001b[39;00m args[\u001b[38;5;241m0\u001b[39m]\u001b[38;5;241m.\u001b[39m_plan\n\u001b[1;32m    152\u001b[0m     api_calls \u001b[38;5;241m=\u001b[39m [\n\u001b[1;32m    153\u001b[0m         \u001b[38;5;241m*\u001b[39mplan\u001b[38;5;241m.\u001b[39mapi_calls,\n\u001b[1;32m    154\u001b[0m         {TelemetryField\u001b[38;5;241m.\u001b[39mNAME\u001b[38;5;241m.\u001b[39mvalue: \u001b[38;5;124mf\u001b[39m\u001b[38;5;124m\"\u001b[39m\u001b[38;5;124mDataFrame.\u001b[39m\u001b[38;5;132;01m{\u001b[39;00mfunc\u001b[38;5;241m.\u001b[39m\u001b[38;5;18m__name__\u001b[39m\u001b[38;5;132;01m}\u001b[39;00m\u001b[38;5;124m\"\u001b[39m},\n\u001b[1;32m    155\u001b[0m     ]\n",
      "File \u001b[0;32m/opt/conda/lib/python3.9/site-packages/snowflake/snowpark/dataframe.py:596\u001b[0m, in \u001b[0;36mDataFrame.collect\u001b[0;34m(self, statement_params, block, log_on_exception, case_sensitive)\u001b[0m\n\u001b[1;32m    581\u001b[0m \u001b[38;5;250m\u001b[39m\u001b[38;5;124;03m\"\"\"Executes the query representing this DataFrame and returns the result as a\u001b[39;00m\n\u001b[1;32m    582\u001b[0m \u001b[38;5;124;03mlist of :class:`Row` objects.\u001b[39;00m\n\u001b[1;32m    583\u001b[0m \n\u001b[0;32m   (...)\u001b[0m\n\u001b[1;32m    593\u001b[0m \u001b[38;5;124;03m    :meth:`collect_nowait()`\u001b[39;00m\n\u001b[1;32m    594\u001b[0m \u001b[38;5;124;03m\"\"\"\u001b[39;00m\n\u001b[1;32m    595\u001b[0m \u001b[38;5;28;01mwith\u001b[39;00m open_telemetry_context_manager(\u001b[38;5;28mself\u001b[39m\u001b[38;5;241m.\u001b[39mcollect, \u001b[38;5;28mself\u001b[39m):\n\u001b[0;32m--> 596\u001b[0m     \u001b[38;5;28;01mreturn\u001b[39;00m \u001b[38;5;28;43mself\u001b[39;49m\u001b[38;5;241;43m.\u001b[39;49m\u001b[43m_internal_collect_with_tag_no_telemetry\u001b[49m\u001b[43m(\u001b[49m\n\u001b[1;32m    597\u001b[0m \u001b[43m        \u001b[49m\u001b[43mstatement_params\u001b[49m\u001b[38;5;241;43m=\u001b[39;49m\u001b[43mstatement_params\u001b[49m\u001b[43m,\u001b[49m\n\u001b[1;32m    598\u001b[0m \u001b[43m        \u001b[49m\u001b[43mblock\u001b[49m\u001b[38;5;241;43m=\u001b[39;49m\u001b[43mblock\u001b[49m\u001b[43m,\u001b[49m\n\u001b[1;32m    599\u001b[0m \u001b[43m        \u001b[49m\u001b[43mlog_on_exception\u001b[49m\u001b[38;5;241;43m=\u001b[39;49m\u001b[43mlog_on_exception\u001b[49m\u001b[43m,\u001b[49m\n\u001b[1;32m    600\u001b[0m \u001b[43m        \u001b[49m\u001b[43mcase_sensitive\u001b[49m\u001b[38;5;241;43m=\u001b[39;49m\u001b[43mcase_sensitive\u001b[49m\u001b[43m,\u001b[49m\n\u001b[1;32m    601\u001b[0m \u001b[43m    \u001b[49m\u001b[43m)\u001b[49m\n",
      "File \u001b[0;32m/opt/conda/lib/python3.9/site-packages/snowflake/snowpark/dataframe.py:644\u001b[0m, in \u001b[0;36mDataFrame._internal_collect_with_tag_no_telemetry\u001b[0;34m(self, statement_params, block, data_type, log_on_exception, case_sensitive)\u001b[0m\n\u001b[1;32m    632\u001b[0m \u001b[38;5;28;01mdef\u001b[39;00m \u001b[38;5;21m_internal_collect_with_tag_no_telemetry\u001b[39m(\n\u001b[1;32m    633\u001b[0m     \u001b[38;5;28mself\u001b[39m,\n\u001b[1;32m    634\u001b[0m     \u001b[38;5;241m*\u001b[39m,\n\u001b[0;32m   (...)\u001b[0m\n\u001b[1;32m    642\u001b[0m     \u001b[38;5;66;03m# we should always call this method instead of collect(), to make sure the\u001b[39;00m\n\u001b[1;32m    643\u001b[0m     \u001b[38;5;66;03m# query tag is set properly.\u001b[39;00m\n\u001b[0;32m--> 644\u001b[0m     \u001b[38;5;28;01mreturn\u001b[39;00m \u001b[38;5;28;43mself\u001b[39;49m\u001b[38;5;241;43m.\u001b[39;49m\u001b[43m_session\u001b[49m\u001b[38;5;241;43m.\u001b[39;49m\u001b[43m_conn\u001b[49m\u001b[38;5;241;43m.\u001b[39;49m\u001b[43mexecute\u001b[49m\u001b[43m(\u001b[49m\n\u001b[1;32m    645\u001b[0m \u001b[43m        \u001b[49m\u001b[38;5;28;43mself\u001b[39;49m\u001b[38;5;241;43m.\u001b[39;49m\u001b[43m_plan\u001b[49m\u001b[43m,\u001b[49m\n\u001b[1;32m    646\u001b[0m \u001b[43m        \u001b[49m\u001b[43mblock\u001b[49m\u001b[38;5;241;43m=\u001b[39;49m\u001b[43mblock\u001b[49m\u001b[43m,\u001b[49m\n\u001b[1;32m    647\u001b[0m \u001b[43m        \u001b[49m\u001b[43mdata_type\u001b[49m\u001b[38;5;241;43m=\u001b[39;49m\u001b[43mdata_type\u001b[49m\u001b[43m,\u001b[49m\n\u001b[1;32m    648\u001b[0m \u001b[43m        \u001b[49m\u001b[43m_statement_params\u001b[49m\u001b[38;5;241;43m=\u001b[39;49m\u001b[43mcreate_or_update_statement_params_with_query_tag\u001b[49m\u001b[43m(\u001b[49m\n\u001b[1;32m    649\u001b[0m \u001b[43m            \u001b[49m\u001b[43mstatement_params\u001b[49m\u001b[43m \u001b[49m\u001b[38;5;129;43;01mor\u001b[39;49;00m\u001b[43m \u001b[49m\u001b[38;5;28;43mself\u001b[39;49m\u001b[38;5;241;43m.\u001b[39;49m\u001b[43m_statement_params\u001b[49m\u001b[43m,\u001b[49m\n\u001b[1;32m    650\u001b[0m \u001b[43m            \u001b[49m\u001b[38;5;28;43mself\u001b[39;49m\u001b[38;5;241;43m.\u001b[39;49m\u001b[43m_session\u001b[49m\u001b[38;5;241;43m.\u001b[39;49m\u001b[43mquery_tag\u001b[49m\u001b[43m,\u001b[49m\n\u001b[1;32m    651\u001b[0m \u001b[43m            \u001b[49m\u001b[43mSKIP_LEVELS_THREE\u001b[49m\u001b[43m,\u001b[49m\n\u001b[1;32m    652\u001b[0m \u001b[43m        \u001b[49m\u001b[43m)\u001b[49m\u001b[43m,\u001b[49m\n\u001b[1;32m    653\u001b[0m \u001b[43m        \u001b[49m\u001b[43mlog_on_exception\u001b[49m\u001b[38;5;241;43m=\u001b[39;49m\u001b[43mlog_on_exception\u001b[49m\u001b[43m,\u001b[49m\n\u001b[1;32m    654\u001b[0m \u001b[43m        \u001b[49m\u001b[43mcase_sensitive\u001b[49m\u001b[38;5;241;43m=\u001b[39;49m\u001b[43mcase_sensitive\u001b[49m\u001b[43m,\u001b[49m\n\u001b[1;32m    655\u001b[0m \u001b[43m    \u001b[49m\u001b[43m)\u001b[49m\n",
      "File \u001b[0;32m/opt/conda/lib/python3.9/site-packages/snowflake/snowpark/_internal/server_connection.py:513\u001b[0m, in \u001b[0;36mServerConnection.execute\u001b[0;34m(self, plan, to_pandas, to_iter, block, data_type, log_on_exception, case_sensitive, **kwargs)\u001b[0m\n\u001b[1;32m    503\u001b[0m \u001b[38;5;28;01mif\u001b[39;00m (\n\u001b[1;32m    504\u001b[0m     is_in_stored_procedure()\n\u001b[1;32m    505\u001b[0m     \u001b[38;5;129;01mand\u001b[39;00m \u001b[38;5;129;01mnot\u001b[39;00m block\n\u001b[0;32m   (...)\u001b[0m\n\u001b[1;32m    508\u001b[0m     )\n\u001b[1;32m    509\u001b[0m ):  \u001b[38;5;66;03m# pragma: no cover\u001b[39;00m\n\u001b[1;32m    510\u001b[0m     \u001b[38;5;28;01mraise\u001b[39;00m \u001b[38;5;167;01mNotImplementedError\u001b[39;00m(\n\u001b[1;32m    511\u001b[0m         \u001b[38;5;124m\"\u001b[39m\u001b[38;5;124mAsync query is not supported in stored procedure yet\u001b[39m\u001b[38;5;124m\"\u001b[39m\n\u001b[1;32m    512\u001b[0m     )\n\u001b[0;32m--> 513\u001b[0m result_set, result_meta \u001b[38;5;241m=\u001b[39m \u001b[38;5;28;43mself\u001b[39;49m\u001b[38;5;241;43m.\u001b[39;49m\u001b[43mget_result_set\u001b[49m\u001b[43m(\u001b[49m\n\u001b[1;32m    514\u001b[0m \u001b[43m    \u001b[49m\u001b[43mplan\u001b[49m\u001b[43m,\u001b[49m\n\u001b[1;32m    515\u001b[0m \u001b[43m    \u001b[49m\u001b[43mto_pandas\u001b[49m\u001b[43m,\u001b[49m\n\u001b[1;32m    516\u001b[0m \u001b[43m    \u001b[49m\u001b[43mto_iter\u001b[49m\u001b[43m,\u001b[49m\n\u001b[1;32m    517\u001b[0m \u001b[43m    \u001b[49m\u001b[38;5;241;43m*\u001b[39;49m\u001b[38;5;241;43m*\u001b[39;49m\u001b[43mkwargs\u001b[49m\u001b[43m,\u001b[49m\n\u001b[1;32m    518\u001b[0m \u001b[43m    \u001b[49m\u001b[43mblock\u001b[49m\u001b[38;5;241;43m=\u001b[39;49m\u001b[43mblock\u001b[49m\u001b[43m,\u001b[49m\n\u001b[1;32m    519\u001b[0m \u001b[43m    \u001b[49m\u001b[43mdata_type\u001b[49m\u001b[38;5;241;43m=\u001b[39;49m\u001b[43mdata_type\u001b[49m\u001b[43m,\u001b[49m\n\u001b[1;32m    520\u001b[0m \u001b[43m    \u001b[49m\u001b[43mlog_on_exception\u001b[49m\u001b[38;5;241;43m=\u001b[39;49m\u001b[43mlog_on_exception\u001b[49m\u001b[43m,\u001b[49m\n\u001b[1;32m    521\u001b[0m \u001b[43m    \u001b[49m\u001b[43mcase_sensitive\u001b[49m\u001b[38;5;241;43m=\u001b[39;49m\u001b[43mcase_sensitive\u001b[49m\u001b[43m,\u001b[49m\n\u001b[1;32m    522\u001b[0m \u001b[43m\u001b[49m\u001b[43m)\u001b[49m\n\u001b[1;32m    523\u001b[0m \u001b[38;5;28;01mif\u001b[39;00m \u001b[38;5;129;01mnot\u001b[39;00m block:\n\u001b[1;32m    524\u001b[0m     \u001b[38;5;28;01mreturn\u001b[39;00m result_set\n",
      "File \u001b[0;32m/opt/conda/lib/python3.9/site-packages/snowflake/snowpark/_internal/analyzer/snowflake_plan.py:195\u001b[0m, in \u001b[0;36mSnowflakePlan.Decorator.wrap_exception.<locals>.wrap\u001b[0;34m(*args, **kwargs)\u001b[0m\n\u001b[1;32m    191\u001b[0m \u001b[38;5;28;01melse\u001b[39;00m:\n\u001b[1;32m    192\u001b[0m     ne \u001b[38;5;241m=\u001b[39m SnowparkClientExceptionMessages\u001b[38;5;241m.\u001b[39mSQL_EXCEPTION_FROM_PROGRAMMING_ERROR(\n\u001b[1;32m    193\u001b[0m         e\n\u001b[1;32m    194\u001b[0m     )\n\u001b[0;32m--> 195\u001b[0m     \u001b[38;5;28;01mraise\u001b[39;00m ne\u001b[38;5;241m.\u001b[39mwith_traceback(tb) \u001b[38;5;28;01mfrom\u001b[39;00m \u001b[38;5;28;01mNone\u001b[39;00m\n",
      "File \u001b[0;32m/opt/conda/lib/python3.9/site-packages/snowflake/snowpark/_internal/analyzer/snowflake_plan.py:126\u001b[0m, in \u001b[0;36mSnowflakePlan.Decorator.wrap_exception.<locals>.wrap\u001b[0;34m(*args, **kwargs)\u001b[0m\n\u001b[1;32m    124\u001b[0m \u001b[38;5;28;01mdef\u001b[39;00m \u001b[38;5;21mwrap\u001b[39m(\u001b[38;5;241m*\u001b[39margs, \u001b[38;5;241m*\u001b[39m\u001b[38;5;241m*\u001b[39mkwargs):\n\u001b[1;32m    125\u001b[0m     \u001b[38;5;28;01mtry\u001b[39;00m:\n\u001b[0;32m--> 126\u001b[0m         \u001b[38;5;28;01mreturn\u001b[39;00m \u001b[43mfunc\u001b[49m\u001b[43m(\u001b[49m\u001b[38;5;241;43m*\u001b[39;49m\u001b[43margs\u001b[49m\u001b[43m,\u001b[49m\u001b[43m \u001b[49m\u001b[38;5;241;43m*\u001b[39;49m\u001b[38;5;241;43m*\u001b[39;49m\u001b[43mkwargs\u001b[49m\u001b[43m)\u001b[49m\n\u001b[1;32m    127\u001b[0m     \u001b[38;5;28;01mexcept\u001b[39;00m snowflake\u001b[38;5;241m.\u001b[39mconnector\u001b[38;5;241m.\u001b[39merrors\u001b[38;5;241m.\u001b[39mProgrammingError \u001b[38;5;28;01mas\u001b[39;00m e:\n\u001b[1;32m    128\u001b[0m         query \u001b[38;5;241m=\u001b[39m \u001b[38;5;28mgetattr\u001b[39m(e, \u001b[38;5;124m\"\u001b[39m\u001b[38;5;124mquery\u001b[39m\u001b[38;5;124m\"\u001b[39m, \u001b[38;5;28;01mNone\u001b[39;00m)\n",
      "File \u001b[0;32m/opt/conda/lib/python3.9/site-packages/snowflake/snowpark/_internal/server_connection.py:617\u001b[0m, in \u001b[0;36mServerConnection.get_result_set\u001b[0;34m(self, plan, to_pandas, to_iter, block, data_type, log_on_exception, case_sensitive, ignore_results, **kwargs)\u001b[0m\n\u001b[1;32m    615\u001b[0m \u001b[38;5;28;01mfor\u001b[39;00m holder, id_ \u001b[38;5;129;01min\u001b[39;00m placeholders\u001b[38;5;241m.\u001b[39mitems():\n\u001b[1;32m    616\u001b[0m     final_query \u001b[38;5;241m=\u001b[39m final_query\u001b[38;5;241m.\u001b[39mreplace(holder, id_)\n\u001b[0;32m--> 617\u001b[0m result \u001b[38;5;241m=\u001b[39m \u001b[38;5;28;43mself\u001b[39;49m\u001b[38;5;241;43m.\u001b[39;49m\u001b[43mrun_query\u001b[49m\u001b[43m(\u001b[49m\n\u001b[1;32m    618\u001b[0m \u001b[43m    \u001b[49m\u001b[43mfinal_query\u001b[49m\u001b[43m,\u001b[49m\n\u001b[1;32m    619\u001b[0m \u001b[43m    \u001b[49m\u001b[43mto_pandas\u001b[49m\u001b[43m,\u001b[49m\n\u001b[1;32m    620\u001b[0m \u001b[43m    \u001b[49m\u001b[43mto_iter\u001b[49m\u001b[43m \u001b[49m\u001b[38;5;129;43;01mand\u001b[39;49;00m\u001b[43m \u001b[49m\u001b[43m(\u001b[49m\u001b[43mi\u001b[49m\u001b[43m \u001b[49m\u001b[38;5;241;43m==\u001b[39;49m\u001b[43m \u001b[49m\u001b[38;5;28;43mlen\u001b[39;49m\u001b[43m(\u001b[49m\u001b[43mplan\u001b[49m\u001b[38;5;241;43m.\u001b[39;49m\u001b[43mqueries\u001b[49m\u001b[43m)\u001b[49m\u001b[43m \u001b[49m\u001b[38;5;241;43m-\u001b[39;49m\u001b[43m \u001b[49m\u001b[38;5;241;43m1\u001b[39;49m\u001b[43m)\u001b[49m\u001b[43m,\u001b[49m\n\u001b[1;32m    621\u001b[0m \u001b[43m    \u001b[49m\u001b[43mis_ddl_on_temp_object\u001b[49m\u001b[38;5;241;43m=\u001b[39;49m\u001b[43mquery\u001b[49m\u001b[38;5;241;43m.\u001b[39;49m\u001b[43mis_ddl_on_temp_object\u001b[49m\u001b[43m,\u001b[49m\n\u001b[1;32m    622\u001b[0m \u001b[43m    \u001b[49m\u001b[43mblock\u001b[49m\u001b[38;5;241;43m=\u001b[39;49m\u001b[38;5;129;43;01mnot\u001b[39;49;00m\u001b[43m \u001b[49m\u001b[43mis_last\u001b[49m\u001b[43m,\u001b[49m\n\u001b[1;32m    623\u001b[0m \u001b[43m    \u001b[49m\u001b[43mdata_type\u001b[49m\u001b[38;5;241;43m=\u001b[39;49m\u001b[43mdata_type\u001b[49m\u001b[43m,\u001b[49m\n\u001b[1;32m    624\u001b[0m \u001b[43m    \u001b[49m\u001b[43masync_job_plan\u001b[49m\u001b[38;5;241;43m=\u001b[39;49m\u001b[43mplan\u001b[49m\u001b[43m,\u001b[49m\n\u001b[1;32m    625\u001b[0m \u001b[43m    \u001b[49m\u001b[43mlog_on_exception\u001b[49m\u001b[38;5;241;43m=\u001b[39;49m\u001b[43mlog_on_exception\u001b[49m\u001b[43m,\u001b[49m\n\u001b[1;32m    626\u001b[0m \u001b[43m    \u001b[49m\u001b[43mcase_sensitive\u001b[49m\u001b[38;5;241;43m=\u001b[39;49m\u001b[43mcase_sensitive\u001b[49m\u001b[43m,\u001b[49m\n\u001b[1;32m    627\u001b[0m \u001b[43m    \u001b[49m\u001b[43mparams\u001b[49m\u001b[38;5;241;43m=\u001b[39;49m\u001b[43mquery\u001b[49m\u001b[38;5;241;43m.\u001b[39;49m\u001b[43mparams\u001b[49m\u001b[43m,\u001b[49m\n\u001b[1;32m    628\u001b[0m \u001b[43m    \u001b[49m\u001b[43mignore_results\u001b[49m\u001b[38;5;241;43m=\u001b[39;49m\u001b[43mignore_results\u001b[49m\u001b[43m,\u001b[49m\n\u001b[1;32m    629\u001b[0m \u001b[43m    \u001b[49m\u001b[38;5;241;43m*\u001b[39;49m\u001b[38;5;241;43m*\u001b[39;49m\u001b[43mkwargs\u001b[49m\u001b[43m,\u001b[49m\n\u001b[1;32m    630\u001b[0m \u001b[43m\u001b[49m\u001b[43m)\u001b[49m\n\u001b[1;32m    631\u001b[0m placeholders[query\u001b[38;5;241m.\u001b[39mquery_id_place_holder] \u001b[38;5;241m=\u001b[39m (\n\u001b[1;32m    632\u001b[0m     result[\u001b[38;5;124m\"\u001b[39m\u001b[38;5;124msfqid\u001b[39m\u001b[38;5;124m\"\u001b[39m] \u001b[38;5;28;01mif\u001b[39;00m \u001b[38;5;129;01mnot\u001b[39;00m is_last \u001b[38;5;28;01melse\u001b[39;00m result\u001b[38;5;241m.\u001b[39mquery_id\n\u001b[1;32m    633\u001b[0m )\n\u001b[1;32m    634\u001b[0m result_meta \u001b[38;5;241m=\u001b[39m get_new_description(\u001b[38;5;28mself\u001b[39m\u001b[38;5;241m.\u001b[39m_cursor)\n",
      "File \u001b[0;32m/opt/conda/lib/python3.9/site-packages/snowflake/snowpark/_internal/server_connection.py:123\u001b[0m, in \u001b[0;36mServerConnection._Decorator.wrap_exception.<locals>.wrap\u001b[0;34m(*args, **kwargs)\u001b[0m\n\u001b[1;32m    119\u001b[0m     \u001b[38;5;28;01mraise\u001b[39;00m SnowparkClientExceptionMessages\u001b[38;5;241m.\u001b[39mSERVER_SESSION_EXPIRED(\n\u001b[1;32m    120\u001b[0m         ex\u001b[38;5;241m.\u001b[39mcause\n\u001b[1;32m    121\u001b[0m     )\n\u001b[1;32m    122\u001b[0m \u001b[38;5;28;01mexcept\u001b[39;00m \u001b[38;5;167;01mException\u001b[39;00m \u001b[38;5;28;01mas\u001b[39;00m ex:\n\u001b[0;32m--> 123\u001b[0m     \u001b[38;5;28;01mraise\u001b[39;00m ex\n",
      "File \u001b[0;32m/opt/conda/lib/python3.9/site-packages/snowflake/snowpark/_internal/server_connection.py:117\u001b[0m, in \u001b[0;36mServerConnection._Decorator.wrap_exception.<locals>.wrap\u001b[0;34m(*args, **kwargs)\u001b[0m\n\u001b[1;32m    115\u001b[0m     \u001b[38;5;28;01mraise\u001b[39;00m SnowparkClientExceptionMessages\u001b[38;5;241m.\u001b[39mSERVER_SESSION_HAS_BEEN_CLOSED()\n\u001b[1;32m    116\u001b[0m \u001b[38;5;28;01mtry\u001b[39;00m:\n\u001b[0;32m--> 117\u001b[0m     \u001b[38;5;28;01mreturn\u001b[39;00m \u001b[43mfunc\u001b[49m\u001b[43m(\u001b[49m\u001b[38;5;241;43m*\u001b[39;49m\u001b[43margs\u001b[49m\u001b[43m,\u001b[49m\u001b[43m \u001b[49m\u001b[38;5;241;43m*\u001b[39;49m\u001b[38;5;241;43m*\u001b[39;49m\u001b[43mkwargs\u001b[49m\u001b[43m)\u001b[49m\n\u001b[1;32m    118\u001b[0m \u001b[38;5;28;01mexcept\u001b[39;00m ReauthenticationRequest \u001b[38;5;28;01mas\u001b[39;00m ex:\n\u001b[1;32m    119\u001b[0m     \u001b[38;5;28;01mraise\u001b[39;00m SnowparkClientExceptionMessages\u001b[38;5;241m.\u001b[39mSERVER_SESSION_EXPIRED(\n\u001b[1;32m    120\u001b[0m         ex\u001b[38;5;241m.\u001b[39mcause\n\u001b[1;32m    121\u001b[0m     )\n",
      "File \u001b[0;32m/opt/conda/lib/python3.9/site-packages/snowflake/snowpark/_internal/server_connection.py:418\u001b[0m, in \u001b[0;36mServerConnection.run_query\u001b[0;34m(self, query, to_pandas, to_iter, is_ddl_on_temp_object, block, data_type, async_job_plan, log_on_exception, case_sensitive, params, num_statements, ignore_results, **kwargs)\u001b[0m\n\u001b[1;32m    416\u001b[0m         query_id_log \u001b[38;5;241m=\u001b[39m \u001b[38;5;124mf\u001b[39m\u001b[38;5;124m\"\u001b[39m\u001b[38;5;124m [queryID: \u001b[39m\u001b[38;5;132;01m{\u001b[39;00mex\u001b[38;5;241m.\u001b[39msfqid\u001b[38;5;132;01m}\u001b[39;00m\u001b[38;5;124m]\u001b[39m\u001b[38;5;124m\"\u001b[39m \u001b[38;5;28;01mif\u001b[39;00m \u001b[38;5;28mhasattr\u001b[39m(ex, \u001b[38;5;124m\"\u001b[39m\u001b[38;5;124msfqid\u001b[39m\u001b[38;5;124m\"\u001b[39m) \u001b[38;5;28;01melse\u001b[39;00m \u001b[38;5;124m\"\u001b[39m\u001b[38;5;124m\"\u001b[39m\n\u001b[1;32m    417\u001b[0m         logger\u001b[38;5;241m.\u001b[39merror(\u001b[38;5;124mf\u001b[39m\u001b[38;5;124m\"\u001b[39m\u001b[38;5;124mFailed to execute query\u001b[39m\u001b[38;5;132;01m{\u001b[39;00mquery_id_log\u001b[38;5;132;01m}\u001b[39;00m\u001b[38;5;124m \u001b[39m\u001b[38;5;132;01m{\u001b[39;00mquery\u001b[38;5;132;01m}\u001b[39;00m\u001b[38;5;130;01m\\n\u001b[39;00m\u001b[38;5;132;01m{\u001b[39;00mex\u001b[38;5;132;01m}\u001b[39;00m\u001b[38;5;124m\"\u001b[39m)\n\u001b[0;32m--> 418\u001b[0m     \u001b[38;5;28;01mraise\u001b[39;00m ex\n\u001b[1;32m    420\u001b[0m \u001b[38;5;66;03m# fetch_pandas_all/batches() only works for SELECT statements\u001b[39;00m\n\u001b[1;32m    421\u001b[0m \u001b[38;5;66;03m# We call fetchall() if fetch_pandas_all/batches() fails,\u001b[39;00m\n\u001b[1;32m    422\u001b[0m \u001b[38;5;66;03m# because when the query plan has multiple queries, it will\u001b[39;00m\n\u001b[1;32m    423\u001b[0m \u001b[38;5;66;03m# have non-select statements, and it shouldn't fail if the user\u001b[39;00m\n\u001b[1;32m    424\u001b[0m \u001b[38;5;66;03m# calls to_pandas() to execute the query.\u001b[39;00m\n\u001b[1;32m    425\u001b[0m \u001b[38;5;28;01mif\u001b[39;00m block:\n",
      "File \u001b[0;32m/opt/conda/lib/python3.9/site-packages/snowflake/snowpark/_internal/server_connection.py:403\u001b[0m, in \u001b[0;36mServerConnection.run_query\u001b[0;34m(self, query, to_pandas, to_iter, is_ddl_on_temp_object, block, data_type, async_job_plan, log_on_exception, case_sensitive, params, num_statements, ignore_results, **kwargs)\u001b[0m\n\u001b[1;32m    401\u001b[0m     kwargs[\u001b[38;5;124m\"\u001b[39m\u001b[38;5;124m_statement_params\u001b[39m\u001b[38;5;124m\"\u001b[39m][\u001b[38;5;124m\"\u001b[39m\u001b[38;5;124mSNOWPARK_SKIP_TXN_COMMIT_IN_DDL\u001b[39m\u001b[38;5;124m\"\u001b[39m] \u001b[38;5;241m=\u001b[39m \u001b[38;5;28;01mTrue\u001b[39;00m\n\u001b[1;32m    402\u001b[0m \u001b[38;5;28;01mif\u001b[39;00m block:\n\u001b[0;32m--> 403\u001b[0m     results_cursor \u001b[38;5;241m=\u001b[39m \u001b[38;5;28;43mself\u001b[39;49m\u001b[38;5;241;43m.\u001b[39;49m\u001b[43mexecute_and_notify_query_listener\u001b[49m\u001b[43m(\u001b[49m\n\u001b[1;32m    404\u001b[0m \u001b[43m        \u001b[49m\u001b[43mquery\u001b[49m\u001b[43m,\u001b[49m\u001b[43m \u001b[49m\u001b[43mparams\u001b[49m\u001b[38;5;241;43m=\u001b[39;49m\u001b[43mparams\u001b[49m\u001b[43m,\u001b[49m\u001b[43m \u001b[49m\u001b[38;5;241;43m*\u001b[39;49m\u001b[38;5;241;43m*\u001b[39;49m\u001b[43mkwargs\u001b[49m\n\u001b[1;32m    405\u001b[0m \u001b[43m    \u001b[49m\u001b[43m)\u001b[49m\n\u001b[1;32m    406\u001b[0m     logger\u001b[38;5;241m.\u001b[39mdebug(\u001b[38;5;124mf\u001b[39m\u001b[38;5;124m\"\u001b[39m\u001b[38;5;124mExecute query [queryID: \u001b[39m\u001b[38;5;132;01m{\u001b[39;00mresults_cursor\u001b[38;5;241m.\u001b[39msfqid\u001b[38;5;132;01m}\u001b[39;00m\u001b[38;5;124m] \u001b[39m\u001b[38;5;132;01m{\u001b[39;00mquery\u001b[38;5;132;01m}\u001b[39;00m\u001b[38;5;124m\"\u001b[39m)\n\u001b[1;32m    407\u001b[0m \u001b[38;5;28;01melse\u001b[39;00m:\n",
      "File \u001b[0;32m/opt/conda/lib/python3.9/site-packages/snowflake/snowpark/_internal/server_connection.py:354\u001b[0m, in \u001b[0;36mServerConnection.execute_and_notify_query_listener\u001b[0;34m(self, query, **kwargs)\u001b[0m\n\u001b[1;32m    351\u001b[0m \u001b[38;5;28;01mdef\u001b[39;00m \u001b[38;5;21mexecute_and_notify_query_listener\u001b[39m(\n\u001b[1;32m    352\u001b[0m     \u001b[38;5;28mself\u001b[39m, query: \u001b[38;5;28mstr\u001b[39m, \u001b[38;5;241m*\u001b[39m\u001b[38;5;241m*\u001b[39mkwargs: Any\n\u001b[1;32m    353\u001b[0m ) \u001b[38;5;241m-\u001b[39m\u001b[38;5;241m>\u001b[39m SnowflakeCursor:\n\u001b[0;32m--> 354\u001b[0m     results_cursor \u001b[38;5;241m=\u001b[39m \u001b[38;5;28;43mself\u001b[39;49m\u001b[38;5;241;43m.\u001b[39;49m\u001b[43m_cursor\u001b[49m\u001b[38;5;241;43m.\u001b[39;49m\u001b[43mexecute\u001b[49m\u001b[43m(\u001b[49m\u001b[43mquery\u001b[49m\u001b[43m,\u001b[49m\u001b[43m \u001b[49m\u001b[38;5;241;43m*\u001b[39;49m\u001b[38;5;241;43m*\u001b[39;49m\u001b[43mkwargs\u001b[49m\u001b[43m)\u001b[49m\n\u001b[1;32m    355\u001b[0m     \u001b[38;5;28mself\u001b[39m\u001b[38;5;241m.\u001b[39mnotify_query_listeners(\n\u001b[1;32m    356\u001b[0m         QueryRecord(results_cursor\u001b[38;5;241m.\u001b[39msfqid, results_cursor\u001b[38;5;241m.\u001b[39mquery)\n\u001b[1;32m    357\u001b[0m     )\n\u001b[1;32m    358\u001b[0m     \u001b[38;5;28;01mreturn\u001b[39;00m results_cursor\n",
      "File \u001b[0;32m/opt/conda/lib/python3.9/site-packages/snowflake/connector/cursor.py:1087\u001b[0m, in \u001b[0;36mSnowflakeCursor.execute\u001b[0;34m(self, command, params, _bind_stage, timeout, _exec_async, _no_retry, _do_reset, _put_callback, _put_azure_callback, _put_callback_output_stream, _get_callback, _get_azure_callback, _get_callback_output_stream, _show_progress_bar, _statement_params, _is_internal, _describe_only, _no_results, _is_put_get, _raise_put_get_error, _force_put_overwrite, _skip_upload_on_content_match, file_stream, num_statements, _dataframe_ast)\u001b[0m\n\u001b[1;32m   1083\u001b[0m     is_integrity_error \u001b[38;5;241m=\u001b[39m (\n\u001b[1;32m   1084\u001b[0m         code \u001b[38;5;241m==\u001b[39m \u001b[38;5;124m\"\u001b[39m\u001b[38;5;124m100072\u001b[39m\u001b[38;5;124m\"\u001b[39m\n\u001b[1;32m   1085\u001b[0m     )  \u001b[38;5;66;03m# NULL result in a non-nullable column\u001b[39;00m\n\u001b[1;32m   1086\u001b[0m     error_class \u001b[38;5;241m=\u001b[39m IntegrityError \u001b[38;5;28;01mif\u001b[39;00m is_integrity_error \u001b[38;5;28;01melse\u001b[39;00m ProgrammingError\n\u001b[0;32m-> 1087\u001b[0m     \u001b[43mError\u001b[49m\u001b[38;5;241;43m.\u001b[39;49m\u001b[43merrorhandler_wrapper\u001b[49m\u001b[43m(\u001b[49m\u001b[38;5;28;43mself\u001b[39;49m\u001b[38;5;241;43m.\u001b[39;49m\u001b[43mconnection\u001b[49m\u001b[43m,\u001b[49m\u001b[43m \u001b[49m\u001b[38;5;28;43mself\u001b[39;49m\u001b[43m,\u001b[49m\u001b[43m \u001b[49m\u001b[43merror_class\u001b[49m\u001b[43m,\u001b[49m\u001b[43m \u001b[49m\u001b[43merrvalue\u001b[49m\u001b[43m)\u001b[49m\n\u001b[1;32m   1088\u001b[0m \u001b[38;5;28;01mreturn\u001b[39;00m \u001b[38;5;28mself\u001b[39m\n",
      "File \u001b[0;32m/opt/conda/lib/python3.9/site-packages/snowflake/connector/errors.py:290\u001b[0m, in \u001b[0;36mError.errorhandler_wrapper\u001b[0;34m(connection, cursor, error_class, error_value)\u001b[0m\n\u001b[1;32m    267\u001b[0m \u001b[38;5;129m@staticmethod\u001b[39m\n\u001b[1;32m    268\u001b[0m \u001b[38;5;28;01mdef\u001b[39;00m \u001b[38;5;21merrorhandler_wrapper\u001b[39m(\n\u001b[1;32m    269\u001b[0m     connection: SnowflakeConnection \u001b[38;5;241m|\u001b[39m \u001b[38;5;28;01mNone\u001b[39;00m,\n\u001b[0;32m   (...)\u001b[0m\n\u001b[1;32m    272\u001b[0m     error_value: \u001b[38;5;28mdict\u001b[39m[\u001b[38;5;28mstr\u001b[39m, Any],\n\u001b[1;32m    273\u001b[0m ) \u001b[38;5;241m-\u001b[39m\u001b[38;5;241m>\u001b[39m \u001b[38;5;28;01mNone\u001b[39;00m:\n\u001b[1;32m    274\u001b[0m \u001b[38;5;250m    \u001b[39m\u001b[38;5;124;03m\"\"\"Error handler wrapper that calls the errorhandler method.\u001b[39;00m\n\u001b[1;32m    275\u001b[0m \n\u001b[1;32m    276\u001b[0m \u001b[38;5;124;03m    Args:\u001b[39;00m\n\u001b[0;32m   (...)\u001b[0m\n\u001b[1;32m    287\u001b[0m \u001b[38;5;124;03m        exception to the first handler in that order.\u001b[39;00m\n\u001b[1;32m    288\u001b[0m \u001b[38;5;124;03m    \"\"\"\u001b[39;00m\n\u001b[0;32m--> 290\u001b[0m     handed_over \u001b[38;5;241m=\u001b[39m \u001b[43mError\u001b[49m\u001b[38;5;241;43m.\u001b[39;49m\u001b[43mhand_to_other_handler\u001b[49m\u001b[43m(\u001b[49m\n\u001b[1;32m    291\u001b[0m \u001b[43m        \u001b[49m\u001b[43mconnection\u001b[49m\u001b[43m,\u001b[49m\n\u001b[1;32m    292\u001b[0m \u001b[43m        \u001b[49m\u001b[43mcursor\u001b[49m\u001b[43m,\u001b[49m\n\u001b[1;32m    293\u001b[0m \u001b[43m        \u001b[49m\u001b[43merror_class\u001b[49m\u001b[43m,\u001b[49m\n\u001b[1;32m    294\u001b[0m \u001b[43m        \u001b[49m\u001b[43merror_value\u001b[49m\u001b[43m,\u001b[49m\n\u001b[1;32m    295\u001b[0m \u001b[43m    \u001b[49m\u001b[43m)\u001b[49m\n\u001b[1;32m    296\u001b[0m     \u001b[38;5;28;01mif\u001b[39;00m \u001b[38;5;129;01mnot\u001b[39;00m handed_over:\n\u001b[1;32m    297\u001b[0m         \u001b[38;5;28;01mraise\u001b[39;00m Error\u001b[38;5;241m.\u001b[39merrorhandler_make_exception(\n\u001b[1;32m    298\u001b[0m             error_class,\n\u001b[1;32m    299\u001b[0m             error_value,\n\u001b[1;32m    300\u001b[0m         )\n",
      "File \u001b[0;32m/opt/conda/lib/python3.9/site-packages/snowflake/connector/errors.py:345\u001b[0m, in \u001b[0;36mError.hand_to_other_handler\u001b[0;34m(connection, cursor, error_class, error_value)\u001b[0m\n\u001b[1;32m    343\u001b[0m \u001b[38;5;28;01mif\u001b[39;00m cursor \u001b[38;5;129;01mis\u001b[39;00m \u001b[38;5;129;01mnot\u001b[39;00m \u001b[38;5;28;01mNone\u001b[39;00m:\n\u001b[1;32m    344\u001b[0m     cursor\u001b[38;5;241m.\u001b[39mmessages\u001b[38;5;241m.\u001b[39mappend((error_class, error_value))\n\u001b[0;32m--> 345\u001b[0m     \u001b[43mcursor\u001b[49m\u001b[38;5;241;43m.\u001b[39;49m\u001b[43merrorhandler\u001b[49m\u001b[43m(\u001b[49m\u001b[43mconnection\u001b[49m\u001b[43m,\u001b[49m\u001b[43m \u001b[49m\u001b[43mcursor\u001b[49m\u001b[43m,\u001b[49m\u001b[43m \u001b[49m\u001b[43merror_class\u001b[49m\u001b[43m,\u001b[49m\u001b[43m \u001b[49m\u001b[43merror_value\u001b[49m\u001b[43m)\u001b[49m\n\u001b[1;32m    346\u001b[0m     \u001b[38;5;28;01mreturn\u001b[39;00m \u001b[38;5;28;01mTrue\u001b[39;00m\n\u001b[1;32m    347\u001b[0m \u001b[38;5;28;01melif\u001b[39;00m connection \u001b[38;5;129;01mis\u001b[39;00m \u001b[38;5;129;01mnot\u001b[39;00m \u001b[38;5;28;01mNone\u001b[39;00m:\n",
      "File \u001b[0;32m/opt/conda/lib/python3.9/site-packages/snowflake/connector/errors.py:221\u001b[0m, in \u001b[0;36mError.default_errorhandler\u001b[0;34m(connection, cursor, error_class, error_value)\u001b[0m\n\u001b[1;32m    219\u001b[0m errno \u001b[38;5;241m=\u001b[39m error_value\u001b[38;5;241m.\u001b[39mget(\u001b[38;5;124m\"\u001b[39m\u001b[38;5;124merrno\u001b[39m\u001b[38;5;124m\"\u001b[39m)\n\u001b[1;32m    220\u001b[0m done_format_msg \u001b[38;5;241m=\u001b[39m error_value\u001b[38;5;241m.\u001b[39mget(\u001b[38;5;124m\"\u001b[39m\u001b[38;5;124mdone_format_msg\u001b[39m\u001b[38;5;124m\"\u001b[39m)\n\u001b[0;32m--> 221\u001b[0m \u001b[38;5;28;01mraise\u001b[39;00m error_class(\n\u001b[1;32m    222\u001b[0m     msg\u001b[38;5;241m=\u001b[39merror_value\u001b[38;5;241m.\u001b[39mget(\u001b[38;5;124m\"\u001b[39m\u001b[38;5;124mmsg\u001b[39m\u001b[38;5;124m\"\u001b[39m),\n\u001b[1;32m    223\u001b[0m     errno\u001b[38;5;241m=\u001b[39m\u001b[38;5;28;01mNone\u001b[39;00m \u001b[38;5;28;01mif\u001b[39;00m errno \u001b[38;5;129;01mis\u001b[39;00m \u001b[38;5;28;01mNone\u001b[39;00m \u001b[38;5;28;01melse\u001b[39;00m \u001b[38;5;28mint\u001b[39m(errno),\n\u001b[1;32m    224\u001b[0m     sqlstate\u001b[38;5;241m=\u001b[39merror_value\u001b[38;5;241m.\u001b[39mget(\u001b[38;5;124m\"\u001b[39m\u001b[38;5;124msqlstate\u001b[39m\u001b[38;5;124m\"\u001b[39m),\n\u001b[1;32m    225\u001b[0m     sfqid\u001b[38;5;241m=\u001b[39merror_value\u001b[38;5;241m.\u001b[39mget(\u001b[38;5;124m\"\u001b[39m\u001b[38;5;124msfqid\u001b[39m\u001b[38;5;124m\"\u001b[39m),\n\u001b[1;32m    226\u001b[0m     query\u001b[38;5;241m=\u001b[39merror_value\u001b[38;5;241m.\u001b[39mget(\u001b[38;5;124m\"\u001b[39m\u001b[38;5;124mquery\u001b[39m\u001b[38;5;124m\"\u001b[39m),\n\u001b[1;32m    227\u001b[0m     done_format_msg\u001b[38;5;241m=\u001b[39m(\n\u001b[1;32m    228\u001b[0m         \u001b[38;5;28;01mNone\u001b[39;00m \u001b[38;5;28;01mif\u001b[39;00m done_format_msg \u001b[38;5;129;01mis\u001b[39;00m \u001b[38;5;28;01mNone\u001b[39;00m \u001b[38;5;28;01melse\u001b[39;00m \u001b[38;5;28mbool\u001b[39m(done_format_msg)\n\u001b[1;32m    229\u001b[0m     ),\n\u001b[1;32m    230\u001b[0m     connection\u001b[38;5;241m=\u001b[39mconnection,\n\u001b[1;32m    231\u001b[0m     cursor\u001b[38;5;241m=\u001b[39mcursor,\n\u001b[1;32m    232\u001b[0m )\n",
      "\u001b[0;31mSnowparkSQLException\u001b[0m: (1304): 01b613a5-0608-e0a8-0072-f3030fb56302: 002043 (02000): SQL compilation error:\nObject does not exist, or operation cannot be performed."
     ]
    }
   ],
   "source": [
    "connection_parameters = connection_params.SnowflakeLoginOptions(\"ak32940\")\n",
    "\n",
    "session = Session.builder.configs(connection_parameters).create()\n",
    "session.sql_simplifier_enabled = True\n",
    "snowflake_environment = session.sql('SELECT current_user(), current_version()').collect()\n",
    "snowpark_version = VERSION\n",
    "\n",
    "# Set  Environment\n",
    "session.sql(f'''use database {tpcxai_database}''').collect()\n",
    "session.sql(f'''use schema {tpcxai_schema}''').collect()\n",
    "session.sql(f'''use role {fs_qs_role}''').collect()\n",
    "\n",
    "# Create a Warehouse\n",
    "warehouse_sz = 'MEDIUM'\n",
    "warehouse_env = f'TPCXAI_{scale_factor}_QUICKSTART_WH'\n",
    "session.sql(f'''use warehouse {warehouse_env}''').collect()\n",
    "session.sql(f'''alter warehouse {warehouse_env} set warehouse_size = {warehouse_sz}''').collect()\n",
    "\n",
    "# Current Environment Details\n",
    "print('\\nConnection Established with the following parameters:')\n",
    "print(f'User                        : {snowflake_environment[0][0]}')\n",
    "print(f'Role                        : {session.get_current_role()}')\n",
    "print(f'Database                    : {session.get_current_database()}')\n",
    "print(f'Schema                      : {session.get_current_schema()}')\n",
    "print(f'Warehouse                   : {session.get_current_warehouse()}')\n",
    "print(f'Snowflake version           : {snowflake_environment[0][1]}')\n",
    "print(f'Snowpark for Python version : {snowpark_version[0]}.{snowpark_version[1]}.{snowpark_version[2]} \\n')"
   ]
  },
  {
   "cell_type": "markdown",
   "metadata": {},
   "source": [
    "### MODEL OPERATIONALISATION\n",
    "* Recreate production Entity, FeatureViews in Production FeatureStore\n",
    "* Reuse the model fitted in development/training\n",
    "* Create new Inference FeatureView for incremental model-inference\n",
    "\n",
    "#### Setup Production Feature Store and references"
   ]
  },
  {
   "cell_type": "code",
   "execution_count": 6,
   "metadata": {
    "metadata": {}
   },
   "outputs": [
    {
     "name": "stdout",
     "output_type": "stream",
     "text": [
      "Model Registry (_MODEL_REGISTRY) already exists\n",
      "Feature Store (_SERVING_FEATURE_STORE) already exists\n",
      "--- Created Data References ---\n"
     ]
    }
   ],
   "source": [
    "# Create/Reference Snowflake Model Registry - Common across Environments\n",
    "mr = create_ModelRegistry(session, tpcxai_database, '_MODEL_REGISTRY')\n",
    "\n",
    "# Create/Reference Snowflake Feature Store for Training (Development) Environment\n",
    "fs = create_FeatureStore(session, tpcxai_database, f'''_{tpcxai_schema}_FEATURE_STORE''', warehouse_env)\n",
    "\n",
    "### Reference Data to Snowflake Dataframe Objects\n",
    "# Tables\n",
    "customer_tbl               = '.'.join([tpcxai_database, tpcxai_schema,'CUSTOMER'])\n",
    "line_item_tbl              = '.'.join([tpcxai_database, tpcxai_schema,'LINEITEM'])\n",
    "order_tbl                  = '.'.join([tpcxai_database, tpcxai_schema,'ORDERS'])\n",
    "order_returns_tbl          = '.'.join([tpcxai_database, tpcxai_schema,'ORDER_RETURNS'])\n",
    "\n",
    "# Snowpark Dataframe\n",
    "customer_sdf               = session.table(customer_tbl)\n",
    "line_item_sdf              = session.table(line_item_tbl)\n",
    "order_sdf                  = session.table(order_tbl)\n",
    "order_returns_sdf          = session.table(order_returns_tbl)\n",
    "print('''--- Created Data References ---''')\n",
    "\n",
    "# Model Name\n",
    "model_name = \"UC01_SNOWFLAKEML_KMEANS_MODEL\"\n"
   ]
  },
  {
   "cell_type": "markdown",
   "metadata": {},
   "source": [
    "We can now rerun the exact same code that we lifted from our Development (TRAINING) process to recreate the Feature Engineering pipelines in production"
   ]
  },
  {
   "cell_type": "code",
   "execution_count": 7,
   "metadata": {},
   "outputs": [
    {
     "name": "stdout",
     "output_type": "stream",
     "text": [
      "--- Created CUSTOMER Entity ---\n",
      "--- Created Source Data ---\n",
      "--- Created Preprocessed Data ---\n",
      "Feature View : FV_UC01_PREPROCESS_V_1 already created in SERVING\n",
      "---            DONE               ---\n"
     ]
    }
   ],
   "source": [
    "### CUSTOMER Entity\n",
    "if \"CUSTOMER\" not in json.loads(fs.list_entities().select(F.to_json(F.array_agg(\"NAME\", True))).collect()[0][0]):\n",
    "    customer_entity = Entity(name=\"CUSTOMER\", join_keys=[\"O_CUSTOMER_SK\"],desc=\"Primary Key for CUSTOMER\")\n",
    "    fs.register_entity(customer_entity)\n",
    "else:\n",
    "    customer_entity = fs.get_entity(\"CUSTOMER\")\n",
    "print('''--- Created CUSTOMER Entity ---''')\n",
    "\n",
    "### Create & Load Source Data\n",
    "raw_data = uc01_load_data(order_sdf, line_item_sdf, order_returns_sdf)\n",
    "rd_sql = formatSQL(raw_data.queries['queries'][0], True)\n",
    "print('''--- Created Source Data ---''')\n",
    "\n",
    "### Create & Run Preprocessing Function \n",
    "preprocessed_data = uc01_pre_process(raw_data)\n",
    "ppd_sql = formatSQL(preprocessed_data.queries['queries'][0], True)\n",
    "print('''--- Created Preprocessed Data ---''')\n",
    "\n",
    "### Create Preprocessing FeatureView from Preprocess Dataframe (SQL)\n",
    "ppd_fv_name = \"FV_UC01_PREPROCESS\"\n",
    "ppd_fv_version = \"V_1\"\n",
    "# Define descriptions for the FeatureView's Features.  These will be added as comments to the database object\n",
    "preprocess_features_desc = { \"FREQUENCY\":\"Average yearly order frequency\",\n",
    "                             \"RETURN_RATIO\":\"Average of, Per Order Returns Ratio.  Per order returns ratio : total returns value / total order value\" }\n",
    "# Create Inference Feature View\n",
    "try:\n",
    "    # If FeatureView already exists just return the reference to it\n",
    "    fv_uc01_preprocess = fs.get_feature_view(name=ppd_fv_name,version=ppd_fv_version)\n",
    "except:\n",
    "    # Create the FeatureView instance\n",
    "    fv_uc01_preprocess_instance = FeatureView(\n",
    "        name=ppd_fv_name, \n",
    "        entities=[customer_entity], \n",
    "        #feature_df=preprocessed_data,      # <- We can use the snowpark dataframe as-is from our Python\n",
    "        feature_df=session.sql(ppd_sql),    # <- Or we can use SQL, in this case linted from the dataframe generated SQL to make more human readable\n",
    "        timestamp_col=\"LATEST_ORDER_DATE\",\n",
    "        refresh_freq=\"60 minute\",           # <- specifying optional refresh_freq creates FeatureView as Dynamic Table, else created as View.\n",
    "        desc=\"Features to support Use Case 01\").attach_feature_desc(preprocess_features_desc)\n",
    "\n",
    "    # Register the FeatureView instance.  Creates  object in Snowflake\n",
    "    fv_uc01_preprocess = fs.register_feature_view(\n",
    "        feature_view=fv_uc01_preprocess_instance, \n",
    "        version=ppd_fv_version, \n",
    "        block=True\n",
    "    )\n",
    "    print(f\"Feature View : {ppd_fv_name}_{ppd_fv_version} created in {tpcxai_schema}\")   \n",
    "else:\n",
    "    print(f\"Feature View : {ppd_fv_name}_{ppd_fv_version} already created in {tpcxai_schema}\")\n",
    "\n",
    "print('''---            DONE               ---''')\n"
   ]
  },
  {
   "cell_type": "markdown",
   "metadata": {},
   "source": [
    "#### Create Scheduled Inference Pipeline\n",
    "\n",
    "We now recreate our model inference process that will\n",
    "- retrieve the latest version of the model from the Model Registry.\n",
    "- read features from our feature pipeline (fv_uc01_preprocess featureview)\n",
    "- pass features & model into inference function (uc01_serve) and return inference dataframe\n",
    "- use inference dataframe to define a new FeatureView to maintain inference process"
   ]
  },
  {
   "cell_type": "code",
   "execution_count": 8,
   "metadata": {
    "metadata": {}
   },
   "outputs": [],
   "source": [
    "def uc01_serve(featurevector, km4_purchases) -> DataFrame:\n",
    "    return km4_purchases.run(featurevector, function_name=\"predict\")"
   ]
  },
  {
   "cell_type": "code",
   "execution_count": 9,
   "metadata": {
    "metadata": {}
   },
   "outputs": [
    {
     "name": "stdout",
     "output_type": "stream",
     "text": [
      "------------------------------------------------------------------------\n",
      "|\"O_CUSTOMER_SK\"  |\"FREQUENCY\"  |\"RETURN_RATIO\"  |\"LATEST_ORDER_DATE\"  |\n",
      "------------------------------------------------------------------------\n",
      "|3370             |2.0          |0.96358898      |2024-05-30           |\n",
      "|2939             |1.5          |0.981123733333  |2024-05-30           |\n",
      "|3331             |2.5          |0.858038044     |2024-05-30           |\n",
      "|5109             |2.0          |0.847489685     |2024-05-30           |\n",
      "|2169             |1.0          |1.0             |2024-05-30           |\n",
      "|2595             |2.5          |0.909441716     |2024-05-30           |\n",
      "|4950             |2.5          |0.791798228     |2024-05-30           |\n",
      "|3740             |2.0          |0.85042508      |2024-05-30           |\n",
      "|1899             |2.5          |0.764692742     |2024-05-30           |\n",
      "|6307             |1.5          |0.91501759      |2024-05-30           |\n",
      "------------------------------------------------------------------------\n",
      "\n"
     ]
    }
   ],
   "source": [
    "# Create an Inference Dataframe that reads from our feature-engineering pipeline\n",
    "inference_input_sdf = fs.read_feature_view(fv_uc01_preprocess)\n",
    "inference_input_sdf.show()"
   ]
  },
  {
   "cell_type": "code",
   "execution_count": 10,
   "metadata": {},
   "outputs": [],
   "source": [
    "# Get latest version of the model\n",
    "m = mr.get_model(model_name)\n",
    "latest_version = m.show_versions().iloc[-1]['name']\n",
    "mv = m.version(latest_version)"
   ]
  },
  {
   "cell_type": "code",
   "execution_count": 11,
   "metadata": {},
   "outputs": [
    {
     "name": "stdout",
     "output_type": "stream",
     "text": [
      "--------------------------------------------------------------------------------------------------------------------------------\n",
      "|\"O_CUSTOMER_SK\"  |\"FREQUENCY\"  |\"RETURN_RATIO\"  |\"LATEST_ORDER_DATE\"  |\"RETURN_RATIO_MMS\"   |\"FREQUENCY_MMS\"      |\"CLUSTER\"  |\n",
      "--------------------------------------------------------------------------------------------------------------------------------\n",
      "|433              |1.5          |0.49197391      |2024-05-31           |0.16473888778440465  |0.04545454545454544  |0          |\n",
      "|635              |1.0          |0.95588595      |2024-05-31           |0.4264895157068511   |0.0                  |2          |\n",
      "|679              |3.0          |0.805619236667  |2024-05-31           |0.3417053256462633   |0.1818181818181818   |4          |\n",
      "|848              |3.5          |0.713255232857  |2024-05-31           |0.2895912740370429   |0.22727272727272727  |1          |\n",
      "|861              |2.0          |0.7129307325    |2024-05-31           |0.2894081829230339   |0.09090909090909091  |0          |\n",
      "|1709             |1.5          |0.84364584      |2024-05-31           |0.3631608742027754   |0.04545454545454544  |2          |\n",
      "|1715             |2.5          |0.589037184     |2024-05-31           |0.21950438366959119  |0.13636363636363638  |0          |\n",
      "|1750             |1.0          |0.5             |2024-05-31           |0.1692674059432825   |0.0                  |0          |\n",
      "|2879             |1.5          |0.702280303333  |2024-05-31           |0.2833989478057349   |0.04545454545454544  |0          |\n",
      "|3208             |1.5          |0.895238096667  |2024-05-31           |0.3922704993345639   |0.04545454545454544  |2          |\n",
      "--------------------------------------------------------------------------------------------------------------------------------\n",
      "\n"
     ]
    }
   ],
   "source": [
    "# Test Inference process\n",
    "inference_result_sdf = uc01_serve(inference_input_sdf, mv)\n",
    "inference_result_sdf.sort(F.col('LATEST_ORDER_DATE').desc(), F.col('O_CUSTOMER_SK')).show()"
   ]
  },
  {
   "cell_type": "markdown",
   "metadata": {},
   "source": [
    "We can see in the SQL output below how our model is packaged and called from SQL `MODEL_VERSION_ALIAS!PREDICT(RETURN_RATIO, FREQUENCY) AS TMP_RESULT`"
   ]
  },
  {
   "cell_type": "code",
   "execution_count": 12,
   "metadata": {
    "metadata": {}
   },
   "outputs": [
    {
     "name": "stdout",
     "output_type": "stream",
     "text": [
      "SELECT \"O_CUSTOMER_SK\", \"FREQUENCY\", \"RETURN_RATIO\", \"LATEST_ORDER_DATE\",  CAST (\"TMP_RESULT\"['RETURN_RATIO_MMS'] AS DOUBLE) AS \"RETURN_RATIO_MMS\",  CAST (\"TMP_RESULT\"['FREQUENCY_MMS'] AS DOUBLE) AS \"FREQUENCY_MMS\",  CAST (\"TMP_RESULT\"['CLUSTER'] AS BIGINT) AS \"CLUSTER\" FROM (WITH SNOWPARK_ML_MODEL_INFERENCE_INPUT AS (SELECT * FROM TPCXAI_SF0001_QUICKSTART_INC._SERVING_FEATURE_STORE.FV_UC01_PREPROCESS$V_1),MODEL_VERSION_ALIAS AS MODEL TPCXAI_SF0001_QUICKSTART_INC._MODEL_REGISTRY.UC01_SNOWFLAKEML_KMEANS_MODEL VERSION V_2\n",
      "                SELECT *,\n",
      "                    MODEL_VERSION_ALIAS!PREDICT(RETURN_RATIO, FREQUENCY) AS TMP_RESULT\n",
      "                FROM SNOWPARK_ML_MODEL_INFERENCE_INPUT)\n"
     ]
    }
   ],
   "source": [
    "ind_sql = inference_result_sdf.queries['queries'][0]\n",
    "ind_fmtd_sql = os.linesep.join(ind_sql.split(os.linesep)[:1000])\n",
    "print(ind_fmtd_sql)"
   ]
  },
  {
   "cell_type": "markdown",
   "metadata": {},
   "source": [
    "### Create & Register Inference-FeatureView to run scheduled Inference\n",
    "\n",
    "We can now define a new Inference Feature View using our Spine and Dataframe reading from our Feature Engineering pipeline.  The FeatureView when created as a Dynamic Table will run to the required refresh_freq and automatically perform incremental inference on new data that arrives through the pipeline."
   ]
  },
  {
   "cell_type": "code",
   "execution_count": 13,
   "metadata": {
    "metadata": {}
   },
   "outputs": [
    {
     "name": "stdout",
     "output_type": "stream",
     "text": [
      "Inference Feature View : fv_uc01_inference_result_V_2 already created\n",
      "--------------------------------------------------------------------------------------------------------------------------------------------------------------------------------------------------------------\n",
      "|\"NAME\"                    |\"VERSION\"  |\"DATABASE_NAME\"               |\"SCHEMA_NAME\"           |\"CREATED_ON\"                |\"OWNER\"     |\"DESC\"                                              |\"ENTITIES\"    |\n",
      "--------------------------------------------------------------------------------------------------------------------------------------------------------------------------------------------------------------\n",
      "|FV_UC01_INFERENCE_RESULT  |V_2        |TPCXAI_SF0001_QUICKSTART_INC  |_SERVING_FEATURE_STORE  |2024-05-31 03:01:40.872000  |FS_QS_ROLE  |Inference Result from kmeans model for Use Case 01  |[             |\n",
      "|                          |           |                              |                        |                            |            |                                                    |  \"CUSTOMER\"  |\n",
      "|                          |           |                              |                        |                            |            |                                                    |]             |\n",
      "|FV_UC01_INFERENCE_RESULT  |V_1        |TPCXAI_SF0001_QUICKSTART_INC  |_SERVING_FEATURE_STORE  |2024-05-30 16:35:13.940000  |FS_QS_ROLE  |Inference Result from kmeans model for Use Case 01  |[             |\n",
      "|                          |           |                              |                        |                            |            |                                                    |  \"CUSTOMER\"  |\n",
      "|                          |           |                              |                        |                            |            |                                                    |]             |\n",
      "--------------------------------------------------------------------------------------------------------------------------------------------------------------------------------------------------------------\n",
      "\n"
     ]
    }
   ],
   "source": [
    "## Create & Register Inference-FeatureView to run scheduled Inference\n",
    "inf_fvname = \"FV_UC01_INFERENCE_RESULT\"\n",
    "inf_fv_version = \"V_2\"\n",
    "\n",
    "inference_features_desc = { \"FREQUENCY\":\"Average yearly order frequency\",\n",
    "                              \"RETURN_RATIO\":\"Average of, Per Order Returns Ratio.  Per order returns ratio : total returns value / total order value\", \n",
    "                              \"RETURN_RATIO_MMS\":f\"Min/Max Scaled version of RETURN_RATIO using Model Registry ({tpcxai_database}_MODEL_REGISTRY) Model ({mv.model_name}) Model-Version({mv.version_name}) Model Comment ({mv.comment})\",\n",
    "                              \"FREQUENCY_MMS\":f\"Min/Max Scaled version of FREQUENCY using Model Registry ({tpcxai_database}_MODEL_REGISTRY) Model ({mv.model_name}) Model-Version({mv.version_name})  Model Comment ({mv.comment}\",\n",
    "                              \"CLUSTER\":f\"Kmeans Cluster for Customer Clustering Model (UC01) using Model Registry ({tpcxai_database}_MODEL_REGISTRY) Model ({mv.model_name}) Model-Version({mv.version_name})  Model Comment ({mv.comment}\"}\n",
    "\n",
    "try:\n",
    "   fv_uc01_inference_result = fs.get_feature_view(name= inf_fvname, version= inf_fv_version)\n",
    "except:\n",
    "   fv_uc01_inference_result = FeatureView(\n",
    "         name= inf_fvname, \n",
    "         entities=[customer_entity], \n",
    "         feature_df=inference_result_sdf,\n",
    "         ## refresh_freq=\"60 minute\",\n",
    "         desc=\"Inference Result from kmeans model for Use Case 01\").attach_feature_desc(inference_features_desc)\n",
    "   \n",
    "   fv_uc01_inference_result = fs.register_feature_view(\n",
    "         feature_view=fv_uc01_inference_result, \n",
    "         version= inf_fv_version, \n",
    "         block=True\n",
    "   )\n",
    "   print(f\"Inference Feature View : fv_uc01_inference_result_{inf_fv_version} created\")   \n",
    "else:\n",
    "   print(f\"Inference Feature View : fv_uc01_inference_result_{inf_fv_version} already created\")\n",
    "finally:\n",
    "   fs_serving_fviews = fs.list_feature_views().filter(F.col(\"NAME\") == inf_fvname ).sort(F.col(\"VERSION\").desc())\n",
    "   fs_serving_fviews.show()  "
   ]
  },
  {
   "cell_type": "code",
   "execution_count": 14,
   "metadata": {
    "metadata": {}
   },
   "outputs": [
    {
     "data": {
      "text/plain": [
       "FeatureView(_name=FV_UC01_INFERENCE_RESULT, _entities=[Entity(name=CUSTOMER, join_keys=['O_CUSTOMER_SK'], owner=None, desc=Primary Key for CUSTOMER)], _feature_df=<snowflake.snowpark.dataframe.DataFrame object at 0x7f9f1a06a170>, _timestamp_col=None, _desc=Inference Result from kmeans model for Use Case 01, _infer_schema_df=<snowflake.snowpark.dataframe.DataFrame object at 0x7f9f1a06a1a0>, _query=SELECT \"O_CUSTOMER_SK\", \"FREQUENCY\", \"RETURN_RATIO\", \"LATEST_ORDER_DATE\",  CAST (\"TMP_RESULT\"['RETURN_RATIO_MMS'] AS DOUBLE) AS \"RETURN_RATIO_MMS\",  CAST (\"TMP_RESULT\"['FREQUENCY_MMS'] AS DOUBLE) AS \"FREQUENCY_MMS\",  CAST (\"TMP_RESULT\"['CLUSTER'] AS BIGINT) AS \"CLUSTER\" FROM (WITH SNOWPARK_ML_MODEL_INFERENCE_INPUT AS (SELECT * FROM TPCXAI_SF0001_QUICKSTART_INC._SERVING_FEATURE_STORE.FV_UC01_PREPROCESS$V_1),MODEL_VERSION_ALIAS AS MODEL TPCXAI_SF0001_QUICKSTART_INC._MODEL_REGISTRY.UC01_SNOWFLAKEML_KMEANS_MODEL VERSION V_2\n",
       "                SELECT *,\n",
       "                    MODEL_VERSION_ALIAS!PREDICT(RETURN_RATIO, FREQUENCY) AS TMP_RESULT\n",
       "                FROM SNOWPARK_ML_MODEL_INFERENCE_INPUT), _version=V_2, _status=FeatureViewStatus.STATIC, _feature_desc=OrderedDict([('FREQUENCY', 'Average yearly order frequency'), ('RETURN_RATIO', 'Average of, Per Order Returns Ratio.  Per order returns ratio : total returns value / total order value'), ('LATEST_ORDER_DATE', ''), ('RETURN_RATIO_MMS', 'Min/Max Scaled version of RETURN_RATIO using Model Registry (TPCXAI_SF0001_QUICKSTART_INC_MODEL_REGISTRY) Model (UC01_SNOWFLAKEML_KMEANS_MODEL) Model-Version(V_2) Model Comment (TPCXAI USE CASE 01 - KMEANS - CUSTOMER PURCHASE CLUSTERS)'), ('FREQUENCY_MMS', 'Min/Max Scaled version of FREQUENCY using Model Registry (TPCXAI_SF0001_QUICKSTART_INC_MODEL_REGISTRY) Model (UC01_SNOWFLAKEML_KMEANS_MODEL) Model-Version(V_2)  Model Comment (TPCXAI USE CASE 01 - KMEANS - CUSTOMER PURCHASE CLUSTERS'), ('CLUSTER', 'Kmeans Cluster for Customer Clustering Model (UC01) using Model Registry (TPCXAI_SF0001_QUICKSTART_INC_MODEL_REGISTRY) Model (UC01_SNOWFLAKEML_KMEANS_MODEL) Model-Version(V_2)  Model Comment (TPCXAI USE CASE 01 - KMEANS - CUSTOMER PURCHASE CLUSTERS')]), _refresh_freq=None, _database=TPCXAI_SF0001_QUICKSTART_INC, _schema=_SERVING_FEATURE_STORE, _warehouse=None, _refresh_mode=None, _refresh_mode_reason=None, _owner=FS_QS_ROLE)"
      ]
     },
     "execution_count": 14,
     "metadata": {},
     "output_type": "execute_result"
    }
   ],
   "source": [
    "fv_uc01_inference_result"
   ]
  },
  {
   "cell_type": "code",
   "execution_count": 15,
   "metadata": {},
   "outputs": [
    {
     "name": "stdout",
     "output_type": "stream",
     "text": [
      "--------------------------------------------------------------------------------------------------------------------------------\n",
      "|\"O_CUSTOMER_SK\"  |\"FREQUENCY\"  |\"RETURN_RATIO\"  |\"LATEST_ORDER_DATE\"  |\"RETURN_RATIO_MMS\"   |\"FREQUENCY_MMS\"      |\"CLUSTER\"  |\n",
      "--------------------------------------------------------------------------------------------------------------------------------\n",
      "|861              |2.0          |0.7129307325    |2024-05-31           |0.2894081829230339   |0.09090909090909091  |0          |\n",
      "|5850             |2.0          |0.8224894925    |2024-05-31           |0.3512239405489938   |0.09090909090909091  |2          |\n",
      "|5198             |1.5          |0.744871893333  |2024-05-31           |0.3074301745587965   |0.04545454545454544  |0          |\n",
      "|4743             |1.0          |1.04260751      |2024-05-31           |0.4754199611947806   |0.0                  |2          |\n",
      "|1709             |1.5          |0.84364584      |2024-05-31           |0.3631608742027754   |0.04545454545454544  |2          |\n",
      "|1715             |2.5          |0.589037184     |2024-05-31           |0.21950438366959119  |0.13636363636363638  |0          |\n",
      "|5378             |3.0          |0.71729578      |2024-05-31           |0.2918710505046476   |0.1818181818181818   |4          |\n",
      "|5161             |1.0          |0.64259321      |2024-05-31           |0.24972201594861299  |0.0                  |0          |\n",
      "|3372             |1.5          |0.785299366667  |2024-05-31           |0.3302403532523533   |0.04545454545454544  |2          |\n",
      "|4668             |2.0          |0.67309414      |2024-05-31           |0.26693139378609826  |0.09090909090909091  |0          |\n",
      "|4223             |1.5          |0.638655513333  |2024-05-31           |0.24750027025915994  |0.04545454545454544  |0          |\n",
      "|635              |1.0          |0.95588595      |2024-05-31           |0.4264895157068511   |0.0                  |2          |\n",
      "|6200             |2.5          |0.796465482     |2024-05-31           |0.3365405512378749   |0.13636363636363638  |4          |\n",
      "|1750             |1.0          |0.5             |2024-05-31           |0.1692674059432825   |0.0                  |0          |\n",
      "|848              |3.5          |0.713255232857  |2024-05-31           |0.2895912740370429   |0.22727272727272727  |1          |\n",
      "|433              |1.5          |0.49197391      |2024-05-31           |0.16473888778440465  |0.04545454545454544  |0          |\n",
      "|2879             |1.5          |0.702280303333  |2024-05-31           |0.2833989478057349   |0.04545454545454544  |0          |\n",
      "|679              |3.0          |0.805619236667  |2024-05-31           |0.3417053256462633   |0.1818181818181818   |4          |\n",
      "|3208             |1.5          |0.895238096667  |2024-05-31           |0.3922704993345639   |0.04545454545454544  |2          |\n",
      "|1739             |3.0          |0.731667956667  |2024-05-30           |0.2999801874591435   |0.1818181818181818   |4          |\n",
      "|1711             |1.0          |0.815970055     |2024-05-30           |0.347545512933004    |0.0                  |2          |\n",
      "|6345             |2.5          |0.87040562      |2024-05-30           |0.37825940283347553  |0.13636363636363638  |4          |\n",
      "|2296             |2.5          |0.502202786     |2024-05-30           |0.17051027219585652  |0.13636363636363638  |0          |\n",
      "|2455             |3.5          |0.780767837143  |2024-05-30           |0.32768355240201086  |0.22727272727272727  |1          |\n",
      "|611              |1.5          |0.818759293333  |2024-05-30           |0.34911927007258614  |0.04545454545454544  |2          |\n",
      "|5371             |1.5          |0.72620794      |2024-05-30           |0.29689951123643915  |0.04545454545454544  |0          |\n",
      "|5440             |1.5          |0.42752077      |2024-05-30           |0.12837283471414296  |0.04545454545454544  |0          |\n",
      "|4787             |3.0          |0.838112001667  |2024-05-30           |0.3600385459733031   |0.1818181818181818   |4          |\n",
      "|976              |1.0          |0.64338281      |2024-05-30           |0.25016752776548146  |0.0                  |0          |\n",
      "|3430             |2.5          |0.73207042      |2024-05-30           |0.30020726720928004  |0.13636363636363638  |4          |\n",
      "|2550             |2.0          |0.9100050125    |2024-05-30           |0.4006023578734491   |0.09090909090909091  |2          |\n",
      "|4342             |1.5          |0.706194953333  |2024-05-30           |0.28560768999659636  |0.04545454545454544  |0          |\n",
      "|2208             |3.0          |0.643727613333  |2024-05-30           |0.25036207431987245  |0.1818181818181818   |4          |\n",
      "|760              |1.5          |0.794345846667  |2024-05-30           |0.33534460064478544  |0.04545454545454544  |2          |\n",
      "|1112             |2.0          |0.78234829      |2024-05-30           |0.32857528292860283  |0.09090909090909091  |2          |\n",
      "|5630             |2.5          |0.75249934      |2024-05-30           |0.31173376830586164  |0.13636363636363638  |4          |\n",
      "|678              |3.0          |0.69547022      |2024-05-30           |0.2795565306341156   |0.1818181818181818   |4          |\n",
      "|3159             |1.5          |0.729014416667  |2024-05-30           |0.29848299466971445  |0.04545454545454544  |0          |\n",
      "|2546             |2.5          |0.799802164     |2024-05-30           |0.33842318961190276  |0.13636363636363638  |4          |\n",
      "|4563             |1.0          |0.5902027       |2024-05-30           |0.22016199657580854  |0.0                  |0          |\n",
      "|110              |3.5          |0.63407227      |2024-05-30           |0.244914291200858    |0.22727272727272727  |1          |\n",
      "|5109             |2.0          |0.847489685     |2024-05-30           |0.3653296664643139   |0.09090909090909091  |2          |\n",
      "|5090             |1.0          |1.0             |2024-05-30           |0.451379751984621    |0.0                  |2          |\n",
      "|580              |1.5          |0.56709612      |2024-05-30           |0.20712469359022484  |0.04545454545454544  |0          |\n",
      "|4865             |1.0          |0.786844315     |2024-05-30           |0.3311120512498239   |0.0                  |2          |\n",
      "|343              |1.5          |0.933299006667  |2024-05-30           |0.41374540455970044  |0.04545454545454544  |2          |\n",
      "|4589             |2.0          |0.77695707      |2024-05-30           |0.32553342348415293  |0.09090909090909091  |2          |\n",
      "|3367             |2.5          |0.81601639      |2024-05-30           |0.3475716562841117   |0.13636363636363638  |4          |\n",
      "|6396             |2.0          |0.7135710325    |2024-05-30           |0.2897694559933744   |0.09090909090909091  |0          |\n",
      "|1899             |2.5          |0.764692742     |2024-05-30           |0.318613586794752    |0.13636363636363638  |4          |\n",
      "|2964             |1.0          |0.65179557      |2024-05-30           |0.2549142146860469   |0.0                  |0          |\n",
      "|1655             |2.0          |0.69114524      |2024-05-30           |0.2771162701253519   |0.09090909090909091  |0          |\n",
      "|108              |1.5          |0.845142356667  |2024-05-30           |0.36400524585841004  |0.04545454545454544  |2          |\n",
      "|3580             |3.0          |0.875760913333  |2024-05-30           |0.3812809915652999   |0.1818181818181818   |4          |\n",
      "|3370             |2.0          |0.96358898      |2024-05-30           |0.4308357554367048   |0.09090909090909091  |2          |\n",
      "|396              |1.5          |0.796907683333  |2024-05-30           |0.3367900521488254   |0.04545454545454544  |2          |\n",
      "|1752             |3.0          |0.741596205     |2024-05-30           |0.3055819503177508   |0.1818181818181818   |4          |\n",
      "|1666             |4.0          |0.82837292375   |2024-05-30           |0.3545435177344146   |0.2727272727272727   |1          |\n",
      "|3587             |3.0          |0.604936328333  |2024-05-30           |0.22847507348525614  |0.1818181818181818   |4          |\n",
      "|1613             |1.0          |1.0             |2024-05-30           |0.451379751984621    |0.0                  |2          |\n",
      "|6925             |3.0          |0.591303683333  |2024-05-30           |0.22078319855785866  |0.1818181818181818   |4          |\n",
      "|2785             |2.5          |0.65156689      |2024-05-30           |0.2547851877834615   |0.13636363636363638  |4          |\n",
      "|5747             |2.5          |0.85876305      |2024-05-30           |0.3716903773601745   |0.13636363636363638  |4          |\n",
      "|1090             |4.5          |0.899624073333  |2024-05-30           |0.3947451756684195   |0.31818181818181823  |3          |\n",
      "|6820             |1.5          |0.92277423      |2024-05-30           |0.4078070656855234   |0.04545454545454544  |2          |\n",
      "|5243             |2.0          |0.65935054      |2024-05-30           |0.2591769153079908   |0.09090909090909091  |0          |\n",
      "|427              |1.0          |0.72965477      |2024-05-30           |0.2988442978318505   |0.0                  |0          |\n",
      "|1748             |2.0          |0.75047615      |2024-05-30           |0.3105922345510869   |0.09090909090909091  |0          |\n",
      "|6410             |2.0          |0.75            |2024-05-30           |0.31032357896395174  |0.09090909090909091  |0          |\n",
      "|4840             |1.0          |0.72530147      |2024-05-30           |0.296388058479807    |0.0                  |0          |\n",
      "|2169             |1.0          |1.0             |2024-05-30           |0.451379751984621    |0.0                  |2          |\n",
      "|1638             |1.5          |0.666493136667  |2024-05-30           |0.26320694471309963  |0.04545454545454544  |0          |\n",
      "|381              |1.5          |0.88888889      |2024-05-30           |0.38868812015790655  |0.04545454545454544  |2          |\n",
      "|6321             |4.5          |0.942823983333  |2024-05-30           |0.41911963158616894  |0.31818181818181823  |3          |\n",
      "|6977             |2.5          |1.101123596     |2024-05-30           |0.508436181800014    |0.13636363636363638  |2          |\n",
      "|6170             |2.0          |0.6274101575    |2024-05-30           |0.24115536282692535  |0.09090909090909091  |0          |\n",
      "|4721             |2.5          |0.550279684     |2024-05-30           |0.19763644516619683  |0.13636363636363638  |0          |\n",
      "|2982             |1.0          |0.77553547      |2024-05-30           |0.3247313216618882   |0.0                  |2          |\n",
      "|232              |1.5          |0.900794276667  |2024-05-30           |0.39540543328421984  |0.04545454545454544  |2          |\n",
      "|4042             |2.0          |0.8600512375    |2024-05-30           |0.3724172045557068   |0.09090909090909091  |2          |\n",
      "|4002             |2.0          |0.81293555      |2024-05-30           |0.34583337028375566  |0.09090909090909091  |2          |\n",
      "|2939             |1.5          |0.981123733333  |2024-05-30           |0.4407292962367624   |0.04545454545454544  |2          |\n",
      "|1963             |2.0          |0.748199585     |2024-05-30           |0.3093077403649557   |0.09090909090909091  |0          |\n",
      "|2440             |1.5          |0.644856606667  |2024-05-30           |0.250999080236112    |0.04545454545454544  |0          |\n",
      "|639              |3.5          |0.698537715714  |2024-05-30           |0.2812872874588122   |0.22727272727272727  |1          |\n",
      "|2473             |2.0          |0.8570132075    |2024-05-30           |0.37070307301441885  |0.09090909090909091  |2          |\n",
      "|4549             |4.0          |0.85631259125   |2024-05-30           |0.3703077680264945   |0.2727272727272727   |1          |\n",
      "|3717             |1.0          |0.57806691      |2024-05-30           |0.21331468419987853  |0.0                  |0          |\n",
      "|5554             |2.5          |0.631168962     |2024-05-30           |0.24327617313853683  |0.13636363636363638  |0          |\n",
      "|3525             |6.0          |0.683840585833  |2024-05-30           |0.27299480387720587  |0.4545454545454545   |3          |\n",
      "|414              |1.5          |0.79556169      |2024-05-30           |0.3360306094749681   |0.04545454545454544  |2          |\n",
      "|4187             |2.5          |0.801419642     |2024-05-30           |0.33933581063840323  |0.13636363636363638  |4          |\n",
      "|4655             |3.0          |0.748393303333  |2024-05-30           |0.3094170410317434   |0.1818181818181818   |4          |\n",
      "|6599             |2.5          |0.724227436     |2024-05-30           |0.2957820619768706   |0.13636363636363638  |4          |\n",
      "|1040             |3.0          |0.734584546667  |2024-05-30           |0.30162579955382496  |0.1818181818181818   |4          |\n",
      "|2138             |2.5          |0.891591678     |2024-05-30           |0.3902130998849713   |0.13636363636363638  |4          |\n",
      "|964              |2.0          |0.4440072625    |2024-05-30           |0.13767492086847882  |0.09090909090909091  |0          |\n",
      "|5918             |1.5          |0.68907598      |2024-05-30           |0.2759487425390129   |0.04545454545454544  |0          |\n",
      "|3108             |3.0          |0.757833666667  |2024-05-30           |0.31474352712701814  |0.1818181818181818   |4          |\n",
      "|4017             |1.0          |0.53471879      |2024-05-30           |0.18885660454051562  |0.0                  |0          |\n",
      "--------------------------------------------------------------------------------------------------------------------------------\n",
      "\n"
     ]
    }
   ],
   "source": [
    "fv_uc01_inference_result.feature_df.sort(F.col(\"LATEST_ORDER_DATE\").desc()).show(100)"
   ]
  },
  {
   "cell_type": "markdown",
   "metadata": {},
   "source": [
    "## CLEAN UP"
   ]
  },
  {
   "cell_type": "code",
   "execution_count": 16,
   "metadata": {
    "metadata": {}
   },
   "outputs": [],
   "source": [
    "session.close()"
   ]
  },
  {
   "cell_type": "code",
   "execution_count": null,
   "metadata": {
    "metadata": {}
   },
   "outputs": [],
   "source": []
  }
 ],
 "metadata": {
  "kernelspec": {
   "display_name": "Python 3 (ipykernel)",
   "language": "python",
   "name": "python3"
  },
  "language_info": {
   "codemirror_mode": {
    "name": "ipython",
    "version": 3
   },
   "file_extension": ".py",
   "mimetype": "text/x-python",
   "name": "python",
   "nbconvert_exporter": "python",
   "pygments_lexer": "ipython3",
   "version": "3.9.19"
  }
 },
 "nbformat": 4,
 "nbformat_minor": 4
}
