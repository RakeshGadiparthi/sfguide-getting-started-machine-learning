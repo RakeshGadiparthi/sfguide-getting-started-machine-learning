{
 "cells": [
  {
   "cell_type": "code",
   "execution_count": 2,
   "id": "98e45289-c8b7-4c31-b1d2-ca89bfa6db11",
   "metadata": {},
   "outputs": [
    {
     "ename": "SyntaxError",
     "evalue": "invalid syntax (1787007115.py, line 1)",
     "output_type": "error",
     "traceback": [
      "\u001b[0;36m  Cell \u001b[0;32mIn[2], line 1\u001b[0;36m\u001b[0m\n\u001b[0;31m    pip install pandas;\u001b[0m\n\u001b[0m        ^\u001b[0m\n\u001b[0;31mSyntaxError\u001b[0m\u001b[0;31m:\u001b[0m invalid syntax\n"
     ]
    }
   ],
   "source": [
    "pip install pandas;\n",
    "pip install numpy;\n",
    "pip install matplotlib;\n",
    "pip install statsmodels;\n",
    "pip install sklearn;"
   ]
  },
  {
   "cell_type": "code",
   "execution_count": null,
   "id": "f1684c12-476b-4e4e-ad87-0cbecb0350ce",
   "metadata": {},
   "outputs": [],
   "source": [
    "import pandas as pd\n",
    "import numpy as np\n",
    "import matplotlib.pyplot as plt\n",
    "from statsmodels.tsa.arima.model import ARIMA\n",
    "from sklearn.metrics import mean_squared_error\n"
   ]
  },
  {
   "cell_type": "code",
   "execution_count": null,
   "id": "91c4a92f-55ae-4f88-acf8-32026c7d2d85",
   "metadata": {},
   "outputs": [],
   "source": [
    "np.random.seed(0)\n",
    "date_range = pd.date_range(start='1/1/2020', periods=100, freq='ME')\n",
    "data = np.random.randn(100).cumsum()  # Cumulative sum to simulate a time series\n",
    "df = pd.DataFrame(data, index=date_range, columns=['value'])\n"
   ]
  },
  {
   "cell_type": "code",
   "execution_count": null,
   "id": "96387789-889b-4ed6-b91e-e59e269e1acc",
   "metadata": {},
   "outputs": [],
   "source": [
    "plt.figure(figsize=(10, 6))\n",
    "plt.plot(df, label='Original Data')\n",
    "plt.title('Time Series Data')\n",
    "plt.xlabel('Date')\n",
    "plt.ylabel('Value')\n",
    "plt.legend()\n",
    "plt.show()\n"
   ]
  },
  {
   "cell_type": "code",
   "execution_count": null,
   "id": "539841a4-4579-44f7-8e38-69fc0f0c0fa8",
   "metadata": {},
   "outputs": [],
   "source": [
    "train_size = int(len(df) * 0.8)\n",
    "train, test = df.iloc[:train_size], df.iloc[train_size:]\n"
   ]
  },
  {
   "cell_type": "code",
   "execution_count": null,
   "id": "4d3aba06-4587-4529-b37f-daeb3f97e1da",
   "metadata": {},
   "outputs": [],
   "source": [
    "best_model = ARIMA(train, order=(25,5,10))\n",
    "model_fit = best_model.fit()\n"
   ]
  },
  {
   "cell_type": "code",
   "execution_count": null,
   "id": "359325d5-78ca-4665-8461-ea28227de87d",
   "metadata": {},
   "outputs": [],
   "source": [
    "predictions = model_fit.forecast(steps=len(test))\n",
    "predictions = pd.Series(predictions, index=test.index)\n"
   ]
  },
  {
   "cell_type": "code",
   "execution_count": null,
   "id": "9b3798f0-5aef-4ba7-a44a-2aa1b4967156",
   "metadata": {},
   "outputs": [],
   "source": [
    "plt.figure(figsize=(10, 6))\n",
    "plt.plot(train, label='Training Data')\n",
    "plt.plot(test, label='Test Data')\n",
    "plt.plot(predictions, label='Predicted Data', color='red')\n",
    "plt.title('ARIMA Model - Time Series Forecasting')\n",
    "plt.xlabel('Date')\n",
    "plt.ylabel('Value')\n",
    "plt.legend()\n",
    "plt.show()\n"
   ]
  },
  {
   "cell_type": "code",
   "execution_count": null,
   "id": "5962fcb2-9a47-44af-973a-857bd0fdf63b",
   "metadata": {},
   "outputs": [],
   "source": [
    "from sklearn.metrics import mean_squared_error\n",
    "mse = mean_squared_error(test, predictions)\n",
    "print(f'Mean Squared Error: {mse}')\n"
   ]
  }
 ],
 "metadata": {
  "kernelspec": {
   "display_name": "Python 3 (ipykernel)",
   "language": "python",
   "name": "python3"
  },
  "language_info": {
   "codemirror_mode": {
    "name": "ipython",
    "version": 3
   },
   "file_extension": ".py",
   "mimetype": "text/x-python",
   "name": "python",
   "nbconvert_exporter": "python",
   "pygments_lexer": "ipython3",
   "version": "3.9.19"
  }
 },
 "nbformat": 4,
 "nbformat_minor": 5
}
