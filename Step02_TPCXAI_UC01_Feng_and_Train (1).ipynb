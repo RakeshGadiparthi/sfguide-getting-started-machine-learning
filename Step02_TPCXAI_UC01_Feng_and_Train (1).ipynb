{
 "cells": [
  {
   "cell_type": "markdown",
   "metadata": {},
   "source": [
    "Version: 0.0.2  Updated date: 07/05/2024\n",
    "Conda Environment : py-snowpark_df_ml_fs-1.15.0_v1"
   ]
  },
  {
   "cell_type": "markdown",
   "metadata": {},
   "source": [
    "# Getting Started with Snowflake Feature Store -  Customer Segmentation\n",
    "\n",
    "The Customer segmentation (UC01) use case is designed to emulate a data science pipeline to find clusters of customers based  on  aggregate  features where  the  customers  are  grouped  based  on  their  spending behavior. <br>\n",
    "\n",
    "It  involves  creating subgroups of customers based on similar traits. <br>\n",
    "\n",
    "The input in this use case consists of order and return transaction data from a retail business. <br>\n",
    "\n",
    "The use case uses Tables Customer, Order, Lineitem and Order_returns. <br>\n",
    "\n",
    "K-means  clustering  algorithm  is  used  to  derive  the  optimum  number  of  clusters  and  understand  the  underlying customer segments based on the data provided. <br>\n",
    "Clustering is an unsupervised machine learning technique, where there are no defined dependent and independent variables, i.e. the training samples are unlabeled. <br>\n",
    "The pattern in the data is used to identify and group similar observations. <br>\n",
    "\n",
    "We will use the Use-Case to show how Snowflake Feature Store (and Model Registry) can be used to maintain & store features, retrieve them for training and perform micro-batch inference.\n",
    "\n",
    "In the development (TRAINING) enviroment we will \n",
    "- create FeatureViews in the Feature Store that maintain the required customer-behaviour features.\n",
    "- use these Features to train a model, and save the model in the Snowflake model-registry.\n",
    "- plot the clusters for the trained model to visually verify. \n",
    "\n",
    "In the production (SERVING) environment we will\n",
    "- re-create the FeatureViews on production data\n",
    "- generate an Inference FeatureView that uses the saved model to perform incremental inference\n",
    "\n",
    "# Feature Engineering & Model Training"
   ]
  },
  {
   "cell_type": "code",
   "execution_count": 1,
   "metadata": {
    "metadata": {}
   },
   "outputs": [],
   "source": [
    "%load_ext autoreload\n",
    "%autoreload 2"
   ]
  },
  {
   "cell_type": "code",
   "execution_count": 2,
   "metadata": {},
   "outputs": [
    {
     "name": "stdout",
     "output_type": "stream",
     "text": [
      "Requirement already satisfied: fosforml in /opt/conda/lib/python3.9/site-packages (1.1.6)\n",
      "Requirement already satisfied: scikit-learn==1.3.2 in /opt/conda/lib/python3.9/site-packages (from fosforml) (1.3.2)\n",
      "Requirement already satisfied: snowflake-ml-python==1.5.0; python_version <= \"3.9\" in /opt/conda/lib/python3.9/site-packages (from fosforml) (1.5.0)\n",
      "Requirement already satisfied: cloudpickle==2.2.1 in /opt/conda/lib/python3.9/site-packages (from fosforml) (2.2.1)\n",
      "Requirement already satisfied: joblib>=1.1.1 in /opt/conda/lib/python3.9/site-packages (from scikit-learn==1.3.2->fosforml) (1.4.2)\n",
      "Requirement already satisfied: numpy<2.0,>=1.17.3 in /opt/conda/lib/python3.9/site-packages (from scikit-learn==1.3.2->fosforml) (1.26.4)\n",
      "Requirement already satisfied: threadpoolctl>=2.0.0 in /opt/conda/lib/python3.9/site-packages (from scikit-learn==1.3.2->fosforml) (3.5.0)\n",
      "Requirement already satisfied: scipy>=1.5.0 in /opt/conda/lib/python3.9/site-packages (from scikit-learn==1.3.2->fosforml) (1.13.1)\n",
      "Requirement already satisfied: absl-py<2,>=0.15 in /opt/conda/lib/python3.9/site-packages (from snowflake-ml-python==1.5.0; python_version <= \"3.9\"->fosforml) (1.4.0)\n",
      "Requirement already satisfied: fsspec[http]<2024,>=2022.11 in /opt/conda/lib/python3.9/site-packages (from snowflake-ml-python==1.5.0; python_version <= \"3.9\"->fosforml) (2023.12.2)\n",
      "Requirement already satisfied: pandas<3,>=1.0.0 in /opt/conda/lib/python3.9/site-packages (from snowflake-ml-python==1.5.0; python_version <= \"3.9\"->fosforml) (2.2.0)\n",
      "Requirement already satisfied: anyio<4,>=3.5.0 in /opt/conda/lib/python3.9/site-packages (from snowflake-ml-python==1.5.0; python_version <= \"3.9\"->fosforml) (3.7.1)\n",
      "Requirement already satisfied: catboost<1.3,>=1.2.0 in /opt/conda/lib/python3.9/site-packages (from snowflake-ml-python==1.5.0; python_version <= \"3.9\"->fosforml) (1.2.5)\n",
      "Requirement already satisfied: retrying<2,>=1.3.3 in /opt/conda/lib/python3.9/site-packages (from snowflake-ml-python==1.5.0; python_version <= \"3.9\"->fosforml) (1.3.4)\n",
      "Requirement already satisfied: sqlparse<1,>=0.4 in /opt/conda/lib/python3.9/site-packages (from snowflake-ml-python==1.5.0; python_version <= \"3.9\"->fosforml) (0.5.1)\n",
      "Requirement already satisfied: xgboost<2,>=1.7.3 in /opt/conda/lib/python3.9/site-packages (from snowflake-ml-python==1.5.0; python_version <= \"3.9\"->fosforml) (1.7.6)\n",
      "Requirement already satisfied: snowflake-connector-python[pandas]<4,>=3.5.0 in /opt/conda/lib/python3.9/site-packages (from snowflake-ml-python==1.5.0; python_version <= \"3.9\"->fosforml) (3.12.0)\n",
      "Requirement already satisfied: pyarrow in /opt/conda/lib/python3.9/site-packages (from snowflake-ml-python==1.5.0; python_version <= \"3.9\"->fosforml) (17.0.0)\n",
      "Requirement already satisfied: cachetools<6,>=3.1.1 in /opt/conda/lib/python3.9/site-packages (from snowflake-ml-python==1.5.0; python_version <= \"3.9\"->fosforml) (5.4.0)\n",
      "Requirement already satisfied: packaging<24,>=20.9 in /opt/conda/lib/python3.9/site-packages (from snowflake-ml-python==1.5.0; python_version <= \"3.9\"->fosforml) (23.2)\n",
      "Requirement already satisfied: importlib-resources<7,>=6.1.1 in /opt/conda/lib/python3.9/site-packages (from snowflake-ml-python==1.5.0; python_version <= \"3.9\"->fosforml) (6.4.0)\n",
      "Requirement already satisfied: pytimeparse<2,>=1.1.8 in /opt/conda/lib/python3.9/site-packages (from snowflake-ml-python==1.5.0; python_version <= \"3.9\"->fosforml) (1.1.8)\n",
      "Requirement already satisfied: s3fs<2024,>=2022.11 in /opt/conda/lib/python3.9/site-packages (from snowflake-ml-python==1.5.0; python_version <= \"3.9\"->fosforml) (2023.12.2)\n",
      "Requirement already satisfied: typing-extensions<5,>=4.1.0 in /opt/conda/lib/python3.9/site-packages (from snowflake-ml-python==1.5.0; python_version <= \"3.9\"->fosforml) (4.12.2)\n",
      "Requirement already satisfied: pyyaml<7,>=6.0 in /opt/conda/lib/python3.9/site-packages (from snowflake-ml-python==1.5.0; python_version <= \"3.9\"->fosforml) (6.0.1)\n",
      "Requirement already satisfied: snowflake-snowpark-python!=1.12.0,<2,>=1.11.1 in /opt/conda/lib/python3.9/site-packages (from snowflake-ml-python==1.5.0; python_version <= \"3.9\"->fosforml) (1.20.0)\n",
      "Requirement already satisfied: requests; extra == \"http\" in /opt/conda/lib/python3.9/site-packages (from fsspec[http]<2024,>=2022.11->snowflake-ml-python==1.5.0; python_version <= \"3.9\"->fosforml) (2.32.3)\n",
      "Requirement already satisfied: aiohttp!=4.0.0a0,!=4.0.0a1; extra == \"http\" in /opt/conda/lib/python3.9/site-packages (from fsspec[http]<2024,>=2022.11->snowflake-ml-python==1.5.0; python_version <= \"3.9\"->fosforml) (3.10.0)\n",
      "Requirement already satisfied: tzdata>=2022.7 in /opt/conda/lib/python3.9/site-packages (from pandas<3,>=1.0.0->snowflake-ml-python==1.5.0; python_version <= \"3.9\"->fosforml) (2024.1)\n",
      "Requirement already satisfied: python-dateutil>=2.8.2 in /opt/conda/lib/python3.9/site-packages (from pandas<3,>=1.0.0->snowflake-ml-python==1.5.0; python_version <= \"3.9\"->fosforml) (2.9.0.post0)\n",
      "Requirement already satisfied: pytz>=2020.1 in /opt/conda/lib/python3.9/site-packages (from pandas<3,>=1.0.0->snowflake-ml-python==1.5.0; python_version <= \"3.9\"->fosforml) (2024.1)\n",
      "Requirement already satisfied: idna>=2.8 in /opt/conda/lib/python3.9/site-packages (from anyio<4,>=3.5.0->snowflake-ml-python==1.5.0; python_version <= \"3.9\"->fosforml) (3.7)\n",
      "Requirement already satisfied: exceptiongroup; python_version < \"3.11\" in /opt/conda/lib/python3.9/site-packages (from anyio<4,>=3.5.0->snowflake-ml-python==1.5.0; python_version <= \"3.9\"->fosforml) (1.2.2)\n",
      "Requirement already satisfied: sniffio>=1.1 in /opt/conda/lib/python3.9/site-packages (from anyio<4,>=3.5.0->snowflake-ml-python==1.5.0; python_version <= \"3.9\"->fosforml) (1.3.1)\n",
      "Requirement already satisfied: plotly in /opt/conda/lib/python3.9/site-packages (from catboost<1.3,>=1.2.0->snowflake-ml-python==1.5.0; python_version <= \"3.9\"->fosforml) (5.23.0)\n",
      "Requirement already satisfied: six in /opt/conda/lib/python3.9/site-packages (from catboost<1.3,>=1.2.0->snowflake-ml-python==1.5.0; python_version <= \"3.9\"->fosforml) (1.16.0)\n",
      "Requirement already satisfied: matplotlib in /opt/conda/lib/python3.9/site-packages (from catboost<1.3,>=1.2.0->snowflake-ml-python==1.5.0; python_version <= \"3.9\"->fosforml) (3.9.1)\n",
      "Requirement already satisfied: graphviz in /opt/conda/lib/python3.9/site-packages (from catboost<1.3,>=1.2.0->snowflake-ml-python==1.5.0; python_version <= \"3.9\"->fosforml) (0.20.3)\n",
      "Requirement already satisfied: charset-normalizer<4,>=2 in /opt/conda/lib/python3.9/site-packages (from snowflake-connector-python[pandas]<4,>=3.5.0->snowflake-ml-python==1.5.0; python_version <= \"3.9\"->fosforml) (3.3.2)\n",
      "Requirement already satisfied: cryptography<43.0.0,>=3.1.0 in /opt/conda/lib/python3.9/site-packages (from snowflake-connector-python[pandas]<4,>=3.5.0->snowflake-ml-python==1.5.0; python_version <= \"3.9\"->fosforml) (42.0.5)\n",
      "Requirement already satisfied: asn1crypto<2.0.0,>0.24.0 in /opt/conda/lib/python3.9/site-packages (from snowflake-connector-python[pandas]<4,>=3.5.0->snowflake-ml-python==1.5.0; python_version <= \"3.9\"->fosforml) (1.5.1)\n",
      "Requirement already satisfied: pyjwt<3.0.0 in /opt/conda/lib/python3.9/site-packages (from snowflake-connector-python[pandas]<4,>=3.5.0->snowflake-ml-python==1.5.0; python_version <= \"3.9\"->fosforml) (2.8.0)\n",
      "Requirement already satisfied: certifi>=2017.4.17 in /opt/conda/lib/python3.9/site-packages (from snowflake-connector-python[pandas]<4,>=3.5.0->snowflake-ml-python==1.5.0; python_version <= \"3.9\"->fosforml) (2024.7.4)\n",
      "Requirement already satisfied: sortedcontainers>=2.4.0 in /opt/conda/lib/python3.9/site-packages (from snowflake-connector-python[pandas]<4,>=3.5.0->snowflake-ml-python==1.5.0; python_version <= \"3.9\"->fosforml) (2.4.0)\n",
      "Requirement already satisfied: cffi<2.0.0,>=1.9 in /opt/conda/lib/python3.9/site-packages (from snowflake-connector-python[pandas]<4,>=3.5.0->snowflake-ml-python==1.5.0; python_version <= \"3.9\"->fosforml) (1.16.0)\n",
      "Requirement already satisfied: filelock<4,>=3.5 in /opt/conda/lib/python3.9/site-packages (from snowflake-connector-python[pandas]<4,>=3.5.0->snowflake-ml-python==1.5.0; python_version <= \"3.9\"->fosforml) (3.15.4)\n",
      "Requirement already satisfied: pyOpenSSL<25.0.0,>=16.2.0 in /opt/conda/lib/python3.9/site-packages (from snowflake-connector-python[pandas]<4,>=3.5.0->snowflake-ml-python==1.5.0; python_version <= \"3.9\"->fosforml) (24.0.0)\n",
      "Requirement already satisfied: platformdirs<5.0.0,>=2.6.0 in /opt/conda/lib/python3.9/site-packages (from snowflake-connector-python[pandas]<4,>=3.5.0->snowflake-ml-python==1.5.0; python_version <= \"3.9\"->fosforml) (4.2.2)\n",
      "Requirement already satisfied: urllib3<2.0.0,>=1.21.1; python_version < \"3.10\" in /opt/conda/lib/python3.9/site-packages (from snowflake-connector-python[pandas]<4,>=3.5.0->snowflake-ml-python==1.5.0; python_version <= \"3.9\"->fosforml) (1.26.19)\n",
      "Requirement already satisfied: tomlkit in /opt/conda/lib/python3.9/site-packages (from snowflake-connector-python[pandas]<4,>=3.5.0->snowflake-ml-python==1.5.0; python_version <= \"3.9\"->fosforml) (0.13.0)\n",
      "Requirement already satisfied: zipp>=3.1.0; python_version < \"3.10\" in /opt/conda/lib/python3.9/site-packages (from importlib-resources<7,>=6.1.1->snowflake-ml-python==1.5.0; python_version <= \"3.9\"->fosforml) (3.19.2)\n",
      "Requirement already satisfied: aiobotocore<3.0.0,>=2.5.4 in /opt/conda/lib/python3.9/site-packages (from s3fs<2024,>=2022.11->snowflake-ml-python==1.5.0; python_version <= \"3.9\"->fosforml) (2.13.1)\n",
      "Requirement already satisfied: setuptools>=40.6.0 in /opt/conda/lib/python3.9/site-packages (from snowflake-snowpark-python!=1.12.0,<2,>=1.11.1->snowflake-ml-python==1.5.0; python_version <= \"3.9\"->fosforml) (65.6.3)\n",
      "Requirement already satisfied: wheel in /opt/conda/lib/python3.9/site-packages (from snowflake-snowpark-python!=1.12.0,<2,>=1.11.1->snowflake-ml-python==1.5.0; python_version <= \"3.9\"->fosforml) (0.37.1)\n",
      "Requirement already satisfied: attrs>=17.3.0 in /opt/conda/lib/python3.9/site-packages (from aiohttp!=4.0.0a0,!=4.0.0a1; extra == \"http\"->fsspec[http]<2024,>=2022.11->snowflake-ml-python==1.5.0; python_version <= \"3.9\"->fosforml) (23.2.0)\n",
      "Requirement already satisfied: frozenlist>=1.1.1 in /opt/conda/lib/python3.9/site-packages (from aiohttp!=4.0.0a0,!=4.0.0a1; extra == \"http\"->fsspec[http]<2024,>=2022.11->snowflake-ml-python==1.5.0; python_version <= \"3.9\"->fosforml) (1.4.1)\n",
      "Requirement already satisfied: aiosignal>=1.1.2 in /opt/conda/lib/python3.9/site-packages (from aiohttp!=4.0.0a0,!=4.0.0a1; extra == \"http\"->fsspec[http]<2024,>=2022.11->snowflake-ml-python==1.5.0; python_version <= \"3.9\"->fosforml) (1.3.1)\n",
      "Requirement already satisfied: aiohappyeyeballs>=2.3.0 in /opt/conda/lib/python3.9/site-packages (from aiohttp!=4.0.0a0,!=4.0.0a1; extra == \"http\"->fsspec[http]<2024,>=2022.11->snowflake-ml-python==1.5.0; python_version <= \"3.9\"->fosforml) (2.3.2)\n",
      "Requirement already satisfied: yarl<2.0,>=1.0 in /opt/conda/lib/python3.9/site-packages (from aiohttp!=4.0.0a0,!=4.0.0a1; extra == \"http\"->fsspec[http]<2024,>=2022.11->snowflake-ml-python==1.5.0; python_version <= \"3.9\"->fosforml) (1.9.4)\n",
      "Requirement already satisfied: async-timeout<5.0,>=4.0; python_version < \"3.11\" in /opt/conda/lib/python3.9/site-packages (from aiohttp!=4.0.0a0,!=4.0.0a1; extra == \"http\"->fsspec[http]<2024,>=2022.11->snowflake-ml-python==1.5.0; python_version <= \"3.9\"->fosforml) (4.0.3)\n",
      "Requirement already satisfied: multidict<7.0,>=4.5 in /opt/conda/lib/python3.9/site-packages (from aiohttp!=4.0.0a0,!=4.0.0a1; extra == \"http\"->fsspec[http]<2024,>=2022.11->snowflake-ml-python==1.5.0; python_version <= \"3.9\"->fosforml) (6.0.5)\n",
      "Requirement already satisfied: tenacity>=6.2.0 in /opt/conda/lib/python3.9/site-packages (from plotly->catboost<1.3,>=1.2.0->snowflake-ml-python==1.5.0; python_version <= \"3.9\"->fosforml) (9.0.0)\n",
      "Requirement already satisfied: kiwisolver>=1.3.1 in /opt/conda/lib/python3.9/site-packages (from matplotlib->catboost<1.3,>=1.2.0->snowflake-ml-python==1.5.0; python_version <= \"3.9\"->fosforml) (1.4.5)\n",
      "Requirement already satisfied: pillow>=8 in /opt/conda/lib/python3.9/site-packages (from matplotlib->catboost<1.3,>=1.2.0->snowflake-ml-python==1.5.0; python_version <= \"3.9\"->fosforml) (10.4.0)\n",
      "Requirement already satisfied: contourpy>=1.0.1 in /opt/conda/lib/python3.9/site-packages (from matplotlib->catboost<1.3,>=1.2.0->snowflake-ml-python==1.5.0; python_version <= \"3.9\"->fosforml) (1.2.1)\n",
      "Requirement already satisfied: fonttools>=4.22.0 in /opt/conda/lib/python3.9/site-packages (from matplotlib->catboost<1.3,>=1.2.0->snowflake-ml-python==1.5.0; python_version <= \"3.9\"->fosforml) (4.53.1)\n",
      "Requirement already satisfied: pyparsing>=2.3.1 in /opt/conda/lib/python3.9/site-packages (from matplotlib->catboost<1.3,>=1.2.0->snowflake-ml-python==1.5.0; python_version <= \"3.9\"->fosforml) (3.1.2)\n",
      "Requirement already satisfied: cycler>=0.10 in /opt/conda/lib/python3.9/site-packages (from matplotlib->catboost<1.3,>=1.2.0->snowflake-ml-python==1.5.0; python_version <= \"3.9\"->fosforml) (0.12.1)\n",
      "Requirement already satisfied: pycparser in /opt/conda/lib/python3.9/site-packages (from cffi<2.0.0,>=1.9->snowflake-connector-python[pandas]<4,>=3.5.0->snowflake-ml-python==1.5.0; python_version <= \"3.9\"->fosforml) (2.21)\n",
      "Requirement already satisfied: wrapt<2.0.0,>=1.10.10 in /opt/conda/lib/python3.9/site-packages (from aiobotocore<3.0.0,>=2.5.4->s3fs<2024,>=2022.11->snowflake-ml-python==1.5.0; python_version <= \"3.9\"->fosforml) (1.16.0)\n",
      "Requirement already satisfied: botocore<1.34.132,>=1.34.70 in /opt/conda/lib/python3.9/site-packages (from aiobotocore<3.0.0,>=2.5.4->s3fs<2024,>=2022.11->snowflake-ml-python==1.5.0; python_version <= \"3.9\"->fosforml) (1.34.131)\n",
      "Requirement already satisfied: aioitertools<1.0.0,>=0.5.1 in /opt/conda/lib/python3.9/site-packages (from aiobotocore<3.0.0,>=2.5.4->s3fs<2024,>=2022.11->snowflake-ml-python==1.5.0; python_version <= \"3.9\"->fosforml) (0.11.0)\n",
      "Requirement already satisfied: jmespath<2.0.0,>=0.7.1 in /opt/conda/lib/python3.9/site-packages (from botocore<1.34.132,>=1.34.70->aiobotocore<3.0.0,>=2.5.4->s3fs<2024,>=2022.11->snowflake-ml-python==1.5.0; python_version <= \"3.9\"->fosforml) (1.0.1)\n",
      "\u001b[33mWARNING: You are using pip version 19.3.1; however, version 24.2 is available.\n",
      "You should consider upgrading via the 'pip install --upgrade pip' command.\u001b[0m\n",
      "Note: you may need to restart the kernel to use updated packages.\n"
     ]
    }
   ],
   "source": [
    "pip install fosforml"
   ]
  },
  {
   "cell_type": "code",
   "execution_count": 1,
   "metadata": {},
   "outputs": [
    {
     "name": "stdout",
     "output_type": "stream",
     "text": [
      "Collecting snowflake\n",
      "  Downloading https://files.pythonhosted.org/packages/9a/a5/d85e0ffe6ad7037008ea23df9749fa9efec992ad2f926daa9d2769509a30/snowflake-0.11.0-py3-none-any.whl\n",
      "Collecting snowflake-legacy\n",
      "  Downloading https://files.pythonhosted.org/packages/92/2c/c37dd17e52442b0ff519ae55ed251ba5d421e0785892cba52540e6916610/snowflake_legacy-0.11.0-py3-none-any.whl\n",
      "Collecting snowflake-core==0.11.0\n",
      "\u001b[?25l  Downloading https://files.pythonhosted.org/packages/ff/93/1dbbce53ebc4685bbfd5b0945bdb8fa04285a00680fd34cfdcc5e41f4ec5/snowflake_core-0.11.0-py3-none-any.whl (654kB)\n",
      "\u001b[K     |████████████████████████████████| 655kB 13.0MB/s eta 0:00:01\n",
      "\u001b[?25hRequirement already satisfied: python-dateutil>=2.8.2 in /opt/conda/lib/python3.9/site-packages (from snowflake-core==0.11.0->snowflake) (2.9.0.post0)\n",
      "Requirement already satisfied: requests in /opt/conda/lib/python3.9/site-packages (from snowflake-core==0.11.0->snowflake) (2.32.3)\n",
      "Requirement already satisfied: urllib3 in /opt/conda/lib/python3.9/site-packages (from snowflake-core==0.11.0->snowflake) (1.26.19)\n",
      "Requirement already satisfied: snowflake-snowpark-python<2.0.0,>=1.5.0 in /opt/conda/lib/python3.9/site-packages (from snowflake-core==0.11.0->snowflake) (1.20.0)\n",
      "Collecting atpublic>=4\n",
      "  Downloading https://files.pythonhosted.org/packages/6b/03/2cb0e5326e19b7d877bc9c3a7ef436a30a06835b638580d1f5e21a0409ed/atpublic-5.0-py3-none-any.whl\n",
      "Collecting pydantic>=2\n",
      "\u001b[?25l  Downloading https://files.pythonhosted.org/packages/1f/fa/b7f815b8c9ad021c07f88875b601222ef5e70619391ade4a49234d12d278/pydantic-2.8.2-py3-none-any.whl (423kB)\n",
      "\u001b[K     |████████████████████████████████| 430kB 59.5MB/s eta 0:00:01\n",
      "\u001b[?25hRequirement already satisfied: six>=1.5 in /opt/conda/lib/python3.9/site-packages (from python-dateutil>=2.8.2->snowflake-core==0.11.0->snowflake) (1.16.0)\n",
      "Requirement already satisfied: certifi>=2017.4.17 in /opt/conda/lib/python3.9/site-packages (from requests->snowflake-core==0.11.0->snowflake) (2024.7.4)\n",
      "Requirement already satisfied: charset-normalizer<4,>=2 in /opt/conda/lib/python3.9/site-packages (from requests->snowflake-core==0.11.0->snowflake) (3.3.2)\n",
      "Requirement already satisfied: idna<4,>=2.5 in /opt/conda/lib/python3.9/site-packages (from requests->snowflake-core==0.11.0->snowflake) (3.7)\n",
      "Requirement already satisfied: setuptools>=40.6.0 in /opt/conda/lib/python3.9/site-packages (from snowflake-snowpark-python<2.0.0,>=1.5.0->snowflake-core==0.11.0->snowflake) (65.6.3)\n",
      "Requirement already satisfied: snowflake-connector-python<4.0.0,>=3.10.0 in /opt/conda/lib/python3.9/site-packages (from snowflake-snowpark-python<2.0.0,>=1.5.0->snowflake-core==0.11.0->snowflake) (3.12.0)\n",
      "Requirement already satisfied: typing-extensions<5.0.0,>=4.1.0 in /opt/conda/lib/python3.9/site-packages (from snowflake-snowpark-python<2.0.0,>=1.5.0->snowflake-core==0.11.0->snowflake) (4.12.2)\n",
      "Requirement already satisfied: pyyaml in /opt/conda/lib/python3.9/site-packages (from snowflake-snowpark-python<2.0.0,>=1.5.0->snowflake-core==0.11.0->snowflake) (6.0.1)\n",
      "Requirement already satisfied: cloudpickle!=2.1.0,!=2.2.0,<=2.2.1,>=1.6.0; python_version < \"3.11\" in /opt/conda/lib/python3.9/site-packages (from snowflake-snowpark-python<2.0.0,>=1.5.0->snowflake-core==0.11.0->snowflake) (2.2.1)\n",
      "Requirement already satisfied: wheel in /opt/conda/lib/python3.9/site-packages (from snowflake-snowpark-python<2.0.0,>=1.5.0->snowflake-core==0.11.0->snowflake) (0.37.1)\n",
      "Collecting pydantic-core==2.20.1\n",
      "\u001b[?25l  Downloading https://files.pythonhosted.org/packages/9b/f1/a006955715be98093d092aa025f604c7c00721e83fe04bf467c49f31a685/pydantic_core-2.20.1-cp39-cp39-manylinux_2_17_x86_64.manylinux2014_x86_64.whl (2.1MB)\n",
      "\u001b[K     |████████████████████████████████| 2.1MB 89.7MB/s eta 0:00:01\n",
      "\u001b[?25hCollecting annotated-types>=0.4.0\n",
      "  Downloading https://files.pythonhosted.org/packages/78/b6/6307fbef88d9b5ee7421e68d78a9f162e0da4900bc5f5793f6d3d0e34fb8/annotated_types-0.7.0-py3-none-any.whl\n",
      "Requirement already satisfied: cffi<2.0.0,>=1.9 in /opt/conda/lib/python3.9/site-packages (from snowflake-connector-python<4.0.0,>=3.10.0->snowflake-snowpark-python<2.0.0,>=1.5.0->snowflake-core==0.11.0->snowflake) (1.16.0)\n",
      "Requirement already satisfied: tomlkit in /opt/conda/lib/python3.9/site-packages (from snowflake-connector-python<4.0.0,>=3.10.0->snowflake-snowpark-python<2.0.0,>=1.5.0->snowflake-core==0.11.0->snowflake) (0.13.0)\n",
      "Requirement already satisfied: pytz in /opt/conda/lib/python3.9/site-packages (from snowflake-connector-python<4.0.0,>=3.10.0->snowflake-snowpark-python<2.0.0,>=1.5.0->snowflake-core==0.11.0->snowflake) (2024.1)\n",
      "Requirement already satisfied: pyjwt<3.0.0 in /opt/conda/lib/python3.9/site-packages (from snowflake-connector-python<4.0.0,>=3.10.0->snowflake-snowpark-python<2.0.0,>=1.5.0->snowflake-core==0.11.0->snowflake) (2.8.0)\n",
      "Requirement already satisfied: sortedcontainers>=2.4.0 in /opt/conda/lib/python3.9/site-packages (from snowflake-connector-python<4.0.0,>=3.10.0->snowflake-snowpark-python<2.0.0,>=1.5.0->snowflake-core==0.11.0->snowflake) (2.4.0)\n",
      "Requirement already satisfied: asn1crypto<2.0.0,>0.24.0 in /opt/conda/lib/python3.9/site-packages (from snowflake-connector-python<4.0.0,>=3.10.0->snowflake-snowpark-python<2.0.0,>=1.5.0->snowflake-core==0.11.0->snowflake) (1.5.1)\n",
      "Requirement already satisfied: pyOpenSSL<25.0.0,>=16.2.0 in /opt/conda/lib/python3.9/site-packages (from snowflake-connector-python<4.0.0,>=3.10.0->snowflake-snowpark-python<2.0.0,>=1.5.0->snowflake-core==0.11.0->snowflake) (24.0.0)\n",
      "Requirement already satisfied: packaging in /opt/conda/lib/python3.9/site-packages (from snowflake-connector-python<4.0.0,>=3.10.0->snowflake-snowpark-python<2.0.0,>=1.5.0->snowflake-core==0.11.0->snowflake) (23.2)\n",
      "Requirement already satisfied: filelock<4,>=3.5 in /opt/conda/lib/python3.9/site-packages (from snowflake-connector-python<4.0.0,>=3.10.0->snowflake-snowpark-python<2.0.0,>=1.5.0->snowflake-core==0.11.0->snowflake) (3.15.4)\n",
      "Requirement already satisfied: platformdirs<5.0.0,>=2.6.0 in /opt/conda/lib/python3.9/site-packages (from snowflake-connector-python<4.0.0,>=3.10.0->snowflake-snowpark-python<2.0.0,>=1.5.0->snowflake-core==0.11.0->snowflake) (4.2.2)\n",
      "Requirement already satisfied: cryptography<43.0.0,>=3.1.0 in /opt/conda/lib/python3.9/site-packages (from snowflake-connector-python<4.0.0,>=3.10.0->snowflake-snowpark-python<2.0.0,>=1.5.0->snowflake-core==0.11.0->snowflake) (42.0.5)\n",
      "Requirement already satisfied: pycparser in /opt/conda/lib/python3.9/site-packages (from cffi<2.0.0,>=1.9->snowflake-connector-python<4.0.0,>=3.10.0->snowflake-snowpark-python<2.0.0,>=1.5.0->snowflake-core==0.11.0->snowflake) (2.21)\n",
      "Installing collected packages: snowflake-legacy, atpublic, pydantic-core, annotated-types, pydantic, snowflake-core, snowflake\n",
      "Successfully installed annotated-types-0.7.0 atpublic-5.0 pydantic-2.8.2 pydantic-core-2.20.1 snowflake-0.11.0 snowflake-core-0.11.0 snowflake-legacy-0.11.0\n",
      "\u001b[33mWARNING: You are using pip version 19.3.1; however, version 24.2 is available.\n",
      "You should consider upgrading via the 'pip install --upgrade pip' command.\u001b[0m\n",
      "Note: you may need to restart the kernel to use updated packages.\n"
     ]
    }
   ],
   "source": [
    "pip install snowflake"
   ]
  },
  {
   "cell_type": "code",
   "execution_count": 2,
   "metadata": {},
   "outputs": [
    {
     "name": "stdout",
     "output_type": "stream",
     "text": [
      "Collecting tabulate\n",
      "  Downloading https://files.pythonhosted.org/packages/40/44/4a5f08c96eb108af5cb50b41f76142f0afa346dfa99d5296fe7202a11854/tabulate-0.9.0-py3-none-any.whl\n",
      "Installing collected packages: tabulate\n",
      "Successfully installed tabulate-0.9.0\n",
      "\u001b[33mWARNING: You are using pip version 19.3.1; however, version 24.2 is available.\n",
      "You should consider upgrading via the 'pip install --upgrade pip' command.\u001b[0m\n",
      "Note: you may need to restart the kernel to use updated packages.\n"
     ]
    }
   ],
   "source": [
    "pip install tabulate"
   ]
  },
  {
   "cell_type": "code",
   "execution_count": 2,
   "metadata": {},
   "outputs": [
    {
     "name": "stdout",
     "output_type": "stream",
     "text": [
      "Collecting sqlglot\n",
      "\u001b[?25l  Downloading https://files.pythonhosted.org/packages/d4/01/d2f0387e435a3b13a01aba445875581a2c32109f5cc60f1dccabf7bc9db1/sqlglot-25.8.1-py3-none-any.whl (393kB)\n",
      "\u001b[K     |████████████████████████████████| 399kB 12.8MB/s eta 0:00:01\n",
      "\u001b[?25hInstalling collected packages: sqlglot\n",
      "Successfully installed sqlglot-25.8.1\n",
      "\u001b[33mWARNING: You are using pip version 19.3.1; however, version 24.2 is available.\n",
      "You should consider upgrading via the 'pip install --upgrade pip' command.\u001b[0m\n",
      "Note: you may need to restart the kernel to use updated packages.\n"
     ]
    }
   ],
   "source": [
    "pip install sqlglot"
   ]
  },
  {
   "cell_type": "markdown",
   "metadata": {},
   "source": [
    "#### Notebook Packages"
   ]
  },
  {
   "cell_type": "code",
   "execution_count": 1,
   "metadata": {
    "metadata": {}
   },
   "outputs": [],
   "source": [
    "# Python packages\n",
    "import os\n",
    "from os import listdir\n",
    "from os.path import isfile, join\n",
    "import time\n",
    "import json\n",
    "import timeit\n",
    "import numpy as np\n",
    "import pandas as pd\n",
    "import tabulate\n",
    "import datetime\n",
    "import ast      \n",
    "import sqlglot\n",
    "import sqlglot.optimizer.optimizer\n",
    "\n",
    "# SNOWFLAKE\n",
    "# Snowpark\n",
    "from snowflake.snowpark import Session, DataFrame, Window, WindowSpec\n",
    "\n",
    "import snowflake.snowpark.functions as F\n",
    "import snowflake.snowpark.types as T\n",
    "from snowflake.snowpark.version import VERSION\n",
    "\n",
    "# Snowflake Feature Store\n",
    "from snowflake.ml.feature_store import (\n",
    "    FeatureStore,\n",
    "    FeatureView,\n",
    "    Entity,\n",
    "    CreationMode)\n",
    "\n",
    "# Snowflake Model Registry\n",
    "from snowflake.ml.registry import Registry\n",
    "from snowflake.ml.utils import connection_params\n",
    "from snowflake.ml._internal.utils import  identifier  \n",
    "\n",
    "# COMMON FUNCTIONS\n",
    "from useful_fns import check_and_update, formatSQL, create_ModelRegistry, create_FeatureStore \n",
    "\n",
    "#### Use-Case 01 - Specific Packages\n",
    "# K-Means clustering\n",
    "#from sklearn.pipeline import Pipeline as skl_Pipeline\n",
    "from snowflake.ml.modeling.pipeline import Pipeline as sml_Pipeline\n",
    "#from sklearn.preprocessing import MinMaxScaler as skl_MinMaxScaler\n",
    "from snowflake.ml.modeling.preprocessing import MinMaxScaler as sml_MinMaxScaler\n",
    "#from sklearn.cluster import KMeans as skl_KMeans\n",
    "from snowflake.ml.modeling.cluster import KMeans as sml_KMeans"
   ]
  },
  {
   "cell_type": "markdown",
   "metadata": {},
   "source": [
    "### Setup Snowflake connection and database parameters"
   ]
  },
  {
   "cell_type": "code",
   "execution_count": 2,
   "metadata": {
    "metadata": {}
   },
   "outputs": [
    {
     "name": "stderr",
     "output_type": "stream",
     "text": [
      "SnowflakeLoginOptions() is in private preview since 0.2.0. Do not use it in production. \n"
     ]
    },
    {
     "ename": "SnowparkSQLException",
     "evalue": "(1304): 01b607b0-0607-c887-0072-f3030fb0f252: 002043 (02000): SQL compilation error:\nObject does not exist, or operation cannot be performed.",
     "output_type": "error",
     "traceback": [
      "\u001b[0;31m---------------------------------------------------------------------------\u001b[0m",
      "\u001b[0;31mSnowparkSQLException\u001b[0m                      Traceback (most recent call last)",
      "Cell \u001b[0;32mIn[2], line 24\u001b[0m\n\u001b[1;32m     21\u001b[0m snowpark_version \u001b[38;5;241m=\u001b[39m VERSION\n\u001b[1;32m     23\u001b[0m \u001b[38;5;66;03m# Set  Environment\u001b[39;00m\n\u001b[0;32m---> 24\u001b[0m \u001b[43msession\u001b[49m\u001b[38;5;241;43m.\u001b[39;49m\u001b[43msql\u001b[49m\u001b[43m(\u001b[49m\u001b[38;5;124;43mf\u001b[39;49m\u001b[38;5;124;43m'''\u001b[39;49m\u001b[38;5;124;43muse database \u001b[39;49m\u001b[38;5;132;43;01m{\u001b[39;49;00m\u001b[43mtpcxai_database\u001b[49m\u001b[38;5;132;43;01m}\u001b[39;49;00m\u001b[38;5;124;43m'''\u001b[39;49m\u001b[43m)\u001b[49m\u001b[38;5;241;43m.\u001b[39;49m\u001b[43mcollect\u001b[49m\u001b[43m(\u001b[49m\u001b[43m)\u001b[49m\n\u001b[1;32m     25\u001b[0m session\u001b[38;5;241m.\u001b[39msql(\u001b[38;5;124mf\u001b[39m\u001b[38;5;124m'''\u001b[39m\u001b[38;5;124muse schema \u001b[39m\u001b[38;5;132;01m{\u001b[39;00mtpcxai_training_schema\u001b[38;5;132;01m}\u001b[39;00m\u001b[38;5;124m'''\u001b[39m)\u001b[38;5;241m.\u001b[39mcollect()\n\u001b[1;32m     26\u001b[0m session\u001b[38;5;241m.\u001b[39msql(\u001b[38;5;124mf\u001b[39m\u001b[38;5;124m'''\u001b[39m\u001b[38;5;124muse role \u001b[39m\u001b[38;5;132;01m{\u001b[39;00mfs_qs_role\u001b[38;5;132;01m}\u001b[39;00m\u001b[38;5;124m'''\u001b[39m)\u001b[38;5;241m.\u001b[39mcollect()\n",
      "File \u001b[0;32m/opt/conda/lib/python3.9/site-packages/snowflake/snowpark/_internal/telemetry.py:150\u001b[0m, in \u001b[0;36mdf_collect_api_telemetry.<locals>.wrap\u001b[0;34m(*args, **kwargs)\u001b[0m\n\u001b[1;32m    147\u001b[0m \u001b[38;5;129m@functools\u001b[39m\u001b[38;5;241m.\u001b[39mwraps(func)\n\u001b[1;32m    148\u001b[0m \u001b[38;5;28;01mdef\u001b[39;00m \u001b[38;5;21mwrap\u001b[39m(\u001b[38;5;241m*\u001b[39margs, \u001b[38;5;241m*\u001b[39m\u001b[38;5;241m*\u001b[39mkwargs):\n\u001b[1;32m    149\u001b[0m     \u001b[38;5;28;01mwith\u001b[39;00m args[\u001b[38;5;241m0\u001b[39m]\u001b[38;5;241m.\u001b[39m_session\u001b[38;5;241m.\u001b[39mquery_history() \u001b[38;5;28;01mas\u001b[39;00m query_history:\n\u001b[0;32m--> 150\u001b[0m         result \u001b[38;5;241m=\u001b[39m \u001b[43mfunc\u001b[49m\u001b[43m(\u001b[49m\u001b[38;5;241;43m*\u001b[39;49m\u001b[43margs\u001b[49m\u001b[43m,\u001b[49m\u001b[43m \u001b[49m\u001b[38;5;241;43m*\u001b[39;49m\u001b[38;5;241;43m*\u001b[39;49m\u001b[43mkwargs\u001b[49m\u001b[43m)\u001b[49m\n\u001b[1;32m    151\u001b[0m     plan \u001b[38;5;241m=\u001b[39m args[\u001b[38;5;241m0\u001b[39m]\u001b[38;5;241m.\u001b[39m_select_statement \u001b[38;5;129;01mor\u001b[39;00m args[\u001b[38;5;241m0\u001b[39m]\u001b[38;5;241m.\u001b[39m_plan\n\u001b[1;32m    152\u001b[0m     api_calls \u001b[38;5;241m=\u001b[39m [\n\u001b[1;32m    153\u001b[0m         \u001b[38;5;241m*\u001b[39mplan\u001b[38;5;241m.\u001b[39mapi_calls,\n\u001b[1;32m    154\u001b[0m         {TelemetryField\u001b[38;5;241m.\u001b[39mNAME\u001b[38;5;241m.\u001b[39mvalue: \u001b[38;5;124mf\u001b[39m\u001b[38;5;124m\"\u001b[39m\u001b[38;5;124mDataFrame.\u001b[39m\u001b[38;5;132;01m{\u001b[39;00mfunc\u001b[38;5;241m.\u001b[39m\u001b[38;5;18m__name__\u001b[39m\u001b[38;5;132;01m}\u001b[39;00m\u001b[38;5;124m\"\u001b[39m},\n\u001b[1;32m    155\u001b[0m     ]\n",
      "File \u001b[0;32m/opt/conda/lib/python3.9/site-packages/snowflake/snowpark/dataframe.py:596\u001b[0m, in \u001b[0;36mDataFrame.collect\u001b[0;34m(self, statement_params, block, log_on_exception, case_sensitive)\u001b[0m\n\u001b[1;32m    581\u001b[0m \u001b[38;5;250m\u001b[39m\u001b[38;5;124;03m\"\"\"Executes the query representing this DataFrame and returns the result as a\u001b[39;00m\n\u001b[1;32m    582\u001b[0m \u001b[38;5;124;03mlist of :class:`Row` objects.\u001b[39;00m\n\u001b[1;32m    583\u001b[0m \n\u001b[0;32m   (...)\u001b[0m\n\u001b[1;32m    593\u001b[0m \u001b[38;5;124;03m    :meth:`collect_nowait()`\u001b[39;00m\n\u001b[1;32m    594\u001b[0m \u001b[38;5;124;03m\"\"\"\u001b[39;00m\n\u001b[1;32m    595\u001b[0m \u001b[38;5;28;01mwith\u001b[39;00m open_telemetry_context_manager(\u001b[38;5;28mself\u001b[39m\u001b[38;5;241m.\u001b[39mcollect, \u001b[38;5;28mself\u001b[39m):\n\u001b[0;32m--> 596\u001b[0m     \u001b[38;5;28;01mreturn\u001b[39;00m \u001b[38;5;28;43mself\u001b[39;49m\u001b[38;5;241;43m.\u001b[39;49m\u001b[43m_internal_collect_with_tag_no_telemetry\u001b[49m\u001b[43m(\u001b[49m\n\u001b[1;32m    597\u001b[0m \u001b[43m        \u001b[49m\u001b[43mstatement_params\u001b[49m\u001b[38;5;241;43m=\u001b[39;49m\u001b[43mstatement_params\u001b[49m\u001b[43m,\u001b[49m\n\u001b[1;32m    598\u001b[0m \u001b[43m        \u001b[49m\u001b[43mblock\u001b[49m\u001b[38;5;241;43m=\u001b[39;49m\u001b[43mblock\u001b[49m\u001b[43m,\u001b[49m\n\u001b[1;32m    599\u001b[0m \u001b[43m        \u001b[49m\u001b[43mlog_on_exception\u001b[49m\u001b[38;5;241;43m=\u001b[39;49m\u001b[43mlog_on_exception\u001b[49m\u001b[43m,\u001b[49m\n\u001b[1;32m    600\u001b[0m \u001b[43m        \u001b[49m\u001b[43mcase_sensitive\u001b[49m\u001b[38;5;241;43m=\u001b[39;49m\u001b[43mcase_sensitive\u001b[49m\u001b[43m,\u001b[49m\n\u001b[1;32m    601\u001b[0m \u001b[43m    \u001b[49m\u001b[43m)\u001b[49m\n",
      "File \u001b[0;32m/opt/conda/lib/python3.9/site-packages/snowflake/snowpark/dataframe.py:644\u001b[0m, in \u001b[0;36mDataFrame._internal_collect_with_tag_no_telemetry\u001b[0;34m(self, statement_params, block, data_type, log_on_exception, case_sensitive)\u001b[0m\n\u001b[1;32m    632\u001b[0m \u001b[38;5;28;01mdef\u001b[39;00m \u001b[38;5;21m_internal_collect_with_tag_no_telemetry\u001b[39m(\n\u001b[1;32m    633\u001b[0m     \u001b[38;5;28mself\u001b[39m,\n\u001b[1;32m    634\u001b[0m     \u001b[38;5;241m*\u001b[39m,\n\u001b[0;32m   (...)\u001b[0m\n\u001b[1;32m    642\u001b[0m     \u001b[38;5;66;03m# we should always call this method instead of collect(), to make sure the\u001b[39;00m\n\u001b[1;32m    643\u001b[0m     \u001b[38;5;66;03m# query tag is set properly.\u001b[39;00m\n\u001b[0;32m--> 644\u001b[0m     \u001b[38;5;28;01mreturn\u001b[39;00m \u001b[38;5;28;43mself\u001b[39;49m\u001b[38;5;241;43m.\u001b[39;49m\u001b[43m_session\u001b[49m\u001b[38;5;241;43m.\u001b[39;49m\u001b[43m_conn\u001b[49m\u001b[38;5;241;43m.\u001b[39;49m\u001b[43mexecute\u001b[49m\u001b[43m(\u001b[49m\n\u001b[1;32m    645\u001b[0m \u001b[43m        \u001b[49m\u001b[38;5;28;43mself\u001b[39;49m\u001b[38;5;241;43m.\u001b[39;49m\u001b[43m_plan\u001b[49m\u001b[43m,\u001b[49m\n\u001b[1;32m    646\u001b[0m \u001b[43m        \u001b[49m\u001b[43mblock\u001b[49m\u001b[38;5;241;43m=\u001b[39;49m\u001b[43mblock\u001b[49m\u001b[43m,\u001b[49m\n\u001b[1;32m    647\u001b[0m \u001b[43m        \u001b[49m\u001b[43mdata_type\u001b[49m\u001b[38;5;241;43m=\u001b[39;49m\u001b[43mdata_type\u001b[49m\u001b[43m,\u001b[49m\n\u001b[1;32m    648\u001b[0m \u001b[43m        \u001b[49m\u001b[43m_statement_params\u001b[49m\u001b[38;5;241;43m=\u001b[39;49m\u001b[43mcreate_or_update_statement_params_with_query_tag\u001b[49m\u001b[43m(\u001b[49m\n\u001b[1;32m    649\u001b[0m \u001b[43m            \u001b[49m\u001b[43mstatement_params\u001b[49m\u001b[43m \u001b[49m\u001b[38;5;129;43;01mor\u001b[39;49;00m\u001b[43m \u001b[49m\u001b[38;5;28;43mself\u001b[39;49m\u001b[38;5;241;43m.\u001b[39;49m\u001b[43m_statement_params\u001b[49m\u001b[43m,\u001b[49m\n\u001b[1;32m    650\u001b[0m \u001b[43m            \u001b[49m\u001b[38;5;28;43mself\u001b[39;49m\u001b[38;5;241;43m.\u001b[39;49m\u001b[43m_session\u001b[49m\u001b[38;5;241;43m.\u001b[39;49m\u001b[43mquery_tag\u001b[49m\u001b[43m,\u001b[49m\n\u001b[1;32m    651\u001b[0m \u001b[43m            \u001b[49m\u001b[43mSKIP_LEVELS_THREE\u001b[49m\u001b[43m,\u001b[49m\n\u001b[1;32m    652\u001b[0m \u001b[43m        \u001b[49m\u001b[43m)\u001b[49m\u001b[43m,\u001b[49m\n\u001b[1;32m    653\u001b[0m \u001b[43m        \u001b[49m\u001b[43mlog_on_exception\u001b[49m\u001b[38;5;241;43m=\u001b[39;49m\u001b[43mlog_on_exception\u001b[49m\u001b[43m,\u001b[49m\n\u001b[1;32m    654\u001b[0m \u001b[43m        \u001b[49m\u001b[43mcase_sensitive\u001b[49m\u001b[38;5;241;43m=\u001b[39;49m\u001b[43mcase_sensitive\u001b[49m\u001b[43m,\u001b[49m\n\u001b[1;32m    655\u001b[0m \u001b[43m    \u001b[49m\u001b[43m)\u001b[49m\n",
      "File \u001b[0;32m/opt/conda/lib/python3.9/site-packages/snowflake/snowpark/_internal/server_connection.py:513\u001b[0m, in \u001b[0;36mServerConnection.execute\u001b[0;34m(self, plan, to_pandas, to_iter, block, data_type, log_on_exception, case_sensitive, **kwargs)\u001b[0m\n\u001b[1;32m    503\u001b[0m \u001b[38;5;28;01mif\u001b[39;00m (\n\u001b[1;32m    504\u001b[0m     is_in_stored_procedure()\n\u001b[1;32m    505\u001b[0m     \u001b[38;5;129;01mand\u001b[39;00m \u001b[38;5;129;01mnot\u001b[39;00m block\n\u001b[0;32m   (...)\u001b[0m\n\u001b[1;32m    508\u001b[0m     )\n\u001b[1;32m    509\u001b[0m ):  \u001b[38;5;66;03m# pragma: no cover\u001b[39;00m\n\u001b[1;32m    510\u001b[0m     \u001b[38;5;28;01mraise\u001b[39;00m \u001b[38;5;167;01mNotImplementedError\u001b[39;00m(\n\u001b[1;32m    511\u001b[0m         \u001b[38;5;124m\"\u001b[39m\u001b[38;5;124mAsync query is not supported in stored procedure yet\u001b[39m\u001b[38;5;124m\"\u001b[39m\n\u001b[1;32m    512\u001b[0m     )\n\u001b[0;32m--> 513\u001b[0m result_set, result_meta \u001b[38;5;241m=\u001b[39m \u001b[38;5;28;43mself\u001b[39;49m\u001b[38;5;241;43m.\u001b[39;49m\u001b[43mget_result_set\u001b[49m\u001b[43m(\u001b[49m\n\u001b[1;32m    514\u001b[0m \u001b[43m    \u001b[49m\u001b[43mplan\u001b[49m\u001b[43m,\u001b[49m\n\u001b[1;32m    515\u001b[0m \u001b[43m    \u001b[49m\u001b[43mto_pandas\u001b[49m\u001b[43m,\u001b[49m\n\u001b[1;32m    516\u001b[0m \u001b[43m    \u001b[49m\u001b[43mto_iter\u001b[49m\u001b[43m,\u001b[49m\n\u001b[1;32m    517\u001b[0m \u001b[43m    \u001b[49m\u001b[38;5;241;43m*\u001b[39;49m\u001b[38;5;241;43m*\u001b[39;49m\u001b[43mkwargs\u001b[49m\u001b[43m,\u001b[49m\n\u001b[1;32m    518\u001b[0m \u001b[43m    \u001b[49m\u001b[43mblock\u001b[49m\u001b[38;5;241;43m=\u001b[39;49m\u001b[43mblock\u001b[49m\u001b[43m,\u001b[49m\n\u001b[1;32m    519\u001b[0m \u001b[43m    \u001b[49m\u001b[43mdata_type\u001b[49m\u001b[38;5;241;43m=\u001b[39;49m\u001b[43mdata_type\u001b[49m\u001b[43m,\u001b[49m\n\u001b[1;32m    520\u001b[0m \u001b[43m    \u001b[49m\u001b[43mlog_on_exception\u001b[49m\u001b[38;5;241;43m=\u001b[39;49m\u001b[43mlog_on_exception\u001b[49m\u001b[43m,\u001b[49m\n\u001b[1;32m    521\u001b[0m \u001b[43m    \u001b[49m\u001b[43mcase_sensitive\u001b[49m\u001b[38;5;241;43m=\u001b[39;49m\u001b[43mcase_sensitive\u001b[49m\u001b[43m,\u001b[49m\n\u001b[1;32m    522\u001b[0m \u001b[43m\u001b[49m\u001b[43m)\u001b[49m\n\u001b[1;32m    523\u001b[0m \u001b[38;5;28;01mif\u001b[39;00m \u001b[38;5;129;01mnot\u001b[39;00m block:\n\u001b[1;32m    524\u001b[0m     \u001b[38;5;28;01mreturn\u001b[39;00m result_set\n",
      "File \u001b[0;32m/opt/conda/lib/python3.9/site-packages/snowflake/snowpark/_internal/analyzer/snowflake_plan.py:195\u001b[0m, in \u001b[0;36mSnowflakePlan.Decorator.wrap_exception.<locals>.wrap\u001b[0;34m(*args, **kwargs)\u001b[0m\n\u001b[1;32m    191\u001b[0m \u001b[38;5;28;01melse\u001b[39;00m:\n\u001b[1;32m    192\u001b[0m     ne \u001b[38;5;241m=\u001b[39m SnowparkClientExceptionMessages\u001b[38;5;241m.\u001b[39mSQL_EXCEPTION_FROM_PROGRAMMING_ERROR(\n\u001b[1;32m    193\u001b[0m         e\n\u001b[1;32m    194\u001b[0m     )\n\u001b[0;32m--> 195\u001b[0m     \u001b[38;5;28;01mraise\u001b[39;00m ne\u001b[38;5;241m.\u001b[39mwith_traceback(tb) \u001b[38;5;28;01mfrom\u001b[39;00m \u001b[38;5;28;01mNone\u001b[39;00m\n",
      "File \u001b[0;32m/opt/conda/lib/python3.9/site-packages/snowflake/snowpark/_internal/analyzer/snowflake_plan.py:126\u001b[0m, in \u001b[0;36mSnowflakePlan.Decorator.wrap_exception.<locals>.wrap\u001b[0;34m(*args, **kwargs)\u001b[0m\n\u001b[1;32m    124\u001b[0m \u001b[38;5;28;01mdef\u001b[39;00m \u001b[38;5;21mwrap\u001b[39m(\u001b[38;5;241m*\u001b[39margs, \u001b[38;5;241m*\u001b[39m\u001b[38;5;241m*\u001b[39mkwargs):\n\u001b[1;32m    125\u001b[0m     \u001b[38;5;28;01mtry\u001b[39;00m:\n\u001b[0;32m--> 126\u001b[0m         \u001b[38;5;28;01mreturn\u001b[39;00m \u001b[43mfunc\u001b[49m\u001b[43m(\u001b[49m\u001b[38;5;241;43m*\u001b[39;49m\u001b[43margs\u001b[49m\u001b[43m,\u001b[49m\u001b[43m \u001b[49m\u001b[38;5;241;43m*\u001b[39;49m\u001b[38;5;241;43m*\u001b[39;49m\u001b[43mkwargs\u001b[49m\u001b[43m)\u001b[49m\n\u001b[1;32m    127\u001b[0m     \u001b[38;5;28;01mexcept\u001b[39;00m snowflake\u001b[38;5;241m.\u001b[39mconnector\u001b[38;5;241m.\u001b[39merrors\u001b[38;5;241m.\u001b[39mProgrammingError \u001b[38;5;28;01mas\u001b[39;00m e:\n\u001b[1;32m    128\u001b[0m         query \u001b[38;5;241m=\u001b[39m \u001b[38;5;28mgetattr\u001b[39m(e, \u001b[38;5;124m\"\u001b[39m\u001b[38;5;124mquery\u001b[39m\u001b[38;5;124m\"\u001b[39m, \u001b[38;5;28;01mNone\u001b[39;00m)\n",
      "File \u001b[0;32m/opt/conda/lib/python3.9/site-packages/snowflake/snowpark/_internal/server_connection.py:617\u001b[0m, in \u001b[0;36mServerConnection.get_result_set\u001b[0;34m(self, plan, to_pandas, to_iter, block, data_type, log_on_exception, case_sensitive, ignore_results, **kwargs)\u001b[0m\n\u001b[1;32m    615\u001b[0m \u001b[38;5;28;01mfor\u001b[39;00m holder, id_ \u001b[38;5;129;01min\u001b[39;00m placeholders\u001b[38;5;241m.\u001b[39mitems():\n\u001b[1;32m    616\u001b[0m     final_query \u001b[38;5;241m=\u001b[39m final_query\u001b[38;5;241m.\u001b[39mreplace(holder, id_)\n\u001b[0;32m--> 617\u001b[0m result \u001b[38;5;241m=\u001b[39m \u001b[38;5;28;43mself\u001b[39;49m\u001b[38;5;241;43m.\u001b[39;49m\u001b[43mrun_query\u001b[49m\u001b[43m(\u001b[49m\n\u001b[1;32m    618\u001b[0m \u001b[43m    \u001b[49m\u001b[43mfinal_query\u001b[49m\u001b[43m,\u001b[49m\n\u001b[1;32m    619\u001b[0m \u001b[43m    \u001b[49m\u001b[43mto_pandas\u001b[49m\u001b[43m,\u001b[49m\n\u001b[1;32m    620\u001b[0m \u001b[43m    \u001b[49m\u001b[43mto_iter\u001b[49m\u001b[43m \u001b[49m\u001b[38;5;129;43;01mand\u001b[39;49;00m\u001b[43m \u001b[49m\u001b[43m(\u001b[49m\u001b[43mi\u001b[49m\u001b[43m \u001b[49m\u001b[38;5;241;43m==\u001b[39;49m\u001b[43m \u001b[49m\u001b[38;5;28;43mlen\u001b[39;49m\u001b[43m(\u001b[49m\u001b[43mplan\u001b[49m\u001b[38;5;241;43m.\u001b[39;49m\u001b[43mqueries\u001b[49m\u001b[43m)\u001b[49m\u001b[43m \u001b[49m\u001b[38;5;241;43m-\u001b[39;49m\u001b[43m \u001b[49m\u001b[38;5;241;43m1\u001b[39;49m\u001b[43m)\u001b[49m\u001b[43m,\u001b[49m\n\u001b[1;32m    621\u001b[0m \u001b[43m    \u001b[49m\u001b[43mis_ddl_on_temp_object\u001b[49m\u001b[38;5;241;43m=\u001b[39;49m\u001b[43mquery\u001b[49m\u001b[38;5;241;43m.\u001b[39;49m\u001b[43mis_ddl_on_temp_object\u001b[49m\u001b[43m,\u001b[49m\n\u001b[1;32m    622\u001b[0m \u001b[43m    \u001b[49m\u001b[43mblock\u001b[49m\u001b[38;5;241;43m=\u001b[39;49m\u001b[38;5;129;43;01mnot\u001b[39;49;00m\u001b[43m \u001b[49m\u001b[43mis_last\u001b[49m\u001b[43m,\u001b[49m\n\u001b[1;32m    623\u001b[0m \u001b[43m    \u001b[49m\u001b[43mdata_type\u001b[49m\u001b[38;5;241;43m=\u001b[39;49m\u001b[43mdata_type\u001b[49m\u001b[43m,\u001b[49m\n\u001b[1;32m    624\u001b[0m \u001b[43m    \u001b[49m\u001b[43masync_job_plan\u001b[49m\u001b[38;5;241;43m=\u001b[39;49m\u001b[43mplan\u001b[49m\u001b[43m,\u001b[49m\n\u001b[1;32m    625\u001b[0m \u001b[43m    \u001b[49m\u001b[43mlog_on_exception\u001b[49m\u001b[38;5;241;43m=\u001b[39;49m\u001b[43mlog_on_exception\u001b[49m\u001b[43m,\u001b[49m\n\u001b[1;32m    626\u001b[0m \u001b[43m    \u001b[49m\u001b[43mcase_sensitive\u001b[49m\u001b[38;5;241;43m=\u001b[39;49m\u001b[43mcase_sensitive\u001b[49m\u001b[43m,\u001b[49m\n\u001b[1;32m    627\u001b[0m \u001b[43m    \u001b[49m\u001b[43mparams\u001b[49m\u001b[38;5;241;43m=\u001b[39;49m\u001b[43mquery\u001b[49m\u001b[38;5;241;43m.\u001b[39;49m\u001b[43mparams\u001b[49m\u001b[43m,\u001b[49m\n\u001b[1;32m    628\u001b[0m \u001b[43m    \u001b[49m\u001b[43mignore_results\u001b[49m\u001b[38;5;241;43m=\u001b[39;49m\u001b[43mignore_results\u001b[49m\u001b[43m,\u001b[49m\n\u001b[1;32m    629\u001b[0m \u001b[43m    \u001b[49m\u001b[38;5;241;43m*\u001b[39;49m\u001b[38;5;241;43m*\u001b[39;49m\u001b[43mkwargs\u001b[49m\u001b[43m,\u001b[49m\n\u001b[1;32m    630\u001b[0m \u001b[43m\u001b[49m\u001b[43m)\u001b[49m\n\u001b[1;32m    631\u001b[0m placeholders[query\u001b[38;5;241m.\u001b[39mquery_id_place_holder] \u001b[38;5;241m=\u001b[39m (\n\u001b[1;32m    632\u001b[0m     result[\u001b[38;5;124m\"\u001b[39m\u001b[38;5;124msfqid\u001b[39m\u001b[38;5;124m\"\u001b[39m] \u001b[38;5;28;01mif\u001b[39;00m \u001b[38;5;129;01mnot\u001b[39;00m is_last \u001b[38;5;28;01melse\u001b[39;00m result\u001b[38;5;241m.\u001b[39mquery_id\n\u001b[1;32m    633\u001b[0m )\n\u001b[1;32m    634\u001b[0m result_meta \u001b[38;5;241m=\u001b[39m get_new_description(\u001b[38;5;28mself\u001b[39m\u001b[38;5;241m.\u001b[39m_cursor)\n",
      "File \u001b[0;32m/opt/conda/lib/python3.9/site-packages/snowflake/snowpark/_internal/server_connection.py:123\u001b[0m, in \u001b[0;36mServerConnection._Decorator.wrap_exception.<locals>.wrap\u001b[0;34m(*args, **kwargs)\u001b[0m\n\u001b[1;32m    119\u001b[0m     \u001b[38;5;28;01mraise\u001b[39;00m SnowparkClientExceptionMessages\u001b[38;5;241m.\u001b[39mSERVER_SESSION_EXPIRED(\n\u001b[1;32m    120\u001b[0m         ex\u001b[38;5;241m.\u001b[39mcause\n\u001b[1;32m    121\u001b[0m     )\n\u001b[1;32m    122\u001b[0m \u001b[38;5;28;01mexcept\u001b[39;00m \u001b[38;5;167;01mException\u001b[39;00m \u001b[38;5;28;01mas\u001b[39;00m ex:\n\u001b[0;32m--> 123\u001b[0m     \u001b[38;5;28;01mraise\u001b[39;00m ex\n",
      "File \u001b[0;32m/opt/conda/lib/python3.9/site-packages/snowflake/snowpark/_internal/server_connection.py:117\u001b[0m, in \u001b[0;36mServerConnection._Decorator.wrap_exception.<locals>.wrap\u001b[0;34m(*args, **kwargs)\u001b[0m\n\u001b[1;32m    115\u001b[0m     \u001b[38;5;28;01mraise\u001b[39;00m SnowparkClientExceptionMessages\u001b[38;5;241m.\u001b[39mSERVER_SESSION_HAS_BEEN_CLOSED()\n\u001b[1;32m    116\u001b[0m \u001b[38;5;28;01mtry\u001b[39;00m:\n\u001b[0;32m--> 117\u001b[0m     \u001b[38;5;28;01mreturn\u001b[39;00m \u001b[43mfunc\u001b[49m\u001b[43m(\u001b[49m\u001b[38;5;241;43m*\u001b[39;49m\u001b[43margs\u001b[49m\u001b[43m,\u001b[49m\u001b[43m \u001b[49m\u001b[38;5;241;43m*\u001b[39;49m\u001b[38;5;241;43m*\u001b[39;49m\u001b[43mkwargs\u001b[49m\u001b[43m)\u001b[49m\n\u001b[1;32m    118\u001b[0m \u001b[38;5;28;01mexcept\u001b[39;00m ReauthenticationRequest \u001b[38;5;28;01mas\u001b[39;00m ex:\n\u001b[1;32m    119\u001b[0m     \u001b[38;5;28;01mraise\u001b[39;00m SnowparkClientExceptionMessages\u001b[38;5;241m.\u001b[39mSERVER_SESSION_EXPIRED(\n\u001b[1;32m    120\u001b[0m         ex\u001b[38;5;241m.\u001b[39mcause\n\u001b[1;32m    121\u001b[0m     )\n",
      "File \u001b[0;32m/opt/conda/lib/python3.9/site-packages/snowflake/snowpark/_internal/server_connection.py:418\u001b[0m, in \u001b[0;36mServerConnection.run_query\u001b[0;34m(self, query, to_pandas, to_iter, is_ddl_on_temp_object, block, data_type, async_job_plan, log_on_exception, case_sensitive, params, num_statements, ignore_results, **kwargs)\u001b[0m\n\u001b[1;32m    416\u001b[0m         query_id_log \u001b[38;5;241m=\u001b[39m \u001b[38;5;124mf\u001b[39m\u001b[38;5;124m\"\u001b[39m\u001b[38;5;124m [queryID: \u001b[39m\u001b[38;5;132;01m{\u001b[39;00mex\u001b[38;5;241m.\u001b[39msfqid\u001b[38;5;132;01m}\u001b[39;00m\u001b[38;5;124m]\u001b[39m\u001b[38;5;124m\"\u001b[39m \u001b[38;5;28;01mif\u001b[39;00m \u001b[38;5;28mhasattr\u001b[39m(ex, \u001b[38;5;124m\"\u001b[39m\u001b[38;5;124msfqid\u001b[39m\u001b[38;5;124m\"\u001b[39m) \u001b[38;5;28;01melse\u001b[39;00m \u001b[38;5;124m\"\u001b[39m\u001b[38;5;124m\"\u001b[39m\n\u001b[1;32m    417\u001b[0m         logger\u001b[38;5;241m.\u001b[39merror(\u001b[38;5;124mf\u001b[39m\u001b[38;5;124m\"\u001b[39m\u001b[38;5;124mFailed to execute query\u001b[39m\u001b[38;5;132;01m{\u001b[39;00mquery_id_log\u001b[38;5;132;01m}\u001b[39;00m\u001b[38;5;124m \u001b[39m\u001b[38;5;132;01m{\u001b[39;00mquery\u001b[38;5;132;01m}\u001b[39;00m\u001b[38;5;130;01m\\n\u001b[39;00m\u001b[38;5;132;01m{\u001b[39;00mex\u001b[38;5;132;01m}\u001b[39;00m\u001b[38;5;124m\"\u001b[39m)\n\u001b[0;32m--> 418\u001b[0m     \u001b[38;5;28;01mraise\u001b[39;00m ex\n\u001b[1;32m    420\u001b[0m \u001b[38;5;66;03m# fetch_pandas_all/batches() only works for SELECT statements\u001b[39;00m\n\u001b[1;32m    421\u001b[0m \u001b[38;5;66;03m# We call fetchall() if fetch_pandas_all/batches() fails,\u001b[39;00m\n\u001b[1;32m    422\u001b[0m \u001b[38;5;66;03m# because when the query plan has multiple queries, it will\u001b[39;00m\n\u001b[1;32m    423\u001b[0m \u001b[38;5;66;03m# have non-select statements, and it shouldn't fail if the user\u001b[39;00m\n\u001b[1;32m    424\u001b[0m \u001b[38;5;66;03m# calls to_pandas() to execute the query.\u001b[39;00m\n\u001b[1;32m    425\u001b[0m \u001b[38;5;28;01mif\u001b[39;00m block:\n",
      "File \u001b[0;32m/opt/conda/lib/python3.9/site-packages/snowflake/snowpark/_internal/server_connection.py:403\u001b[0m, in \u001b[0;36mServerConnection.run_query\u001b[0;34m(self, query, to_pandas, to_iter, is_ddl_on_temp_object, block, data_type, async_job_plan, log_on_exception, case_sensitive, params, num_statements, ignore_results, **kwargs)\u001b[0m\n\u001b[1;32m    401\u001b[0m     kwargs[\u001b[38;5;124m\"\u001b[39m\u001b[38;5;124m_statement_params\u001b[39m\u001b[38;5;124m\"\u001b[39m][\u001b[38;5;124m\"\u001b[39m\u001b[38;5;124mSNOWPARK_SKIP_TXN_COMMIT_IN_DDL\u001b[39m\u001b[38;5;124m\"\u001b[39m] \u001b[38;5;241m=\u001b[39m \u001b[38;5;28;01mTrue\u001b[39;00m\n\u001b[1;32m    402\u001b[0m \u001b[38;5;28;01mif\u001b[39;00m block:\n\u001b[0;32m--> 403\u001b[0m     results_cursor \u001b[38;5;241m=\u001b[39m \u001b[38;5;28;43mself\u001b[39;49m\u001b[38;5;241;43m.\u001b[39;49m\u001b[43mexecute_and_notify_query_listener\u001b[49m\u001b[43m(\u001b[49m\n\u001b[1;32m    404\u001b[0m \u001b[43m        \u001b[49m\u001b[43mquery\u001b[49m\u001b[43m,\u001b[49m\u001b[43m \u001b[49m\u001b[43mparams\u001b[49m\u001b[38;5;241;43m=\u001b[39;49m\u001b[43mparams\u001b[49m\u001b[43m,\u001b[49m\u001b[43m \u001b[49m\u001b[38;5;241;43m*\u001b[39;49m\u001b[38;5;241;43m*\u001b[39;49m\u001b[43mkwargs\u001b[49m\n\u001b[1;32m    405\u001b[0m \u001b[43m    \u001b[49m\u001b[43m)\u001b[49m\n\u001b[1;32m    406\u001b[0m     logger\u001b[38;5;241m.\u001b[39mdebug(\u001b[38;5;124mf\u001b[39m\u001b[38;5;124m\"\u001b[39m\u001b[38;5;124mExecute query [queryID: \u001b[39m\u001b[38;5;132;01m{\u001b[39;00mresults_cursor\u001b[38;5;241m.\u001b[39msfqid\u001b[38;5;132;01m}\u001b[39;00m\u001b[38;5;124m] \u001b[39m\u001b[38;5;132;01m{\u001b[39;00mquery\u001b[38;5;132;01m}\u001b[39;00m\u001b[38;5;124m\"\u001b[39m)\n\u001b[1;32m    407\u001b[0m \u001b[38;5;28;01melse\u001b[39;00m:\n",
      "File \u001b[0;32m/opt/conda/lib/python3.9/site-packages/snowflake/snowpark/_internal/server_connection.py:354\u001b[0m, in \u001b[0;36mServerConnection.execute_and_notify_query_listener\u001b[0;34m(self, query, **kwargs)\u001b[0m\n\u001b[1;32m    351\u001b[0m \u001b[38;5;28;01mdef\u001b[39;00m \u001b[38;5;21mexecute_and_notify_query_listener\u001b[39m(\n\u001b[1;32m    352\u001b[0m     \u001b[38;5;28mself\u001b[39m, query: \u001b[38;5;28mstr\u001b[39m, \u001b[38;5;241m*\u001b[39m\u001b[38;5;241m*\u001b[39mkwargs: Any\n\u001b[1;32m    353\u001b[0m ) \u001b[38;5;241m-\u001b[39m\u001b[38;5;241m>\u001b[39m SnowflakeCursor:\n\u001b[0;32m--> 354\u001b[0m     results_cursor \u001b[38;5;241m=\u001b[39m \u001b[38;5;28;43mself\u001b[39;49m\u001b[38;5;241;43m.\u001b[39;49m\u001b[43m_cursor\u001b[49m\u001b[38;5;241;43m.\u001b[39;49m\u001b[43mexecute\u001b[49m\u001b[43m(\u001b[49m\u001b[43mquery\u001b[49m\u001b[43m,\u001b[49m\u001b[43m \u001b[49m\u001b[38;5;241;43m*\u001b[39;49m\u001b[38;5;241;43m*\u001b[39;49m\u001b[43mkwargs\u001b[49m\u001b[43m)\u001b[49m\n\u001b[1;32m    355\u001b[0m     \u001b[38;5;28mself\u001b[39m\u001b[38;5;241m.\u001b[39mnotify_query_listeners(\n\u001b[1;32m    356\u001b[0m         QueryRecord(results_cursor\u001b[38;5;241m.\u001b[39msfqid, results_cursor\u001b[38;5;241m.\u001b[39mquery)\n\u001b[1;32m    357\u001b[0m     )\n\u001b[1;32m    358\u001b[0m     \u001b[38;5;28;01mreturn\u001b[39;00m results_cursor\n",
      "File \u001b[0;32m/opt/conda/lib/python3.9/site-packages/snowflake/connector/cursor.py:1087\u001b[0m, in \u001b[0;36mSnowflakeCursor.execute\u001b[0;34m(self, command, params, _bind_stage, timeout, _exec_async, _no_retry, _do_reset, _put_callback, _put_azure_callback, _put_callback_output_stream, _get_callback, _get_azure_callback, _get_callback_output_stream, _show_progress_bar, _statement_params, _is_internal, _describe_only, _no_results, _is_put_get, _raise_put_get_error, _force_put_overwrite, _skip_upload_on_content_match, file_stream, num_statements, _dataframe_ast)\u001b[0m\n\u001b[1;32m   1083\u001b[0m     is_integrity_error \u001b[38;5;241m=\u001b[39m (\n\u001b[1;32m   1084\u001b[0m         code \u001b[38;5;241m==\u001b[39m \u001b[38;5;124m\"\u001b[39m\u001b[38;5;124m100072\u001b[39m\u001b[38;5;124m\"\u001b[39m\n\u001b[1;32m   1085\u001b[0m     )  \u001b[38;5;66;03m# NULL result in a non-nullable column\u001b[39;00m\n\u001b[1;32m   1086\u001b[0m     error_class \u001b[38;5;241m=\u001b[39m IntegrityError \u001b[38;5;28;01mif\u001b[39;00m is_integrity_error \u001b[38;5;28;01melse\u001b[39;00m ProgrammingError\n\u001b[0;32m-> 1087\u001b[0m     \u001b[43mError\u001b[49m\u001b[38;5;241;43m.\u001b[39;49m\u001b[43merrorhandler_wrapper\u001b[49m\u001b[43m(\u001b[49m\u001b[38;5;28;43mself\u001b[39;49m\u001b[38;5;241;43m.\u001b[39;49m\u001b[43mconnection\u001b[49m\u001b[43m,\u001b[49m\u001b[43m \u001b[49m\u001b[38;5;28;43mself\u001b[39;49m\u001b[43m,\u001b[49m\u001b[43m \u001b[49m\u001b[43merror_class\u001b[49m\u001b[43m,\u001b[49m\u001b[43m \u001b[49m\u001b[43merrvalue\u001b[49m\u001b[43m)\u001b[49m\n\u001b[1;32m   1088\u001b[0m \u001b[38;5;28;01mreturn\u001b[39;00m \u001b[38;5;28mself\u001b[39m\n",
      "File \u001b[0;32m/opt/conda/lib/python3.9/site-packages/snowflake/connector/errors.py:290\u001b[0m, in \u001b[0;36mError.errorhandler_wrapper\u001b[0;34m(connection, cursor, error_class, error_value)\u001b[0m\n\u001b[1;32m    267\u001b[0m \u001b[38;5;129m@staticmethod\u001b[39m\n\u001b[1;32m    268\u001b[0m \u001b[38;5;28;01mdef\u001b[39;00m \u001b[38;5;21merrorhandler_wrapper\u001b[39m(\n\u001b[1;32m    269\u001b[0m     connection: SnowflakeConnection \u001b[38;5;241m|\u001b[39m \u001b[38;5;28;01mNone\u001b[39;00m,\n\u001b[0;32m   (...)\u001b[0m\n\u001b[1;32m    272\u001b[0m     error_value: \u001b[38;5;28mdict\u001b[39m[\u001b[38;5;28mstr\u001b[39m, Any],\n\u001b[1;32m    273\u001b[0m ) \u001b[38;5;241m-\u001b[39m\u001b[38;5;241m>\u001b[39m \u001b[38;5;28;01mNone\u001b[39;00m:\n\u001b[1;32m    274\u001b[0m \u001b[38;5;250m    \u001b[39m\u001b[38;5;124;03m\"\"\"Error handler wrapper that calls the errorhandler method.\u001b[39;00m\n\u001b[1;32m    275\u001b[0m \n\u001b[1;32m    276\u001b[0m \u001b[38;5;124;03m    Args:\u001b[39;00m\n\u001b[0;32m   (...)\u001b[0m\n\u001b[1;32m    287\u001b[0m \u001b[38;5;124;03m        exception to the first handler in that order.\u001b[39;00m\n\u001b[1;32m    288\u001b[0m \u001b[38;5;124;03m    \"\"\"\u001b[39;00m\n\u001b[0;32m--> 290\u001b[0m     handed_over \u001b[38;5;241m=\u001b[39m \u001b[43mError\u001b[49m\u001b[38;5;241;43m.\u001b[39;49m\u001b[43mhand_to_other_handler\u001b[49m\u001b[43m(\u001b[49m\n\u001b[1;32m    291\u001b[0m \u001b[43m        \u001b[49m\u001b[43mconnection\u001b[49m\u001b[43m,\u001b[49m\n\u001b[1;32m    292\u001b[0m \u001b[43m        \u001b[49m\u001b[43mcursor\u001b[49m\u001b[43m,\u001b[49m\n\u001b[1;32m    293\u001b[0m \u001b[43m        \u001b[49m\u001b[43merror_class\u001b[49m\u001b[43m,\u001b[49m\n\u001b[1;32m    294\u001b[0m \u001b[43m        \u001b[49m\u001b[43merror_value\u001b[49m\u001b[43m,\u001b[49m\n\u001b[1;32m    295\u001b[0m \u001b[43m    \u001b[49m\u001b[43m)\u001b[49m\n\u001b[1;32m    296\u001b[0m     \u001b[38;5;28;01mif\u001b[39;00m \u001b[38;5;129;01mnot\u001b[39;00m handed_over:\n\u001b[1;32m    297\u001b[0m         \u001b[38;5;28;01mraise\u001b[39;00m Error\u001b[38;5;241m.\u001b[39merrorhandler_make_exception(\n\u001b[1;32m    298\u001b[0m             error_class,\n\u001b[1;32m    299\u001b[0m             error_value,\n\u001b[1;32m    300\u001b[0m         )\n",
      "File \u001b[0;32m/opt/conda/lib/python3.9/site-packages/snowflake/connector/errors.py:345\u001b[0m, in \u001b[0;36mError.hand_to_other_handler\u001b[0;34m(connection, cursor, error_class, error_value)\u001b[0m\n\u001b[1;32m    343\u001b[0m \u001b[38;5;28;01mif\u001b[39;00m cursor \u001b[38;5;129;01mis\u001b[39;00m \u001b[38;5;129;01mnot\u001b[39;00m \u001b[38;5;28;01mNone\u001b[39;00m:\n\u001b[1;32m    344\u001b[0m     cursor\u001b[38;5;241m.\u001b[39mmessages\u001b[38;5;241m.\u001b[39mappend((error_class, error_value))\n\u001b[0;32m--> 345\u001b[0m     \u001b[43mcursor\u001b[49m\u001b[38;5;241;43m.\u001b[39;49m\u001b[43merrorhandler\u001b[49m\u001b[43m(\u001b[49m\u001b[43mconnection\u001b[49m\u001b[43m,\u001b[49m\u001b[43m \u001b[49m\u001b[43mcursor\u001b[49m\u001b[43m,\u001b[49m\u001b[43m \u001b[49m\u001b[43merror_class\u001b[49m\u001b[43m,\u001b[49m\u001b[43m \u001b[49m\u001b[43merror_value\u001b[49m\u001b[43m)\u001b[49m\n\u001b[1;32m    346\u001b[0m     \u001b[38;5;28;01mreturn\u001b[39;00m \u001b[38;5;28;01mTrue\u001b[39;00m\n\u001b[1;32m    347\u001b[0m \u001b[38;5;28;01melif\u001b[39;00m connection \u001b[38;5;129;01mis\u001b[39;00m \u001b[38;5;129;01mnot\u001b[39;00m \u001b[38;5;28;01mNone\u001b[39;00m:\n",
      "File \u001b[0;32m/opt/conda/lib/python3.9/site-packages/snowflake/connector/errors.py:221\u001b[0m, in \u001b[0;36mError.default_errorhandler\u001b[0;34m(connection, cursor, error_class, error_value)\u001b[0m\n\u001b[1;32m    219\u001b[0m errno \u001b[38;5;241m=\u001b[39m error_value\u001b[38;5;241m.\u001b[39mget(\u001b[38;5;124m\"\u001b[39m\u001b[38;5;124merrno\u001b[39m\u001b[38;5;124m\"\u001b[39m)\n\u001b[1;32m    220\u001b[0m done_format_msg \u001b[38;5;241m=\u001b[39m error_value\u001b[38;5;241m.\u001b[39mget(\u001b[38;5;124m\"\u001b[39m\u001b[38;5;124mdone_format_msg\u001b[39m\u001b[38;5;124m\"\u001b[39m)\n\u001b[0;32m--> 221\u001b[0m \u001b[38;5;28;01mraise\u001b[39;00m error_class(\n\u001b[1;32m    222\u001b[0m     msg\u001b[38;5;241m=\u001b[39merror_value\u001b[38;5;241m.\u001b[39mget(\u001b[38;5;124m\"\u001b[39m\u001b[38;5;124mmsg\u001b[39m\u001b[38;5;124m\"\u001b[39m),\n\u001b[1;32m    223\u001b[0m     errno\u001b[38;5;241m=\u001b[39m\u001b[38;5;28;01mNone\u001b[39;00m \u001b[38;5;28;01mif\u001b[39;00m errno \u001b[38;5;129;01mis\u001b[39;00m \u001b[38;5;28;01mNone\u001b[39;00m \u001b[38;5;28;01melse\u001b[39;00m \u001b[38;5;28mint\u001b[39m(errno),\n\u001b[1;32m    224\u001b[0m     sqlstate\u001b[38;5;241m=\u001b[39merror_value\u001b[38;5;241m.\u001b[39mget(\u001b[38;5;124m\"\u001b[39m\u001b[38;5;124msqlstate\u001b[39m\u001b[38;5;124m\"\u001b[39m),\n\u001b[1;32m    225\u001b[0m     sfqid\u001b[38;5;241m=\u001b[39merror_value\u001b[38;5;241m.\u001b[39mget(\u001b[38;5;124m\"\u001b[39m\u001b[38;5;124msfqid\u001b[39m\u001b[38;5;124m\"\u001b[39m),\n\u001b[1;32m    226\u001b[0m     query\u001b[38;5;241m=\u001b[39merror_value\u001b[38;5;241m.\u001b[39mget(\u001b[38;5;124m\"\u001b[39m\u001b[38;5;124mquery\u001b[39m\u001b[38;5;124m\"\u001b[39m),\n\u001b[1;32m    227\u001b[0m     done_format_msg\u001b[38;5;241m=\u001b[39m(\n\u001b[1;32m    228\u001b[0m         \u001b[38;5;28;01mNone\u001b[39;00m \u001b[38;5;28;01mif\u001b[39;00m done_format_msg \u001b[38;5;129;01mis\u001b[39;00m \u001b[38;5;28;01mNone\u001b[39;00m \u001b[38;5;28;01melse\u001b[39;00m \u001b[38;5;28mbool\u001b[39m(done_format_msg)\n\u001b[1;32m    229\u001b[0m     ),\n\u001b[1;32m    230\u001b[0m     connection\u001b[38;5;241m=\u001b[39mconnection,\n\u001b[1;32m    231\u001b[0m     cursor\u001b[38;5;241m=\u001b[39mcursor,\n\u001b[1;32m    232\u001b[0m )\n",
      "\u001b[0;31mSnowparkSQLException\u001b[0m: (1304): 01b607b0-0607-c887-0072-f3030fb0f252: 002043 (02000): SQL compilation error:\nObject does not exist, or operation cannot be performed."
     ]
    }
   ],
   "source": [
    "# Scale Factor\n",
    "scale_factor               = 'SF0001'\n",
    "\n",
    "# Roles\n",
    "fs_qs_role                 = 'RAKESHGADIPARTHI'\n",
    "\n",
    "# Database\n",
    "tpcxai_database_base       = f'FDC_RAKESH_DEV'\n",
    "tpcxai_database            = f'{tpcxai_database_base}_INC'\n",
    "\n",
    "# Schemas\n",
    "tpcxai_training_schema     = 'TRAINING'\n",
    "tpcxai_scoring_schema      = 'SCORING'\n",
    "tpcxai_serving_schema      = 'SERVING'\n",
    "\n",
    "# Create Snowflake Session object\n",
    "connection_parameters = connection_params.SnowflakeLoginOptions(\"fya62509\")\n",
    "session = Session.builder.configs(connection_parameters).create()\n",
    "session.sql_simplifier_enabled = True\n",
    "snowflake_environment = session.sql('SELECT current_user(), current_version()').collect()\n",
    "snowpark_version = VERSION\n",
    "\n",
    "# Set  Environment\n",
    "session.sql(f'''use database {tpcxai_database}''').collect()\n",
    "session.sql(f'''use schema {tpcxai_training_schema}''').collect()\n",
    "session.sql(f'''use role {fs_qs_role}''').collect()\n",
    "\n",
    "# Create a Warehouse\n",
    "#warehouse_env = f\"\"\"{tpcxai_database}_{tpcxai_training_schema}\"\"\"\n",
    "#warehouse_sz = 'MEDIUM'\n",
    "warehouse_env = f'FOSFOR_INSIGHT_WH'\n",
    "session.sql(f'''use warehouse {warehouse_env}''').collect()\n",
    "#session.sql(f'''alter warehouse {warehouse_env} set warehouse_size = {warehouse_sz}''').collect()\n",
    "\n",
    "# Current Environment Details\n",
    "print('\\nConnection Established with the following parameters:')\n",
    "print(f'User                        : {snowflake_environment[0][0]}')\n",
    "print(f'Role                        : {session.get_current_role()}')\n",
    "print(f'Database                    : {session.get_current_database()}')\n",
    "print(f'Schema                      : {session.get_current_schema()}')\n",
    "print(f'Warehouse                   : {session.get_current_warehouse()}')\n",
    "print(f'Snowflake version           : {snowflake_environment[0][1]}')\n",
    "print(f'Snowpark for Python version : {snowpark_version[0]}.{snowpark_version[1]}.{snowpark_version[2]} \\n')"
   ]
  },
  {
   "cell_type": "markdown",
   "metadata": {},
   "source": [
    "## MODEL DEVELOPMENT\n",
    "* Create Snowflake Model-Registry\n",
    "* Create Snowflake Feature-Store\n",
    "* Establish and Create CUSTOMER Entity in the development Snowflake FeatureStore\n",
    "* Create Source Data references and perform basic data-cleansing\n",
    "* Create & Run Preprocessing Function to create features\n",
    "* Create FeatureView_Preprocess from Preprocess Dataframe SQL\n",
    "* Create training data from FeatureView_Preprocess (asof join)\n",
    "* Create & Fit Snowpark-ml pipeline \n",
    "* Save model in Model Registry\n",
    "* 'Verify' and approve model\n",
    "* Create new FeatureView_Model_Inference with Transforms UDF + KMeans model"
   ]
  },
  {
   "cell_type": "code",
   "execution_count": 6,
   "metadata": {
    "metadata": {}
   },
   "outputs": [
    {
     "name": "stdout",
     "output_type": "stream",
     "text": [
      "Model Registry (_MODEL_REGISTRY) already exists\n",
      "Feature Store (_TRAINING_FEATURE_STORE) already exists\n",
      "\n",
      "TABLE ROW_COUNTS IN TRAINING\n",
      "TPCXAI_SF0001_QUICKSTART_INC.TRAINING.CUSTOMER 70710\n",
      "TPCXAI_SF0001_QUICKSTART_INC.TRAINING.LINEITEM 23026666\n",
      "TPCXAI_SF0001_QUICKSTART_INC.TRAINING.ORDERS 3676955\n",
      "TPCXAI_SF0001_QUICKSTART_INC.TRAINING.ORDER_RETURNS 1331620\n"
     ]
    }
   ],
   "source": [
    "# Set the Schema\n",
    "tpcxai_schema = tpcxai_training_schema\n",
    "\n",
    "# Create/Reference Snowflake Model Registry - Common across Environments\n",
    "mr = create_ModelRegistry(session, tpcxai_database, '_MODEL_REGISTRY')\n",
    "\n",
    "# Create/Reference Snowflake Feature Store for Training (Development) Environment\n",
    "fs = create_FeatureStore(session, tpcxai_database, f'''_{tpcxai_schema}_FEATURE_STORE''', warehouse_env)\n",
    "\n",
    "# Tables\n",
    "customer_tbl                     = '.'.join([tpcxai_database, tpcxai_schema,'CUSTOMER'])\n",
    "line_item_tbl                    = '.'.join([tpcxai_database, tpcxai_schema,'LINEITEM'])\n",
    "order_tbl                        = '.'.join([tpcxai_database, tpcxai_schema,'ORDERS'])\n",
    "order_returns_tbl                = '.'.join([tpcxai_database, tpcxai_schema,'ORDER_RETURNS'])\n",
    "\n",
    "# Snowpark Dataframe\n",
    "customer_sdf               = session.table(customer_tbl)\n",
    "line_item_sdf              = session.table(line_item_tbl)\n",
    "order_sdf                  = session.table(order_tbl)\n",
    "order_returns_sdf          = session.table(order_returns_tbl)\n",
    "\n",
    "# Row Counts\n",
    "print(f'''\\nTABLE ROW_COUNTS IN {tpcxai_schema}''')\n",
    "print(customer_tbl, customer_sdf.count())\n",
    "print(line_item_tbl, line_item_sdf.count())\n",
    "print(order_tbl, order_sdf.count())\n",
    "print(order_returns_tbl, order_returns_sdf.count())"
   ]
  },
  {
   "cell_type": "markdown",
   "metadata": {},
   "source": [
    "### CUSTOMER Entity\n",
    "Establish and Create CUSTOMER Entity in Snowflake FeatureStore for this Use-Case"
   ]
  },
  {
   "cell_type": "code",
   "execution_count": 7,
   "metadata": {
    "metadata": {}
   },
   "outputs": [
    {
     "name": "stdout",
     "output_type": "stream",
     "text": [
      "------------------------------------------------------------------------\n",
      "|\"NAME\"    |\"JOIN_KEYS\"        |\"DESC\"                    |\"OWNER\"     |\n",
      "------------------------------------------------------------------------\n",
      "|CUSTOMER  |[\"O_CUSTOMER_SK\"]  |Primary Key for CUSTOMER  |FS_QS_ROLE  |\n",
      "------------------------------------------------------------------------\n",
      "\n"
     ]
    }
   ],
   "source": [
    "# NOTE: adjust this when we suport \"create_if_not_exists\"\n",
    "if \"CUSTOMER\" not in json.loads(fs.list_entities().select(F.to_json(F.array_agg(\"NAME\", True))).collect()[0][0]):\n",
    "    customer_entity = Entity(name=\"CUSTOMER\", join_keys=[\"O_CUSTOMER_SK\"],desc=\"Primary Key for CUSTOMER\")\n",
    "    fs.register_entity(customer_entity)\n",
    "else:\n",
    "    customer_entity = fs.get_entity(\"CUSTOMER\")\n",
    "\n",
    "fs.list_entities().show()"
   ]
  },
  {
   "cell_type": "markdown",
   "metadata": {},
   "source": [
    " ### Create & Load Source Data"
   ]
  },
  {
   "cell_type": "markdown",
   "metadata": {},
   "source": [
    "Our Feature engineering pipelines are defined using Snowpark dataframes (or SQL expressions).  In the `QS_feature_engineering_fns.py` file we have created two feature engineering functions to create our pipeline :\n",
    "* __uc01_load_data__(order_data: DataFrame, lineitem_data: DataFrame, order_returns_data: DataFrame) -> DataFrame   \n",
    "* __uc01_pre_process__(data: DataFrame) -> DataFrame\n",
    "\n",
    "`uc01_load_data`, takes the source tables, as dataframe objects, and joins them together, performing some data-cleansing by replacing NA's with default values. It returns a dataframe as it's output.\n",
    "\n",
    "`uc01_pre_process`, takes the dataframe output from `uc01_load_data`  and performs aggregation on it to derive some features that will be used in our segmentation model.  It returns a dataframe as output, which we will use to provide the feature-pipeline definition within our FeatureView.\n",
    "\n",
    "In this way we can build up a complex pipeline step-by-step and use it to derive a FeatureView, that will be maintained as a pipeline in Snowflake.\n",
    "\n",
    "We will import the functions, and create dataframes from them using the dataframes we created earlier pointing to the tables in our TRAINING (Development) schema.  We will use the last dataframe we create at the end of the pipeline as our input to the FeatureView.\n"
   ]
  },
  {
   "cell_type": "code",
   "execution_count": 8,
   "metadata": {},
   "outputs": [],
   "source": [
    "# Feature Engineering Functions\n",
    "from feature_engineering_fns import uc01_load_data, uc01_pre_process"
   ]
  },
  {
   "cell_type": "code",
   "execution_count": 9,
   "metadata": {
    "metadata": {}
   },
   "outputs": [],
   "source": [
    "raw_data = uc01_load_data(order_sdf, line_item_sdf, order_returns_sdf)"
   ]
  },
  {
   "cell_type": "code",
   "execution_count": 10,
   "metadata": {
    "metadata": {}
   },
   "outputs": [
    {
     "name": "stdout",
     "output_type": "stream",
     "text": [
      "WITH SNOWPARK_LEFT AS (\n",
      "  SELECT\n",
      "    \"LI_ORDER_ID\" AS \"LI_ORDER_ID\",\n",
      "    \"LI_PRODUCT_ID\" AS \"LI_PRODUCT_ID\",\n",
      "    \"QUANTITY\" AS \"QUANTITY\",\n",
      "    \"PRICE\" AS \"PRICE\"\n",
      "  FROM TPCXAI_SF0001_QUICKSTART_INC.TRAINING.LINEITEM\n",
      "), SNOWPARK_RIGHT AS (\n",
      "  SELECT\n",
      "    \"OR_ORDER_ID\" AS \"OR_ORDER_ID\",\n",
      "    \"OR_PRODUCT_ID\" AS \"OR_PRODUCT_ID\",\n",
      "    \"OR_RETURN_QUANTITY\" AS \"OR_RETURN_QUANTITY\"\n",
      "  FROM TPCXAI_SF0001_QUICKSTART_INC.TRAINING.ORDER_RETURNS\n",
      "), cte AS (\n",
      "  SELECT\n",
      "    *\n",
      "  FROM (\n",
      "    SNOWPARK_LEFT AS SNOWPARK_LEFT\n",
      "      LEFT OUTER JOIN SNOWPARK_RIGHT AS SNOWPARK_RIGHT\n",
      "        ON (\n",
      "          (\n",
      "            \"LI_ORDER_ID\" = \"OR_ORDER_ID\"\n",
      "          ) AND (\n",
      "            \"LI_PRODUCT_ID\" = \"OR_PRODUCT_ID\"\n",
      "          )\n",
      "        )\n",
      "  )\n",
      "), SNOWPARK_LEFT_2 AS (\n",
      "  SELECT\n",
      "    \"LI_ORDER_ID\" AS \"LI_ORDER_ID\",\n",
      "    \"LI_PRODUCT_ID\" AS \"LI_PRODUCT_ID\",\n",
      "    \"QUANTITY\" AS \"QUANTITY\",\n",
      "    \"PRICE\" AS \"PRICE\",\n",
      "    \"OR_ORDER_ID\" AS \"OR_ORDER_ID\",\n",
      "    \"OR_PRODUCT_ID\" AS \"OR_PRODUCT_ID\",\n",
      "    \"OR_RETURN_QUANTITY\" AS \"OR_RETURN_QUANTITY\"\n",
      "  FROM cte AS cte\n",
      "), SNOWPARK_RIGHT_2 AS (\n",
      "  SELECT\n",
      "    \"O_ORDER_ID\" AS \"O_ORDER_ID\",\n",
      "    \"O_CUSTOMER_SK\" AS \"O_CUSTOMER_SK\",\n",
      "    \"ORDER_TS\" AS \"ORDER_TS\",\n",
      "    \"WEEKDAY\" AS \"WEEKDAY\",\n",
      "    \"ORDER_DATE\" AS \"ORDER_DATE\",\n",
      "    \"STORE\" AS \"STORE\",\n",
      "    \"TRIP_TYPE\" AS \"TRIP_TYPE\"\n",
      "  FROM TPCXAI_SF0001_QUICKSTART_INC.TRAINING.ORDERS\n",
      "), cte_2 AS (\n",
      "  SELECT\n",
      "    *\n",
      "  FROM (\n",
      "    SNOWPARK_LEFT_2 AS SNOWPARK_LEFT\n",
      "      INNER JOIN SNOWPARK_RIGHT_2 AS SNOWPARK_RIGHT\n",
      "        ON (\n",
      "          \"OR_ORDER_ID\" = \"O_ORDER_ID\"\n",
      "        )\n",
      "  )\n",
      ")\n",
      "SELECT\n",
      "  IFF(\"O_ORDER_ID\" IS NULL, 0, \"O_ORDER_ID\") AS \"O_ORDER_ID\",\n",
      "  IFF(\"O_CUSTOMER_SK\" IS NULL, 0, \"O_CUSTOMER_SK\") AS \"O_CUSTOMER_SK\",\n",
      "  IFF(\"ORDER_DATE\" IS NULL, CAST('1970-01-01' AS DATE), \"ORDER_DATE\") AS \"ORDER_DATE\",\n",
      "  \"LI_PRODUCT_ID\",\n",
      "  IFF(\"PRICE\" IS NULL, 0.0, \"PRICE\") AS \"PRICE\",\n",
      "  IFF(\"QUANTITY\" IS NULL, 0, \"QUANTITY\") AS \"QUANTITY\",\n",
      "  IFF(\"OR_RETURN_QUANTITY\" IS NULL, 0, \"OR_RETURN_QUANTITY\") AS \"OR_RETURN_QUANTITY\"\n",
      "FROM cte_2 AS cte_2\n"
     ]
    }
   ],
   "source": [
    "# Format and print the SQL for the Snowpark Dataframe\n",
    "rd_sql = formatSQL(raw_data.queries['queries'][0], True)\n",
    "print(os.linesep.join(rd_sql.split(os.linesep)[:1000]))"
   ]
  },
  {
   "cell_type": "code",
   "execution_count": 11,
   "metadata": {
    "metadata": {}
   },
   "outputs": [
    {
     "name": "stdout",
     "output_type": "stream",
     "text": [
      "-----------------------------------------------------------------------------------------------------------------\n",
      "|\"O_ORDER_ID\"  |\"O_CUSTOMER_SK\"  |\"ORDER_DATE\"  |\"LI_PRODUCT_ID\"  |\"PRICE\"  |\"QUANTITY\"  |\"OR_RETURN_QUANTITY\"  |\n",
      "-----------------------------------------------------------------------------------------------------------------\n",
      "|2763415       |63130            |2021-10-31    |592              |5.99     |3           |3                     |\n",
      "|2763415       |63130            |2021-10-31    |594              |9.77     |3           |1                     |\n",
      "|2763415       |63130            |2021-10-31    |594              |9.77     |3           |3                     |\n",
      "|2763415       |63130            |2021-10-31    |594              |9.77     |3           |1                     |\n",
      "|2763415       |63130            |2021-10-31    |584              |1.69     |2           |2                     |\n",
      "|2763415       |63130            |2021-10-31    |594              |2.70     |2           |1                     |\n",
      "|2763415       |63130            |2021-10-31    |594              |2.70     |2           |3                     |\n",
      "|2763415       |63130            |2021-10-31    |594              |2.70     |2           |1                     |\n",
      "|2763415       |63130            |2021-10-31    |579              |6.93     |3           |2                     |\n",
      "|2763415       |63130            |2021-10-31    |588              |3.53     |1           |1                     |\n",
      "-----------------------------------------------------------------------------------------------------------------\n",
      "\n"
     ]
    }
   ],
   "source": [
    "raw_data.show()"
   ]
  },
  {
   "cell_type": "markdown",
   "metadata": {},
   "source": [
    "### Create & Run Preprocessing Function "
   ]
  },
  {
   "cell_type": "code",
   "execution_count": 12,
   "metadata": {
    "metadata": {}
   },
   "outputs": [],
   "source": [
    "preprocessed_data = uc01_pre_process(raw_data)"
   ]
  },
  {
   "cell_type": "code",
   "execution_count": 13,
   "metadata": {
    "metadata": {}
   },
   "outputs": [
    {
     "name": "stdout",
     "output_type": "stream",
     "text": [
      "WITH SNOWPARK_LEFT AS (\n",
      "  SELECT\n",
      "    \"LI_ORDER_ID\" AS \"LI_ORDER_ID\",\n",
      "    \"LI_PRODUCT_ID\" AS \"LI_PRODUCT_ID\",\n",
      "    \"QUANTITY\" AS \"QUANTITY\",\n",
      "    \"PRICE\" AS \"PRICE\"\n",
      "  FROM TPCXAI_SF0001_QUICKSTART_INC.TRAINING.LINEITEM\n",
      "), SNOWPARK_RIGHT AS (\n",
      "  SELECT\n",
      "    \"OR_ORDER_ID\" AS \"OR_ORDER_ID\",\n",
      "    \"OR_PRODUCT_ID\" AS \"OR_PRODUCT_ID\",\n",
      "    \"OR_RETURN_QUANTITY\" AS \"OR_RETURN_QUANTITY\"\n",
      "  FROM TPCXAI_SF0001_QUICKSTART_INC.TRAINING.ORDER_RETURNS\n",
      "), cte AS (\n",
      "  SELECT\n",
      "    *\n",
      "  FROM (\n",
      "    SNOWPARK_LEFT AS SNOWPARK_LEFT\n",
      "      LEFT OUTER JOIN SNOWPARK_RIGHT AS SNOWPARK_RIGHT\n",
      "        ON (\n",
      "          (\n",
      "            \"LI_ORDER_ID\" = \"OR_ORDER_ID\"\n",
      "          ) AND (\n",
      "            \"LI_PRODUCT_ID\" = \"OR_PRODUCT_ID\"\n",
      "          )\n",
      "        )\n",
      "  )\n",
      "), SNOWPARK_LEFT_2 AS (\n",
      "  SELECT\n",
      "    \"LI_ORDER_ID\" AS \"LI_ORDER_ID\",\n",
      "    \"LI_PRODUCT_ID\" AS \"LI_PRODUCT_ID\",\n",
      "    \"QUANTITY\" AS \"QUANTITY\",\n",
      "    \"PRICE\" AS \"PRICE\",\n",
      "    \"OR_ORDER_ID\" AS \"OR_ORDER_ID\",\n",
      "    \"OR_PRODUCT_ID\" AS \"OR_PRODUCT_ID\",\n",
      "    \"OR_RETURN_QUANTITY\" AS \"OR_RETURN_QUANTITY\"\n",
      "  FROM cte AS cte\n",
      "), SNOWPARK_RIGHT_2 AS (\n",
      "  SELECT\n",
      "    \"O_ORDER_ID\" AS \"O_ORDER_ID\",\n",
      "    \"O_CUSTOMER_SK\" AS \"O_CUSTOMER_SK\",\n",
      "    \"ORDER_TS\" AS \"ORDER_TS\",\n",
      "    \"WEEKDAY\" AS \"WEEKDAY\",\n",
      "    \"ORDER_DATE\" AS \"ORDER_DATE\",\n",
      "    \"STORE\" AS \"STORE\",\n",
      "    \"TRIP_TYPE\" AS \"TRIP_TYPE\"\n",
      "  FROM TPCXAI_SF0001_QUICKSTART_INC.TRAINING.ORDERS\n",
      "), cte_2 AS (\n",
      "  SELECT\n",
      "    *\n",
      "  FROM (\n",
      "    SNOWPARK_LEFT_2 AS SNOWPARK_LEFT\n",
      "      INNER JOIN SNOWPARK_RIGHT_2 AS SNOWPARK_RIGHT\n",
      "        ON (\n",
      "          \"OR_ORDER_ID\" = \"O_ORDER_ID\"\n",
      "        )\n",
      "  )\n",
      "), cte_3 AS (\n",
      "  SELECT\n",
      "    IFF(\"O_ORDER_ID\" IS NULL, 0, \"O_ORDER_ID\") AS \"O_ORDER_ID\",\n",
      "    IFF(\"O_CUSTOMER_SK\" IS NULL, 0, \"O_CUSTOMER_SK\") AS \"O_CUSTOMER_SK\",\n",
      "    IFF(\"ORDER_DATE\" IS NULL, CAST('1970-01-01' AS DATE), \"ORDER_DATE\") AS \"ORDER_DATE\",\n",
      "    \"LI_PRODUCT_ID\",\n",
      "    IFF(\"PRICE\" IS NULL, 0.0, \"PRICE\") AS \"PRICE\",\n",
      "    IFF(\"QUANTITY\" IS NULL, 0, \"QUANTITY\") AS \"QUANTITY\",\n",
      "    IFF(\"OR_RETURN_QUANTITY\" IS NULL, 0, \"OR_RETURN_QUANTITY\") AS \"OR_RETURN_QUANTITY\"\n",
      "  FROM cte_2 AS cte_2\n",
      "), cte_4 AS (\n",
      "  SELECT\n",
      "    \"O_ORDER_ID\",\n",
      "    \"O_CUSTOMER_SK\",\n",
      "    \"ORDER_DATE\",\n",
      "    \"LI_PRODUCT_ID\",\n",
      "    \"PRICE\",\n",
      "    \"QUANTITY\",\n",
      "    \"OR_RETURN_QUANTITY\",\n",
      "    YEAR(\"ORDER_DATE\") AS \"INVOICE_YEAR\",\n",
      "    (\n",
      "      \"QUANTITY\" * \"PRICE\"\n",
      "    ) AS \"ROW_PRICE\",\n",
      "    (\n",
      "      \"OR_RETURN_QUANTITY\" * \"PRICE\"\n",
      "    ) AS \"RETURN_ROW_PRICE\"\n",
      "  FROM cte_3 AS cte_3\n",
      "), cte_5 AS (\n",
      "  SELECT\n",
      "    \"O_CUSTOMER_SK\",\n",
      "    \"O_ORDER_ID\",\n",
      "    SUM(\"ROW_PRICE\") AS \"ROW_PRICE\",\n",
      "    SUM(\"RETURN_ROW_PRICE\") AS \"RETURN_ROW_PRICE\",\n",
      "    MIN(\"INVOICE_YEAR\") AS \"INVOICE_YEAR\",\n",
      "    MAX(\"ORDER_DATE\") AS \"LATEST_ORDER_DATE\"\n",
      "  FROM cte_4 AS cte_4\n",
      "  GROUP BY\n",
      "    \"O_CUSTOMER_SK\",\n",
      "    \"O_ORDER_ID\"\n",
      "), cte_6 AS (\n",
      "  SELECT\n",
      "    \"O_CUSTOMER_SK\",\n",
      "    \"O_ORDER_ID\",\n",
      "    \"ROW_PRICE\",\n",
      "    \"RETURN_ROW_PRICE\",\n",
      "    \"INVOICE_YEAR\",\n",
      "    \"LATEST_ORDER_DATE\",\n",
      "    (\n",
      "      \"RETURN_ROW_PRICE\" / \"ROW_PRICE\"\n",
      "    ) AS \"RATIO\"\n",
      "  FROM cte_5 AS cte_5\n",
      "), cte_7 AS (\n",
      "  SELECT\n",
      "    \"O_CUSTOMER_SK\",\n",
      "    \"INVOICE_YEAR\",\n",
      "    CAST(COUNT(\"O_ORDER_ID\") AS FLOAT) AS \"FREQUENCY\"\n",
      "  FROM cte_6 AS cte_6\n",
      "  GROUP BY\n",
      "    \"O_CUSTOMER_SK\",\n",
      "    \"INVOICE_YEAR\"\n",
      "), cte_8 AS (\n",
      "  SELECT\n",
      "    \"O_CUSTOMER_SK\",\n",
      "    AVG(\"FREQUENCY\") AS \"FREQUENCY\"\n",
      "  FROM cte_7 AS cte_7\n",
      "  GROUP BY\n",
      "    \"O_CUSTOMER_SK\"\n",
      "), SNOWPARK_LEFT_3 AS (\n",
      "  SELECT\n",
      "    \"O_CUSTOMER_SK\" AS \"O_CUSTOMER_SK\",\n",
      "    \"FREQUENCY\" AS \"FREQUENCY\"\n",
      "  FROM cte_8 AS cte_8\n",
      "), cte_9 AS (\n",
      "  SELECT\n",
      "    \"O_CUSTOMER_SK\",\n",
      "    CAST(AVG(\"RATIO\") AS FLOAT) AS \"RETURN_RATIO\",\n",
      "    MAX(\"LATEST_ORDER_DATE\") AS \"LATEST_ORDER_DATE\"\n",
      "  FROM cte_6 AS cte_6\n",
      "  GROUP BY\n",
      "    \"O_CUSTOMER_SK\"\n",
      "), SNOWPARK_RIGHT_3 AS (\n",
      "  SELECT\n",
      "    \"O_CUSTOMER_SK\" AS \"O_CUSTOMER_SK\",\n",
      "    \"RETURN_RATIO\" AS \"RETURN_RATIO\",\n",
      "    \"LATEST_ORDER_DATE\" AS \"LATEST_ORDER_DATE\"\n",
      "  FROM cte_9 AS cte_9\n",
      ")\n",
      "SELECT\n",
      "  *\n",
      "FROM (\n",
      "  SNOWPARK_LEFT_3 AS SNOWPARK_LEFT\n",
      "    INNER JOIN SNOWPARK_RIGHT_3 AS SNOWPARK_RIGHT\n",
      "      USING (O_CUSTOMER_SK)\n",
      ")\n"
     ]
    }
   ],
   "source": [
    "# Format and print the SQL for the Snowpark Dataframe\n",
    "ppd_sql = formatSQL(preprocessed_data.queries['queries'][0], True)\n",
    "print(os.linesep.join(ppd_sql.split(os.linesep)[:1000]))"
   ]
  },
  {
   "cell_type": "code",
   "execution_count": 14,
   "metadata": {
    "metadata": {}
   },
   "outputs": [
    {
     "name": "stdout",
     "output_type": "stream",
     "text": [
      "-------------------------------------------------------------------------------\n",
      "|\"O_CUSTOMER_SK\"  |\"FREQUENCY\"         |\"RETURN_RATIO\"  |\"LATEST_ORDER_DATE\"  |\n",
      "-------------------------------------------------------------------------------\n",
      "|368              |1.6666666666666667  |0.732044784     |2023-02-04           |\n",
      "|56319            |2.3333333333333335  |0.802944732857  |2023-01-28           |\n",
      "|5853             |3.6666666666666665  |0.683033        |2023-02-08           |\n",
      "|11318            |3.0                 |0.727960913333  |2022-09-16           |\n",
      "|40668            |4.0                 |0.698579715     |2022-12-01           |\n",
      "|36179            |1.0                 |0.417155313333  |2023-02-09           |\n",
      "|26232            |2.3333333333333335  |0.796042062857  |2023-02-02           |\n",
      "|28150            |1.0                 |0.91160669      |2023-01-08           |\n",
      "|23733            |2.0                 |0.860964901667  |2023-02-09           |\n",
      "|4469             |4.0                 |0.751632825     |2022-12-31           |\n",
      "-------------------------------------------------------------------------------\n",
      "\n"
     ]
    }
   ],
   "source": [
    "preprocessed_data.show()"
   ]
  },
  {
   "cell_type": "markdown",
   "metadata": {},
   "source": [
    "### Create Preprocessing FeatureView from Preprocess Dataframe (SQL)"
   ]
  },
  {
   "cell_type": "code",
   "execution_count": 15,
   "metadata": {
    "metadata": {}
   },
   "outputs": [
    {
     "name": "stdout",
     "output_type": "stream",
     "text": [
      "Feature View : FV_UC01_PREPROCESS_V_1 already created\n",
      "--------------------------------------------------------------------------------------------------------------------------------------------------------------------------------------\n",
      "|\"NAME\"              |\"VERSION\"  |\"DATABASE_NAME\"               |\"SCHEMA_NAME\"            |\"CREATED_ON\"                |\"OWNER\"     |\"DESC\"                           |\"ENTITIES\"    |\n",
      "--------------------------------------------------------------------------------------------------------------------------------------------------------------------------------------\n",
      "|FV_UC01_PREPROCESS  |V_1        |TPCXAI_SF0001_QUICKSTART_INC  |_TRAINING_FEATURE_STORE  |2024-05-30 14:11:57.726000  |FS_QS_ROLE  |Features to support Use Case 01  |[             |\n",
      "|                    |           |                              |                         |                            |            |                                 |  \"CUSTOMER\"  |\n",
      "|                    |           |                              |                         |                            |            |                                 |]             |\n",
      "--------------------------------------------------------------------------------------------------------------------------------------------------------------------------------------\n",
      "\n"
     ]
    }
   ],
   "source": [
    "# Define descriptions for the FeatureView's Features.  These will be added as comments to the database object\n",
    "preprocess_features_desc = {  \"FREQUENCY\":\"Average yearly order frequency\",\n",
    "                              \"RETURN_RATIO\":\"Average of, Per Order Returns Ratio.  Per order returns ratio : total returns value / total order value\" }\n",
    "\n",
    "ppd_fv_name    = \"FV_UC01_PREPROCESS\"\n",
    "ppd_fv_version = \"V_1\"\n",
    "\n",
    "try:\n",
    "   # If FeatureView already exists just return the reference to it\n",
    "   fv_uc01_preprocess = fs.get_feature_view(name=ppd_fv_name,version=ppd_fv_version)\n",
    "except:\n",
    "   # Create the FeatureView instance\n",
    "   fv_uc01_preprocess_instance = FeatureView(\n",
    "      name=ppd_fv_name, \n",
    "      entities=[customer_entity], \n",
    "      #feature_df=preprocessed_data,      # <- We can use the snowpark dataframe as-is from our Python\n",
    "      feature_df=session.sql(ppd_sql),    # <- Or we can use SQL, in this case linted from the dataframe generated SQL to make more human readable\n",
    "      timestamp_col=\"LATEST_ORDER_DATE\",\n",
    "      refresh_freq=\"60 minute\",            # <- specifying optional refresh_freq creates FeatureView as Dynamic Table, else created as View.\n",
    "      desc=\"Features to support Use Case 01\").attach_feature_desc(preprocess_features_desc)\n",
    "\n",
    "   # Register the FeatureView instance.  Creates  object in Snowflake\n",
    "   fv_uc01_preprocess = fs.register_feature_view(\n",
    "      feature_view=fv_uc01_preprocess_instance, \n",
    "      version=ppd_fv_version, \n",
    "      block=True\n",
    "   )\n",
    "   print(f\"Feature View : {ppd_fv_name}_{ppd_fv_version} created\")   \n",
    "else:\n",
    "   print(f\"Feature View : {ppd_fv_name}_{ppd_fv_version} already created\")\n",
    "finally:\n",
    "   fs.list_feature_views().show(20)"
   ]
  },
  {
   "cell_type": "code",
   "execution_count": 16,
   "metadata": {
    "metadata": {}
   },
   "outputs": [
    {
     "name": "stdout",
     "output_type": "stream",
     "text": [
      "------------------------------------------------------------------------------------------------------------------------------------------------------------------------------------------------------------------------------------------------------------------------------------------------------------------------------------------------------------------------------------------------------------------------------------------------------------------------------------------------------------------------------------------------\n",
      "|\"NAME\"              |\"ENTITIES\"                               |\"TIMESTAMP_COL\"    |\"DESC\"                           |\"QUERY\"                                             |\"VERSION\"  |\"STATUS\"                  |\"FEATURE_DESC\"                                      |\"REFRESH_FREQ\"  |\"DATABASE\"                    |\"SCHEMA\"                 |\"WAREHOUSE\"                  |\"REFRESH_MODE\"  |\"REFRESH_MODE_REASON\"                               |\"OWNER\"     |\"INFER_SCHEMA_QUERY\"                                |\"PHYSICAL_NAME\"         |\n",
      "------------------------------------------------------------------------------------------------------------------------------------------------------------------------------------------------------------------------------------------------------------------------------------------------------------------------------------------------------------------------------------------------------------------------------------------------------------------------------------------------------------------------------------------------\n",
      "|FV_UC01_PREPROCESS  |[                                        |LATEST_ORDER_DATE  |Features to support Use Case 01  |WITH SNOWPARK_LEFT AS (                             |V_1        |FeatureViewStatus.ACTIVE  |{                                                   |1 hour          |TPCXAI_SF0001_QUICKSTART_INC  |_TRAINING_FEATURE_STORE  |TPCXAI_SF0001_QUICKSTART_WH  |INCREMENTAL     |This dynamic table contains a complex query. Fo...  |FS_QS_ROLE  |SELECT * FROM TPCXAI_SF0001_QUICKSTART_INC._TRA...  |FV_UC01_PREPROCESS$V_1  |\n",
      "|                    |  {                                      |                   |                                 |  SELECT                                            |           |                          |  \"FREQUENCY\": \"Average yearly order frequency\",    |                |                              |                         |                             |                |                                                    |            |                                                    |                        |\n",
      "|                    |    \"desc\": \"Primary Key for CUSTOMER\",  |                   |                                 |    \"LI_ORDER_ID\" AS \"LI_ORDER_ID\",                 |           |                          |  \"RETURN_RATIO\": \"Average of, Per Order Return...  |                |                              |                         |                             |                |                                                    |            |                                                    |                        |\n",
      "|                    |    \"join_keys\": [                       |                   |                                 |    \"LI_PRODUCT_ID\" AS \"LI_PRODUCT_ID\",             |           |                          |}                                                   |                |                              |                         |                             |                |                                                    |            |                                                    |                        |\n",
      "|                    |      \"O_CUSTOMER_SK\"                    |                   |                                 |    \"QUANTITY\" AS \"QUANTITY\",                       |           |                          |                                                    |                |                              |                         |                             |                |                                                    |            |                                                    |                        |\n",
      "|                    |    ],                                   |                   |                                 |    \"PRICE\" AS \"PRICE\"                              |           |                          |                                                    |                |                              |                         |                             |                |                                                    |            |                                                    |                        |\n",
      "|                    |    \"name\": \"CUSTOMER\",                  |                   |                                 |  FROM TPCXAI_SF0001_QUICKSTART_INC.TRAINING.LI...  |           |                          |                                                    |                |                              |                         |                             |                |                                                    |            |                                                    |                        |\n",
      "|                    |    \"owner\": null                        |                   |                                 |), SNOWPARK_RIGHT AS (                              |           |                          |                                                    |                |                              |                         |                             |                |                                                    |            |                                                    |                        |\n",
      "|                    |  }                                      |                   |                                 |  SELECT                                            |           |                          |                                                    |                |                              |                         |                             |                |                                                    |            |                                                    |                        |\n",
      "|                    |]                                        |                   |                                 |    \"OR_ORDER_ID\" AS \"OR_ORDER_ID\",                 |           |                          |                                                    |                |                              |                         |                             |                |                                                    |            |                                                    |                        |\n",
      "|                    |                                         |                   |                                 |    \"OR_PRODUCT_ID\" AS \"OR_PRODUCT_ID\",             |           |                          |                                                    |                |                              |                         |                             |                |                                                    |            |                                                    |                        |\n",
      "|                    |                                         |                   |                                 |    \"OR_RETURN_QUANTITY\" AS \"OR_RETURN_QUANTITY\"    |           |                          |                                                    |                |                              |                         |                             |                |                                                    |            |                                                    |                        |\n",
      "|                    |                                         |                   |                                 |  FROM TPCXAI_SF0001_QUICKSTART_INC.TRAINING.OR...  |           |                          |                                                    |                |                              |                         |                             |                |                                                    |            |                                                    |                        |\n",
      "|                    |                                         |                   |                                 |), cte AS (                                         |           |                          |                                                    |                |                              |                         |                             |                |                                                    |            |                                                    |                        |\n",
      "|                    |                                         |                   |                                 |  SELECT                                            |           |                          |                                                    |                |                              |                         |                             |                |                                                    |            |                                                    |                        |\n",
      "|                    |                                         |                   |                                 |    *                                               |           |                          |                                                    |                |                              |                         |                             |                |                                                    |            |                                                    |                        |\n",
      "|                    |                                         |                   |                                 |  FROM (                                            |           |                          |                                                    |                |                              |                         |                             |                |                                                    |            |                                                    |                        |\n",
      "|                    |                                         |                   |                                 |    SNOWPARK_LEFT AS SNOWPARK_LEFT                  |           |                          |                                                    |                |                              |                         |                             |                |                                                    |            |                                                    |                        |\n",
      "|                    |                                         |                   |                                 |      LEFT OUTER JOIN SNOWPARK_RIGHT AS SNOWPAR...  |           |                          |                                                    |                |                              |                         |                             |                |                                                    |            |                                                    |                        |\n",
      "|                    |                                         |                   |                                 |        ON (                                        |           |                          |                                                    |                |                              |                         |                             |                |                                                    |            |                                                    |                        |\n",
      "|                    |                                         |                   |                                 |          (                                         |           |                          |                                                    |                |                              |                         |                             |                |                                                    |            |                                                    |                        |\n",
      "|                    |                                         |                   |                                 |            \"LI_ORDER_ID\" = \"OR_ORDER_ID\"           |           |                          |                                                    |                |                              |                         |                             |                |                                                    |            |                                                    |                        |\n",
      "|                    |                                         |                   |                                 |          ) AND (                                   |           |                          |                                                    |                |                              |                         |                             |                |                                                    |            |                                                    |                        |\n",
      "|                    |                                         |                   |                                 |            \"LI_PRODUCT_ID\" = \"OR_PRODUCT_ID\"       |           |                          |                                                    |                |                              |                         |                             |                |                                                    |            |                                                    |                        |\n",
      "|                    |                                         |                   |                                 |          )                                         |           |                          |                                                    |                |                              |                         |                             |                |                                                    |            |                                                    |                        |\n",
      "|                    |                                         |                   |                                 |        )                                           |           |                          |                                                    |                |                              |                         |                             |                |                                                    |            |                                                    |                        |\n",
      "|                    |                                         |                   |                                 |  )                                                 |           |                          |                                                    |                |                              |                         |                             |                |                                                    |            |                                                    |                        |\n",
      "|                    |                                         |                   |                                 |), SNOWPARK_LEFT_2 AS (                             |           |                          |                                                    |                |                              |                         |                             |                |                                                    |            |                                                    |                        |\n",
      "|                    |                                         |                   |                                 |  SELECT                                            |           |                          |                                                    |                |                              |                         |                             |                |                                                    |            |                                                    |                        |\n",
      "|                    |                                         |                   |                                 |    \"LI_ORDER_ID\" AS \"LI_ORDER_ID\",                 |           |                          |                                                    |                |                              |                         |                             |                |                                                    |            |                                                    |                        |\n",
      "|                    |                                         |                   |                                 |    \"LI_PRODUCT_ID\" AS \"LI_PRODUCT_ID\",             |           |                          |                                                    |                |                              |                         |                             |                |                                                    |            |                                                    |                        |\n",
      "|                    |                                         |                   |                                 |    \"QUANTITY\" AS \"QUANTITY\",                       |           |                          |                                                    |                |                              |                         |                             |                |                                                    |            |                                                    |                        |\n",
      "|                    |                                         |                   |                                 |    \"PRICE\" AS \"PRICE\",                             |           |                          |                                                    |                |                              |                         |                             |                |                                                    |            |                                                    |                        |\n",
      "|                    |                                         |                   |                                 |    \"OR_ORDER_ID\" AS \"OR_ORDER_ID\",                 |           |                          |                                                    |                |                              |                         |                             |                |                                                    |            |                                                    |                        |\n",
      "|                    |                                         |                   |                                 |    \"OR_PRODUCT_ID\" AS \"OR_PRODUCT_ID\",             |           |                          |                                                    |                |                              |                         |                             |                |                                                    |            |                                                    |                        |\n",
      "|                    |                                         |                   |                                 |    \"OR_RETURN_QUANTITY\" AS \"OR_RETURN_QUANTITY\"    |           |                          |                                                    |                |                              |                         |                             |                |                                                    |            |                                                    |                        |\n",
      "|                    |                                         |                   |                                 |  FROM cte AS cte                                   |           |                          |                                                    |                |                              |                         |                             |                |                                                    |            |                                                    |                        |\n",
      "|                    |                                         |                   |                                 |), SNOWPARK_RIGHT_2 AS (                            |           |                          |                                                    |                |                              |                         |                             |                |                                                    |            |                                                    |                        |\n",
      "|                    |                                         |                   |                                 |  SELECT                                            |           |                          |                                                    |                |                              |                         |                             |                |                                                    |            |                                                    |                        |\n",
      "|                    |                                         |                   |                                 |    \"O_ORDER_ID\" AS \"O_ORDER_ID\",                   |           |                          |                                                    |                |                              |                         |                             |                |                                                    |            |                                                    |                        |\n",
      "|                    |                                         |                   |                                 |    \"O_CUSTOMER_SK\" AS \"O_CUSTOMER_SK\",             |           |                          |                                                    |                |                              |                         |                             |                |                                                    |            |                                                    |                        |\n",
      "|                    |                                         |                   |                                 |    \"ORDER_TS\" AS \"ORDER_TS\",                       |           |                          |                                                    |                |                              |                         |                             |                |                                                    |            |                                                    |                        |\n",
      "|                    |                                         |                   |                                 |    \"WEEKDAY\" AS \"WEEKDAY\",                         |           |                          |                                                    |                |                              |                         |                             |                |                                                    |            |                                                    |                        |\n",
      "|                    |                                         |                   |                                 |    \"ORDER_DATE\" AS \"ORDER_DATE\",                   |           |                          |                                                    |                |                              |                         |                             |                |                                                    |            |                                                    |                        |\n",
      "|                    |                                         |                   |                                 |    \"STORE\" AS \"STORE\",                             |           |                          |                                                    |                |                              |                         |                             |                |                                                    |            |                                                    |                        |\n",
      "|                    |                                         |                   |                                 |    \"TRIP_TYPE\" AS \"TRIP_TYPE\"                      |           |                          |                                                    |                |                              |                         |                             |                |                                                    |            |                                                    |                        |\n",
      "|                    |                                         |                   |                                 |  FROM TPCXAI_SF0001_QUICKSTART_INC.TRAINING.OR...  |           |                          |                                                    |                |                              |                         |                             |                |                                                    |            |                                                    |                        |\n",
      "|                    |                                         |                   |                                 |), cte_2 AS (                                       |           |                          |                                                    |                |                              |                         |                             |                |                                                    |            |                                                    |                        |\n",
      "|                    |                                         |                   |                                 |  SELECT                                            |           |                          |                                                    |                |                              |                         |                             |                |                                                    |            |                                                    |                        |\n",
      "|                    |                                         |                   |                                 |    *                                               |           |                          |                                                    |                |                              |                         |                             |                |                                                    |            |                                                    |                        |\n",
      "|                    |                                         |                   |                                 |  FROM (                                            |           |                          |                                                    |                |                              |                         |                             |                |                                                    |            |                                                    |                        |\n",
      "|                    |                                         |                   |                                 |    SNOWPARK_LEFT_2 AS SNOWPARK_LEFT                |           |                          |                                                    |                |                              |                         |                             |                |                                                    |            |                                                    |                        |\n",
      "|                    |                                         |                   |                                 |      INNER JOIN SNOWPARK_RIGHT_2 AS SNOWPARK_R...  |           |                          |                                                    |                |                              |                         |                             |                |                                                    |            |                                                    |                        |\n",
      "|                    |                                         |                   |                                 |        ON (                                        |           |                          |                                                    |                |                              |                         |                             |                |                                                    |            |                                                    |                        |\n",
      "|                    |                                         |                   |                                 |          \"OR_ORDER_ID\" = \"O_ORDER_ID\"              |           |                          |                                                    |                |                              |                         |                             |                |                                                    |            |                                                    |                        |\n",
      "|                    |                                         |                   |                                 |        )                                           |           |                          |                                                    |                |                              |                         |                             |                |                                                    |            |                                                    |                        |\n",
      "|                    |                                         |                   |                                 |  )                                                 |           |                          |                                                    |                |                              |                         |                             |                |                                                    |            |                                                    |                        |\n",
      "|                    |                                         |                   |                                 |), cte_3 AS (                                       |           |                          |                                                    |                |                              |                         |                             |                |                                                    |            |                                                    |                        |\n",
      "|                    |                                         |                   |                                 |  SELECT                                            |           |                          |                                                    |                |                              |                         |                             |                |                                                    |            |                                                    |                        |\n",
      "|                    |                                         |                   |                                 |    IFF(\"O_ORDER_ID\" IS NULL, 0, \"O_ORDER_ID\") ...  |           |                          |                                                    |                |                              |                         |                             |                |                                                    |            |                                                    |                        |\n",
      "|                    |                                         |                   |                                 |    IFF(\"O_CUSTOMER_SK\" IS NULL, 0, \"O_CUSTOMER...  |           |                          |                                                    |                |                              |                         |                             |                |                                                    |            |                                                    |                        |\n",
      "|                    |                                         |                   |                                 |    IFF(\"ORDER_DATE\" IS NULL, CAST('1970-01-01'...  |           |                          |                                                    |                |                              |                         |                             |                |                                                    |            |                                                    |                        |\n",
      "|                    |                                         |                   |                                 |    \"LI_PRODUCT_ID\",                                |           |                          |                                                    |                |                              |                         |                             |                |                                                    |            |                                                    |                        |\n",
      "|                    |                                         |                   |                                 |    IFF(\"PRICE\" IS NULL, 0.0, \"PRICE\") AS \"PRICE\",  |           |                          |                                                    |                |                              |                         |                             |                |                                                    |            |                                                    |                        |\n",
      "|                    |                                         |                   |                                 |    IFF(\"QUANTITY\" IS NULL, 0, \"QUANTITY\") AS \"...  |           |                          |                                                    |                |                              |                         |                             |                |                                                    |            |                                                    |                        |\n",
      "|                    |                                         |                   |                                 |    IFF(\"OR_RETURN_QUANTITY\" IS NULL, 0, \"OR_RE...  |           |                          |                                                    |                |                              |                         |                             |                |                                                    |            |                                                    |                        |\n",
      "|                    |                                         |                   |                                 |  FROM cte_2 AS cte_2                               |           |                          |                                                    |                |                              |                         |                             |                |                                                    |            |                                                    |                        |\n",
      "|                    |                                         |                   |                                 |), cte_4 AS (                                       |           |                          |                                                    |                |                              |                         |                             |                |                                                    |            |                                                    |                        |\n",
      "|                    |                                         |                   |                                 |  SELECT                                            |           |                          |                                                    |                |                              |                         |                             |                |                                                    |            |                                                    |                        |\n",
      "|                    |                                         |                   |                                 |    \"O_ORDER_ID\",                                   |           |                          |                                                    |                |                              |                         |                             |                |                                                    |            |                                                    |                        |\n",
      "|                    |                                         |                   |                                 |    \"O_CUSTOMER_SK\",                                |           |                          |                                                    |                |                              |                         |                             |                |                                                    |            |                                                    |                        |\n",
      "|                    |                                         |                   |                                 |    \"ORDER_DATE\",                                   |           |                          |                                                    |                |                              |                         |                             |                |                                                    |            |                                                    |                        |\n",
      "|                    |                                         |                   |                                 |    \"LI_PRODUCT_ID\",                                |           |                          |                                                    |                |                              |                         |                             |                |                                                    |            |                                                    |                        |\n",
      "|                    |                                         |                   |                                 |    \"PRICE\",                                        |           |                          |                                                    |                |                              |                         |                             |                |                                                    |            |                                                    |                        |\n",
      "|                    |                                         |                   |                                 |    \"QUANTITY\",                                     |           |                          |                                                    |                |                              |                         |                             |                |                                                    |            |                                                    |                        |\n",
      "|                    |                                         |                   |                                 |    \"OR_RETURN_QUANTITY\",                           |           |                          |                                                    |                |                              |                         |                             |                |                                                    |            |                                                    |                        |\n",
      "|                    |                                         |                   |                                 |    YEAR(\"ORDER_DATE\") AS \"INVOICE_YEAR\",           |           |                          |                                                    |                |                              |                         |                             |                |                                                    |            |                                                    |                        |\n",
      "|                    |                                         |                   |                                 |    (                                               |           |                          |                                                    |                |                              |                         |                             |                |                                                    |            |                                                    |                        |\n",
      "|                    |                                         |                   |                                 |      \"QUANTITY\" * \"PRICE\"                          |           |                          |                                                    |                |                              |                         |                             |                |                                                    |            |                                                    |                        |\n",
      "|                    |                                         |                   |                                 |    ) AS \"ROW_PRICE\",                               |           |                          |                                                    |                |                              |                         |                             |                |                                                    |            |                                                    |                        |\n",
      "|                    |                                         |                   |                                 |    (                                               |           |                          |                                                    |                |                              |                         |                             |                |                                                    |            |                                                    |                        |\n",
      "|                    |                                         |                   |                                 |      \"OR_RETURN_QUANTITY\" * \"PRICE\"                |           |                          |                                                    |                |                              |                         |                             |                |                                                    |            |                                                    |                        |\n",
      "|                    |                                         |                   |                                 |    ) AS \"RETURN_ROW_PRICE\"                         |           |                          |                                                    |                |                              |                         |                             |                |                                                    |            |                                                    |                        |\n",
      "|                    |                                         |                   |                                 |  FROM cte_3 AS cte_3                               |           |                          |                                                    |                |                              |                         |                             |                |                                                    |            |                                                    |                        |\n",
      "|                    |                                         |                   |                                 |), cte_5 AS (                                       |           |                          |                                                    |                |                              |                         |                             |                |                                                    |            |                                                    |                        |\n",
      "|                    |                                         |                   |                                 |  SELECT                                            |           |                          |                                                    |                |                              |                         |                             |                |                                                    |            |                                                    |                        |\n",
      "|                    |                                         |                   |                                 |    \"O_CUSTOMER_SK\",                                |           |                          |                                                    |                |                              |                         |                             |                |                                                    |            |                                                    |                        |\n",
      "|                    |                                         |                   |                                 |    \"O_ORDER_ID\",                                   |           |                          |                                                    |                |                              |                         |                             |                |                                                    |            |                                                    |                        |\n",
      "|                    |                                         |                   |                                 |    SUM(\"ROW_PRICE\") AS \"ROW_PRICE\",                |           |                          |                                                    |                |                              |                         |                             |                |                                                    |            |                                                    |                        |\n",
      "|                    |                                         |                   |                                 |    SUM(\"RETURN_ROW_PRICE\") AS \"RETURN_ROW_PRICE\",  |           |                          |                                                    |                |                              |                         |                             |                |                                                    |            |                                                    |                        |\n",
      "|                    |                                         |                   |                                 |    MIN(\"INVOICE_YEAR\") AS \"INVOICE_YEAR\",          |           |                          |                                                    |                |                              |                         |                             |                |                                                    |            |                                                    |                        |\n",
      "|                    |                                         |                   |                                 |    MAX(\"ORDER_DATE\") AS \"LATEST_ORDER_DATE\"        |           |                          |                                                    |                |                              |                         |                             |                |                                                    |            |                                                    |                        |\n",
      "|                    |                                         |                   |                                 |  FROM cte_4 AS cte_4                               |           |                          |                                                    |                |                              |                         |                             |                |                                                    |            |                                                    |                        |\n",
      "|                    |                                         |                   |                                 |  GROUP BY                                          |           |                          |                                                    |                |                              |                         |                             |                |                                                    |            |                                                    |                        |\n",
      "|                    |                                         |                   |                                 |    \"O_CUSTOMER_SK\",                                |           |                          |                                                    |                |                              |                         |                             |                |                                                    |            |                                                    |                        |\n",
      "|                    |                                         |                   |                                 |    \"O_ORDER_ID\"                                    |           |                          |                                                    |                |                              |                         |                             |                |                                                    |            |                                                    |                        |\n",
      "|                    |                                         |                   |                                 |), cte_6 AS (                                       |           |                          |                                                    |                |                              |                         |                             |                |                                                    |            |                                                    |                        |\n",
      "|                    |                                         |                   |                                 |  SELECT                                            |           |                          |                                                    |                |                              |                         |                             |                |                                                    |            |                                                    |                        |\n",
      "|                    |                                         |                   |                                 |    \"O_CUSTOMER_SK\",                                |           |                          |                                                    |                |                              |                         |                             |                |                                                    |            |                                                    |                        |\n",
      "|                    |                                         |                   |                                 |    \"O_ORDER_ID\",                                   |           |                          |                                                    |                |                              |                         |                             |                |                                                    |            |                                                    |                        |\n",
      "|                    |                                         |                   |                                 |    \"ROW_PRICE\",                                    |           |                          |                                                    |                |                              |                         |                             |                |                                                    |            |                                                    |                        |\n",
      "|                    |                                         |                   |                                 |    \"RETURN_ROW_PRICE\",                             |           |                          |                                                    |                |                              |                         |                             |                |                                                    |            |                                                    |                        |\n",
      "|                    |                                         |                   |                                 |    \"INVOICE_YEAR\",                                 |           |                          |                                                    |                |                              |                         |                             |                |                                                    |            |                                                    |                        |\n",
      "|                    |                                         |                   |                                 |    \"LATEST_ORDER_DATE\",                            |           |                          |                                                    |                |                              |                         |                             |                |                                                    |            |                                                    |                        |\n",
      "|                    |                                         |                   |                                 |    (                                               |           |                          |                                                    |                |                              |                         |                             |                |                                                    |            |                                                    |                        |\n",
      "|                    |                                         |                   |                                 |      \"RETURN_ROW_PRICE\" / \"ROW_PRICE\"              |           |                          |                                                    |                |                              |                         |                             |                |                                                    |            |                                                    |                        |\n",
      "|                    |                                         |                   |                                 |    ) AS \"RATIO\"                                    |           |                          |                                                    |                |                              |                         |                             |                |                                                    |            |                                                    |                        |\n",
      "|                    |                                         |                   |                                 |  FROM cte_5 AS cte_5                               |           |                          |                                                    |                |                              |                         |                             |                |                                                    |            |                                                    |                        |\n",
      "|                    |                                         |                   |                                 |), cte_7 AS (                                       |           |                          |                                                    |                |                              |                         |                             |                |                                                    |            |                                                    |                        |\n",
      "|                    |                                         |                   |                                 |  SELECT                                            |           |                          |                                                    |                |                              |                         |                             |                |                                                    |            |                                                    |                        |\n",
      "|                    |                                         |                   |                                 |    \"O_CUSTOMER_SK\",                                |           |                          |                                                    |                |                              |                         |                             |                |                                                    |            |                                                    |                        |\n",
      "|                    |                                         |                   |                                 |    \"INVOICE_YEAR\",                                 |           |                          |                                                    |                |                              |                         |                             |                |                                                    |            |                                                    |                        |\n",
      "|                    |                                         |                   |                                 |    CAST(COUNT(\"O_ORDER_ID\") AS FLOAT) AS \"FREQ...  |           |                          |                                                    |                |                              |                         |                             |                |                                                    |            |                                                    |                        |\n",
      "|                    |                                         |                   |                                 |  FROM cte_6 AS cte_6                               |           |                          |                                                    |                |                              |                         |                             |                |                                                    |            |                                                    |                        |\n",
      "|                    |                                         |                   |                                 |  GROUP BY                                          |           |                          |                                                    |                |                              |                         |                             |                |                                                    |            |                                                    |                        |\n",
      "|                    |                                         |                   |                                 |    \"O_CUSTOMER_SK\",                                |           |                          |                                                    |                |                              |                         |                             |                |                                                    |            |                                                    |                        |\n",
      "|                    |                                         |                   |                                 |    \"INVOICE_YEAR\"                                  |           |                          |                                                    |                |                              |                         |                             |                |                                                    |            |                                                    |                        |\n",
      "|                    |                                         |                   |                                 |), cte_8 AS (                                       |           |                          |                                                    |                |                              |                         |                             |                |                                                    |            |                                                    |                        |\n",
      "|                    |                                         |                   |                                 |  SELECT                                            |           |                          |                                                    |                |                              |                         |                             |                |                                                    |            |                                                    |                        |\n",
      "|                    |                                         |                   |                                 |    \"O_CUSTOMER_SK\",                                |           |                          |                                                    |                |                              |                         |                             |                |                                                    |            |                                                    |                        |\n",
      "|                    |                                         |                   |                                 |    AVG(\"FREQUENCY\") AS \"FREQUENCY\"                 |           |                          |                                                    |                |                              |                         |                             |                |                                                    |            |                                                    |                        |\n",
      "|                    |                                         |                   |                                 |  FROM cte_7 AS cte_7                               |           |                          |                                                    |                |                              |                         |                             |                |                                                    |            |                                                    |                        |\n",
      "|                    |                                         |                   |                                 |  GROUP BY                                          |           |                          |                                                    |                |                              |                         |                             |                |                                                    |            |                                                    |                        |\n",
      "|                    |                                         |                   |                                 |    \"O_CUSTOMER_SK\"                                 |           |                          |                                                    |                |                              |                         |                             |                |                                                    |            |                                                    |                        |\n",
      "|                    |                                         |                   |                                 |), SNOWPARK_LEFT_3 AS (                             |           |                          |                                                    |                |                              |                         |                             |                |                                                    |            |                                                    |                        |\n",
      "|                    |                                         |                   |                                 |  SELECT                                            |           |                          |                                                    |                |                              |                         |                             |                |                                                    |            |                                                    |                        |\n",
      "|                    |                                         |                   |                                 |    \"O_CUSTOMER_SK\" AS \"O_CUSTOMER_SK\",             |           |                          |                                                    |                |                              |                         |                             |                |                                                    |            |                                                    |                        |\n",
      "|                    |                                         |                   |                                 |    \"FREQUENCY\" AS \"FREQUENCY\"                      |           |                          |                                                    |                |                              |                         |                             |                |                                                    |            |                                                    |                        |\n",
      "|                    |                                         |                   |                                 |  FROM cte_8 AS cte_8                               |           |                          |                                                    |                |                              |                         |                             |                |                                                    |            |                                                    |                        |\n",
      "|                    |                                         |                   |                                 |), cte_9 AS (                                       |           |                          |                                                    |                |                              |                         |                             |                |                                                    |            |                                                    |                        |\n",
      "|                    |                                         |                   |                                 |  SELECT                                            |           |                          |                                                    |                |                              |                         |                             |                |                                                    |            |                                                    |                        |\n",
      "|                    |                                         |                   |                                 |    \"O_CUSTOMER_SK\",                                |           |                          |                                                    |                |                              |                         |                             |                |                                                    |            |                                                    |                        |\n",
      "|                    |                                         |                   |                                 |    CAST(AVG(\"RATIO\") AS FLOAT) AS \"RETURN_RATIO\",  |           |                          |                                                    |                |                              |                         |                             |                |                                                    |            |                                                    |                        |\n",
      "|                    |                                         |                   |                                 |    MAX(\"LATEST_ORDER_DATE\") AS \"LATEST_ORDER_D...  |           |                          |                                                    |                |                              |                         |                             |                |                                                    |            |                                                    |                        |\n",
      "|                    |                                         |                   |                                 |  FROM cte_6 AS cte_6                               |           |                          |                                                    |                |                              |                         |                             |                |                                                    |            |                                                    |                        |\n",
      "|                    |                                         |                   |                                 |  GROUP BY                                          |           |                          |                                                    |                |                              |                         |                             |                |                                                    |            |                                                    |                        |\n",
      "|                    |                                         |                   |                                 |    \"O_CUSTOMER_SK\"                                 |           |                          |                                                    |                |                              |                         |                             |                |                                                    |            |                                                    |                        |\n",
      "|                    |                                         |                   |                                 |), SNOWPARK_RIGHT_3 AS (                            |           |                          |                                                    |                |                              |                         |                             |                |                                                    |            |                                                    |                        |\n",
      "|                    |                                         |                   |                                 |  SELECT                                            |           |                          |                                                    |                |                              |                         |                             |                |                                                    |            |                                                    |                        |\n",
      "|                    |                                         |                   |                                 |    \"O_CUSTOMER_SK\" AS \"O_CUSTOMER_SK\",             |           |                          |                                                    |                |                              |                         |                             |                |                                                    |            |                                                    |                        |\n",
      "|                    |                                         |                   |                                 |    \"RETURN_RATIO\" AS \"RETURN_RATIO\",               |           |                          |                                                    |                |                              |                         |                             |                |                                                    |            |                                                    |                        |\n",
      "|                    |                                         |                   |                                 |    \"LATEST_ORDER_DATE\" AS \"LATEST_ORDER_DATE\"      |           |                          |                                                    |                |                              |                         |                             |                |                                                    |            |                                                    |                        |\n",
      "|                    |                                         |                   |                                 |  FROM cte_9 AS cte_9                               |           |                          |                                                    |                |                              |                         |                             |                |                                                    |            |                                                    |                        |\n",
      "|                    |                                         |                   |                                 |)                                                   |           |                          |                                                    |                |                              |                         |                             |                |                                                    |            |                                                    |                        |\n",
      "|                    |                                         |                   |                                 |SELECT                                              |           |                          |                                                    |                |                              |                         |                             |                |                                                    |            |                                                    |                        |\n",
      "|                    |                                         |                   |                                 |  *                                                 |           |                          |                                                    |                |                              |                         |                             |                |                                                    |            |                                                    |                        |\n",
      "|                    |                                         |                   |                                 |FROM (                                              |           |                          |                                                    |                |                              |                         |                             |                |                                                    |            |                                                    |                        |\n",
      "|                    |                                         |                   |                                 |  SNOWPARK_LEFT_3 AS SNOWPARK_LEFT                  |           |                          |                                                    |                |                              |                         |                             |                |                                                    |            |                                                    |                        |\n",
      "|                    |                                         |                   |                                 |    INNER JOIN SNOWPARK_RIGHT_3 AS SNOWPARK_RIGHT   |           |                          |                                                    |                |                              |                         |                             |                |                                                    |            |                                                    |                        |\n",
      "|                    |                                         |                   |                                 |      USING (O_CUSTOMER_SK)                         |           |                          |                                                    |                |                              |                         |                             |                |                                                    |            |                                                    |                        |\n",
      "|                    |                                         |                   |                                 |)                                                   |           |                          |                                                    |                |                              |                         |                             |                |                                                    |            |                                                    |                        |\n",
      "------------------------------------------------------------------------------------------------------------------------------------------------------------------------------------------------------------------------------------------------------------------------------------------------------------------------------------------------------------------------------------------------------------------------------------------------------------------------------------------------------------------------------------------------\n",
      "\n"
     ]
    }
   ],
   "source": [
    "# You can also use the following to retrieve a Feature View instance for use within Python\n",
    "FV_UC01_PREPROCESS_V_1 = fs.get_feature_view(ppd_fv_name, 'V_1')\n",
    "# and show it's definition.  Note the formatted SQL.\n",
    "FV_UC01_PREPROCESS_V_1.to_df(session).show()"
   ]
  },
  {
   "cell_type": "code",
   "execution_count": 17,
   "metadata": {},
   "outputs": [
    {
     "name": "stdout",
     "output_type": "stream",
     "text": [
      "------------------------------------------------------------------------------------------------------------------------------------------------------------------------------------------------------------------------------------------------------------------------------------------------------------------------------------------------------------------------------------------------------------------------------------------------------------------------------------------------------------------------------------------------\n",
      "|\"NAME\"              |\"ENTITIES\"                               |\"TIMESTAMP_COL\"    |\"DESC\"                           |\"QUERY\"                                             |\"VERSION\"  |\"STATUS\"                  |\"FEATURE_DESC\"                                      |\"REFRESH_FREQ\"  |\"DATABASE\"                    |\"SCHEMA\"                 |\"WAREHOUSE\"                  |\"REFRESH_MODE\"  |\"REFRESH_MODE_REASON\"                               |\"OWNER\"     |\"INFER_SCHEMA_QUERY\"                                |\"PHYSICAL_NAME\"         |\n",
      "------------------------------------------------------------------------------------------------------------------------------------------------------------------------------------------------------------------------------------------------------------------------------------------------------------------------------------------------------------------------------------------------------------------------------------------------------------------------------------------------------------------------------------------------\n",
      "|FV_UC01_PREPROCESS  |[                                        |LATEST_ORDER_DATE  |Features to support Use Case 01  |WITH SNOWPARK_LEFT AS (                             |V_1        |FeatureViewStatus.ACTIVE  |{                                                   |1 hour          |TPCXAI_SF0001_QUICKSTART_INC  |_TRAINING_FEATURE_STORE  |TPCXAI_SF0001_QUICKSTART_WH  |INCREMENTAL     |This dynamic table contains a complex query. Fo...  |FS_QS_ROLE  |SELECT * FROM TPCXAI_SF0001_QUICKSTART_INC._TRA...  |FV_UC01_PREPROCESS$V_1  |\n",
      "|                    |  {                                      |                   |                                 |  SELECT                                            |           |                          |  \"FREQUENCY\": \"Average yearly order frequency\",    |                |                              |                         |                             |                |                                                    |            |                                                    |                        |\n",
      "|                    |    \"desc\": \"Primary Key for CUSTOMER\",  |                   |                                 |    \"LI_ORDER_ID\" AS \"LI_ORDER_ID\",                 |           |                          |  \"RETURN_RATIO\": \"Average of, Per Order Return...  |                |                              |                         |                             |                |                                                    |            |                                                    |                        |\n",
      "|                    |    \"join_keys\": [                       |                   |                                 |    \"LI_PRODUCT_ID\" AS \"LI_PRODUCT_ID\",             |           |                          |}                                                   |                |                              |                         |                             |                |                                                    |            |                                                    |                        |\n",
      "|                    |      \"O_CUSTOMER_SK\"                    |                   |                                 |    \"QUANTITY\" AS \"QUANTITY\",                       |           |                          |                                                    |                |                              |                         |                             |                |                                                    |            |                                                    |                        |\n",
      "|                    |    ],                                   |                   |                                 |    \"PRICE\" AS \"PRICE\"                              |           |                          |                                                    |                |                              |                         |                             |                |                                                    |            |                                                    |                        |\n",
      "|                    |    \"name\": \"CUSTOMER\",                  |                   |                                 |  FROM TPCXAI_SF0001_QUICKSTART_INC.TRAINING.LI...  |           |                          |                                                    |                |                              |                         |                             |                |                                                    |            |                                                    |                        |\n",
      "|                    |    \"owner\": null                        |                   |                                 |), SNOWPARK_RIGHT AS (                              |           |                          |                                                    |                |                              |                         |                             |                |                                                    |            |                                                    |                        |\n",
      "|                    |  }                                      |                   |                                 |  SELECT                                            |           |                          |                                                    |                |                              |                         |                             |                |                                                    |            |                                                    |                        |\n",
      "|                    |]                                        |                   |                                 |    \"OR_ORDER_ID\" AS \"OR_ORDER_ID\",                 |           |                          |                                                    |                |                              |                         |                             |                |                                                    |            |                                                    |                        |\n",
      "|                    |                                         |                   |                                 |    \"OR_PRODUCT_ID\" AS \"OR_PRODUCT_ID\",             |           |                          |                                                    |                |                              |                         |                             |                |                                                    |            |                                                    |                        |\n",
      "|                    |                                         |                   |                                 |    \"OR_RETURN_QUANTITY\" AS \"OR_RETURN_QUANTITY\"    |           |                          |                                                    |                |                              |                         |                             |                |                                                    |            |                                                    |                        |\n",
      "|                    |                                         |                   |                                 |  FROM TPCXAI_SF0001_QUICKSTART_INC.TRAINING.OR...  |           |                          |                                                    |                |                              |                         |                             |                |                                                    |            |                                                    |                        |\n",
      "|                    |                                         |                   |                                 |), cte AS (                                         |           |                          |                                                    |                |                              |                         |                             |                |                                                    |            |                                                    |                        |\n",
      "|                    |                                         |                   |                                 |  SELECT                                            |           |                          |                                                    |                |                              |                         |                             |                |                                                    |            |                                                    |                        |\n",
      "|                    |                                         |                   |                                 |    *                                               |           |                          |                                                    |                |                              |                         |                             |                |                                                    |            |                                                    |                        |\n",
      "|                    |                                         |                   |                                 |  FROM (                                            |           |                          |                                                    |                |                              |                         |                             |                |                                                    |            |                                                    |                        |\n",
      "|                    |                                         |                   |                                 |    SNOWPARK_LEFT AS SNOWPARK_LEFT                  |           |                          |                                                    |                |                              |                         |                             |                |                                                    |            |                                                    |                        |\n",
      "|                    |                                         |                   |                                 |      LEFT OUTER JOIN SNOWPARK_RIGHT AS SNOWPAR...  |           |                          |                                                    |                |                              |                         |                             |                |                                                    |            |                                                    |                        |\n",
      "|                    |                                         |                   |                                 |        ON (                                        |           |                          |                                                    |                |                              |                         |                             |                |                                                    |            |                                                    |                        |\n",
      "|                    |                                         |                   |                                 |          (                                         |           |                          |                                                    |                |                              |                         |                             |                |                                                    |            |                                                    |                        |\n",
      "|                    |                                         |                   |                                 |            \"LI_ORDER_ID\" = \"OR_ORDER_ID\"           |           |                          |                                                    |                |                              |                         |                             |                |                                                    |            |                                                    |                        |\n",
      "|                    |                                         |                   |                                 |          ) AND (                                   |           |                          |                                                    |                |                              |                         |                             |                |                                                    |            |                                                    |                        |\n",
      "|                    |                                         |                   |                                 |            \"LI_PRODUCT_ID\" = \"OR_PRODUCT_ID\"       |           |                          |                                                    |                |                              |                         |                             |                |                                                    |            |                                                    |                        |\n",
      "|                    |                                         |                   |                                 |          )                                         |           |                          |                                                    |                |                              |                         |                             |                |                                                    |            |                                                    |                        |\n",
      "|                    |                                         |                   |                                 |        )                                           |           |                          |                                                    |                |                              |                         |                             |                |                                                    |            |                                                    |                        |\n",
      "|                    |                                         |                   |                                 |  )                                                 |           |                          |                                                    |                |                              |                         |                             |                |                                                    |            |                                                    |                        |\n",
      "|                    |                                         |                   |                                 |), SNOWPARK_LEFT_2 AS (                             |           |                          |                                                    |                |                              |                         |                             |                |                                                    |            |                                                    |                        |\n",
      "|                    |                                         |                   |                                 |  SELECT                                            |           |                          |                                                    |                |                              |                         |                             |                |                                                    |            |                                                    |                        |\n",
      "|                    |                                         |                   |                                 |    \"LI_ORDER_ID\" AS \"LI_ORDER_ID\",                 |           |                          |                                                    |                |                              |                         |                             |                |                                                    |            |                                                    |                        |\n",
      "|                    |                                         |                   |                                 |    \"LI_PRODUCT_ID\" AS \"LI_PRODUCT_ID\",             |           |                          |                                                    |                |                              |                         |                             |                |                                                    |            |                                                    |                        |\n",
      "|                    |                                         |                   |                                 |    \"QUANTITY\" AS \"QUANTITY\",                       |           |                          |                                                    |                |                              |                         |                             |                |                                                    |            |                                                    |                        |\n",
      "|                    |                                         |                   |                                 |    \"PRICE\" AS \"PRICE\",                             |           |                          |                                                    |                |                              |                         |                             |                |                                                    |            |                                                    |                        |\n",
      "|                    |                                         |                   |                                 |    \"OR_ORDER_ID\" AS \"OR_ORDER_ID\",                 |           |                          |                                                    |                |                              |                         |                             |                |                                                    |            |                                                    |                        |\n",
      "|                    |                                         |                   |                                 |    \"OR_PRODUCT_ID\" AS \"OR_PRODUCT_ID\",             |           |                          |                                                    |                |                              |                         |                             |                |                                                    |            |                                                    |                        |\n",
      "|                    |                                         |                   |                                 |    \"OR_RETURN_QUANTITY\" AS \"OR_RETURN_QUANTITY\"    |           |                          |                                                    |                |                              |                         |                             |                |                                                    |            |                                                    |                        |\n",
      "|                    |                                         |                   |                                 |  FROM cte AS cte                                   |           |                          |                                                    |                |                              |                         |                             |                |                                                    |            |                                                    |                        |\n",
      "|                    |                                         |                   |                                 |), SNOWPARK_RIGHT_2 AS (                            |           |                          |                                                    |                |                              |                         |                             |                |                                                    |            |                                                    |                        |\n",
      "|                    |                                         |                   |                                 |  SELECT                                            |           |                          |                                                    |                |                              |                         |                             |                |                                                    |            |                                                    |                        |\n",
      "|                    |                                         |                   |                                 |    \"O_ORDER_ID\" AS \"O_ORDER_ID\",                   |           |                          |                                                    |                |                              |                         |                             |                |                                                    |            |                                                    |                        |\n",
      "|                    |                                         |                   |                                 |    \"O_CUSTOMER_SK\" AS \"O_CUSTOMER_SK\",             |           |                          |                                                    |                |                              |                         |                             |                |                                                    |            |                                                    |                        |\n",
      "|                    |                                         |                   |                                 |    \"ORDER_TS\" AS \"ORDER_TS\",                       |           |                          |                                                    |                |                              |                         |                             |                |                                                    |            |                                                    |                        |\n",
      "|                    |                                         |                   |                                 |    \"WEEKDAY\" AS \"WEEKDAY\",                         |           |                          |                                                    |                |                              |                         |                             |                |                                                    |            |                                                    |                        |\n",
      "|                    |                                         |                   |                                 |    \"ORDER_DATE\" AS \"ORDER_DATE\",                   |           |                          |                                                    |                |                              |                         |                             |                |                                                    |            |                                                    |                        |\n",
      "|                    |                                         |                   |                                 |    \"STORE\" AS \"STORE\",                             |           |                          |                                                    |                |                              |                         |                             |                |                                                    |            |                                                    |                        |\n",
      "|                    |                                         |                   |                                 |    \"TRIP_TYPE\" AS \"TRIP_TYPE\"                      |           |                          |                                                    |                |                              |                         |                             |                |                                                    |            |                                                    |                        |\n",
      "|                    |                                         |                   |                                 |  FROM TPCXAI_SF0001_QUICKSTART_INC.TRAINING.OR...  |           |                          |                                                    |                |                              |                         |                             |                |                                                    |            |                                                    |                        |\n",
      "|                    |                                         |                   |                                 |), cte_2 AS (                                       |           |                          |                                                    |                |                              |                         |                             |                |                                                    |            |                                                    |                        |\n",
      "|                    |                                         |                   |                                 |  SELECT                                            |           |                          |                                                    |                |                              |                         |                             |                |                                                    |            |                                                    |                        |\n",
      "|                    |                                         |                   |                                 |    *                                               |           |                          |                                                    |                |                              |                         |                             |                |                                                    |            |                                                    |                        |\n",
      "|                    |                                         |                   |                                 |  FROM (                                            |           |                          |                                                    |                |                              |                         |                             |                |                                                    |            |                                                    |                        |\n",
      "|                    |                                         |                   |                                 |    SNOWPARK_LEFT_2 AS SNOWPARK_LEFT                |           |                          |                                                    |                |                              |                         |                             |                |                                                    |            |                                                    |                        |\n",
      "|                    |                                         |                   |                                 |      INNER JOIN SNOWPARK_RIGHT_2 AS SNOWPARK_R...  |           |                          |                                                    |                |                              |                         |                             |                |                                                    |            |                                                    |                        |\n",
      "|                    |                                         |                   |                                 |        ON (                                        |           |                          |                                                    |                |                              |                         |                             |                |                                                    |            |                                                    |                        |\n",
      "|                    |                                         |                   |                                 |          \"OR_ORDER_ID\" = \"O_ORDER_ID\"              |           |                          |                                                    |                |                              |                         |                             |                |                                                    |            |                                                    |                        |\n",
      "|                    |                                         |                   |                                 |        )                                           |           |                          |                                                    |                |                              |                         |                             |                |                                                    |            |                                                    |                        |\n",
      "|                    |                                         |                   |                                 |  )                                                 |           |                          |                                                    |                |                              |                         |                             |                |                                                    |            |                                                    |                        |\n",
      "|                    |                                         |                   |                                 |), cte_3 AS (                                       |           |                          |                                                    |                |                              |                         |                             |                |                                                    |            |                                                    |                        |\n",
      "|                    |                                         |                   |                                 |  SELECT                                            |           |                          |                                                    |                |                              |                         |                             |                |                                                    |            |                                                    |                        |\n",
      "|                    |                                         |                   |                                 |    IFF(\"O_ORDER_ID\" IS NULL, 0, \"O_ORDER_ID\") ...  |           |                          |                                                    |                |                              |                         |                             |                |                                                    |            |                                                    |                        |\n",
      "|                    |                                         |                   |                                 |    IFF(\"O_CUSTOMER_SK\" IS NULL, 0, \"O_CUSTOMER...  |           |                          |                                                    |                |                              |                         |                             |                |                                                    |            |                                                    |                        |\n",
      "|                    |                                         |                   |                                 |    IFF(\"ORDER_DATE\" IS NULL, CAST('1970-01-01'...  |           |                          |                                                    |                |                              |                         |                             |                |                                                    |            |                                                    |                        |\n",
      "|                    |                                         |                   |                                 |    \"LI_PRODUCT_ID\",                                |           |                          |                                                    |                |                              |                         |                             |                |                                                    |            |                                                    |                        |\n",
      "|                    |                                         |                   |                                 |    IFF(\"PRICE\" IS NULL, 0.0, \"PRICE\") AS \"PRICE\",  |           |                          |                                                    |                |                              |                         |                             |                |                                                    |            |                                                    |                        |\n",
      "|                    |                                         |                   |                                 |    IFF(\"QUANTITY\" IS NULL, 0, \"QUANTITY\") AS \"...  |           |                          |                                                    |                |                              |                         |                             |                |                                                    |            |                                                    |                        |\n",
      "|                    |                                         |                   |                                 |    IFF(\"OR_RETURN_QUANTITY\" IS NULL, 0, \"OR_RE...  |           |                          |                                                    |                |                              |                         |                             |                |                                                    |            |                                                    |                        |\n",
      "|                    |                                         |                   |                                 |  FROM cte_2 AS cte_2                               |           |                          |                                                    |                |                              |                         |                             |                |                                                    |            |                                                    |                        |\n",
      "|                    |                                         |                   |                                 |), cte_4 AS (                                       |           |                          |                                                    |                |                              |                         |                             |                |                                                    |            |                                                    |                        |\n",
      "|                    |                                         |                   |                                 |  SELECT                                            |           |                          |                                                    |                |                              |                         |                             |                |                                                    |            |                                                    |                        |\n",
      "|                    |                                         |                   |                                 |    \"O_ORDER_ID\",                                   |           |                          |                                                    |                |                              |                         |                             |                |                                                    |            |                                                    |                        |\n",
      "|                    |                                         |                   |                                 |    \"O_CUSTOMER_SK\",                                |           |                          |                                                    |                |                              |                         |                             |                |                                                    |            |                                                    |                        |\n",
      "|                    |                                         |                   |                                 |    \"ORDER_DATE\",                                   |           |                          |                                                    |                |                              |                         |                             |                |                                                    |            |                                                    |                        |\n",
      "|                    |                                         |                   |                                 |    \"LI_PRODUCT_ID\",                                |           |                          |                                                    |                |                              |                         |                             |                |                                                    |            |                                                    |                        |\n",
      "|                    |                                         |                   |                                 |    \"PRICE\",                                        |           |                          |                                                    |                |                              |                         |                             |                |                                                    |            |                                                    |                        |\n",
      "|                    |                                         |                   |                                 |    \"QUANTITY\",                                     |           |                          |                                                    |                |                              |                         |                             |                |                                                    |            |                                                    |                        |\n",
      "|                    |                                         |                   |                                 |    \"OR_RETURN_QUANTITY\",                           |           |                          |                                                    |                |                              |                         |                             |                |                                                    |            |                                                    |                        |\n",
      "|                    |                                         |                   |                                 |    YEAR(\"ORDER_DATE\") AS \"INVOICE_YEAR\",           |           |                          |                                                    |                |                              |                         |                             |                |                                                    |            |                                                    |                        |\n",
      "|                    |                                         |                   |                                 |    (                                               |           |                          |                                                    |                |                              |                         |                             |                |                                                    |            |                                                    |                        |\n",
      "|                    |                                         |                   |                                 |      \"QUANTITY\" * \"PRICE\"                          |           |                          |                                                    |                |                              |                         |                             |                |                                                    |            |                                                    |                        |\n",
      "|                    |                                         |                   |                                 |    ) AS \"ROW_PRICE\",                               |           |                          |                                                    |                |                              |                         |                             |                |                                                    |            |                                                    |                        |\n",
      "|                    |                                         |                   |                                 |    (                                               |           |                          |                                                    |                |                              |                         |                             |                |                                                    |            |                                                    |                        |\n",
      "|                    |                                         |                   |                                 |      \"OR_RETURN_QUANTITY\" * \"PRICE\"                |           |                          |                                                    |                |                              |                         |                             |                |                                                    |            |                                                    |                        |\n",
      "|                    |                                         |                   |                                 |    ) AS \"RETURN_ROW_PRICE\"                         |           |                          |                                                    |                |                              |                         |                             |                |                                                    |            |                                                    |                        |\n",
      "|                    |                                         |                   |                                 |  FROM cte_3 AS cte_3                               |           |                          |                                                    |                |                              |                         |                             |                |                                                    |            |                                                    |                        |\n",
      "|                    |                                         |                   |                                 |), cte_5 AS (                                       |           |                          |                                                    |                |                              |                         |                             |                |                                                    |            |                                                    |                        |\n",
      "|                    |                                         |                   |                                 |  SELECT                                            |           |                          |                                                    |                |                              |                         |                             |                |                                                    |            |                                                    |                        |\n",
      "|                    |                                         |                   |                                 |    \"O_CUSTOMER_SK\",                                |           |                          |                                                    |                |                              |                         |                             |                |                                                    |            |                                                    |                        |\n",
      "|                    |                                         |                   |                                 |    \"O_ORDER_ID\",                                   |           |                          |                                                    |                |                              |                         |                             |                |                                                    |            |                                                    |                        |\n",
      "|                    |                                         |                   |                                 |    SUM(\"ROW_PRICE\") AS \"ROW_PRICE\",                |           |                          |                                                    |                |                              |                         |                             |                |                                                    |            |                                                    |                        |\n",
      "|                    |                                         |                   |                                 |    SUM(\"RETURN_ROW_PRICE\") AS \"RETURN_ROW_PRICE\",  |           |                          |                                                    |                |                              |                         |                             |                |                                                    |            |                                                    |                        |\n",
      "|                    |                                         |                   |                                 |    MIN(\"INVOICE_YEAR\") AS \"INVOICE_YEAR\",          |           |                          |                                                    |                |                              |                         |                             |                |                                                    |            |                                                    |                        |\n",
      "|                    |                                         |                   |                                 |    MAX(\"ORDER_DATE\") AS \"LATEST_ORDER_DATE\"        |           |                          |                                                    |                |                              |                         |                             |                |                                                    |            |                                                    |                        |\n",
      "|                    |                                         |                   |                                 |  FROM cte_4 AS cte_4                               |           |                          |                                                    |                |                              |                         |                             |                |                                                    |            |                                                    |                        |\n",
      "|                    |                                         |                   |                                 |  GROUP BY                                          |           |                          |                                                    |                |                              |                         |                             |                |                                                    |            |                                                    |                        |\n",
      "|                    |                                         |                   |                                 |    \"O_CUSTOMER_SK\",                                |           |                          |                                                    |                |                              |                         |                             |                |                                                    |            |                                                    |                        |\n",
      "|                    |                                         |                   |                                 |    \"O_ORDER_ID\"                                    |           |                          |                                                    |                |                              |                         |                             |                |                                                    |            |                                                    |                        |\n",
      "|                    |                                         |                   |                                 |), cte_6 AS (                                       |           |                          |                                                    |                |                              |                         |                             |                |                                                    |            |                                                    |                        |\n",
      "|                    |                                         |                   |                                 |  SELECT                                            |           |                          |                                                    |                |                              |                         |                             |                |                                                    |            |                                                    |                        |\n",
      "|                    |                                         |                   |                                 |    \"O_CUSTOMER_SK\",                                |           |                          |                                                    |                |                              |                         |                             |                |                                                    |            |                                                    |                        |\n",
      "|                    |                                         |                   |                                 |    \"O_ORDER_ID\",                                   |           |                          |                                                    |                |                              |                         |                             |                |                                                    |            |                                                    |                        |\n",
      "|                    |                                         |                   |                                 |    \"ROW_PRICE\",                                    |           |                          |                                                    |                |                              |                         |                             |                |                                                    |            |                                                    |                        |\n",
      "|                    |                                         |                   |                                 |    \"RETURN_ROW_PRICE\",                             |           |                          |                                                    |                |                              |                         |                             |                |                                                    |            |                                                    |                        |\n",
      "|                    |                                         |                   |                                 |    \"INVOICE_YEAR\",                                 |           |                          |                                                    |                |                              |                         |                             |                |                                                    |            |                                                    |                        |\n",
      "|                    |                                         |                   |                                 |    \"LATEST_ORDER_DATE\",                            |           |                          |                                                    |                |                              |                         |                             |                |                                                    |            |                                                    |                        |\n",
      "|                    |                                         |                   |                                 |    (                                               |           |                          |                                                    |                |                              |                         |                             |                |                                                    |            |                                                    |                        |\n",
      "|                    |                                         |                   |                                 |      \"RETURN_ROW_PRICE\" / \"ROW_PRICE\"              |           |                          |                                                    |                |                              |                         |                             |                |                                                    |            |                                                    |                        |\n",
      "|                    |                                         |                   |                                 |    ) AS \"RATIO\"                                    |           |                          |                                                    |                |                              |                         |                             |                |                                                    |            |                                                    |                        |\n",
      "|                    |                                         |                   |                                 |  FROM cte_5 AS cte_5                               |           |                          |                                                    |                |                              |                         |                             |                |                                                    |            |                                                    |                        |\n",
      "|                    |                                         |                   |                                 |), cte_7 AS (                                       |           |                          |                                                    |                |                              |                         |                             |                |                                                    |            |                                                    |                        |\n",
      "|                    |                                         |                   |                                 |  SELECT                                            |           |                          |                                                    |                |                              |                         |                             |                |                                                    |            |                                                    |                        |\n",
      "|                    |                                         |                   |                                 |    \"O_CUSTOMER_SK\",                                |           |                          |                                                    |                |                              |                         |                             |                |                                                    |            |                                                    |                        |\n",
      "|                    |                                         |                   |                                 |    \"INVOICE_YEAR\",                                 |           |                          |                                                    |                |                              |                         |                             |                |                                                    |            |                                                    |                        |\n",
      "|                    |                                         |                   |                                 |    CAST(COUNT(\"O_ORDER_ID\") AS FLOAT) AS \"FREQ...  |           |                          |                                                    |                |                              |                         |                             |                |                                                    |            |                                                    |                        |\n",
      "|                    |                                         |                   |                                 |  FROM cte_6 AS cte_6                               |           |                          |                                                    |                |                              |                         |                             |                |                                                    |            |                                                    |                        |\n",
      "|                    |                                         |                   |                                 |  GROUP BY                                          |           |                          |                                                    |                |                              |                         |                             |                |                                                    |            |                                                    |                        |\n",
      "|                    |                                         |                   |                                 |    \"O_CUSTOMER_SK\",                                |           |                          |                                                    |                |                              |                         |                             |                |                                                    |            |                                                    |                        |\n",
      "|                    |                                         |                   |                                 |    \"INVOICE_YEAR\"                                  |           |                          |                                                    |                |                              |                         |                             |                |                                                    |            |                                                    |                        |\n",
      "|                    |                                         |                   |                                 |), cte_8 AS (                                       |           |                          |                                                    |                |                              |                         |                             |                |                                                    |            |                                                    |                        |\n",
      "|                    |                                         |                   |                                 |  SELECT                                            |           |                          |                                                    |                |                              |                         |                             |                |                                                    |            |                                                    |                        |\n",
      "|                    |                                         |                   |                                 |    \"O_CUSTOMER_SK\",                                |           |                          |                                                    |                |                              |                         |                             |                |                                                    |            |                                                    |                        |\n",
      "|                    |                                         |                   |                                 |    AVG(\"FREQUENCY\") AS \"FREQUENCY\"                 |           |                          |                                                    |                |                              |                         |                             |                |                                                    |            |                                                    |                        |\n",
      "|                    |                                         |                   |                                 |  FROM cte_7 AS cte_7                               |           |                          |                                                    |                |                              |                         |                             |                |                                                    |            |                                                    |                        |\n",
      "|                    |                                         |                   |                                 |  GROUP BY                                          |           |                          |                                                    |                |                              |                         |                             |                |                                                    |            |                                                    |                        |\n",
      "|                    |                                         |                   |                                 |    \"O_CUSTOMER_SK\"                                 |           |                          |                                                    |                |                              |                         |                             |                |                                                    |            |                                                    |                        |\n",
      "|                    |                                         |                   |                                 |), SNOWPARK_LEFT_3 AS (                             |           |                          |                                                    |                |                              |                         |                             |                |                                                    |            |                                                    |                        |\n",
      "|                    |                                         |                   |                                 |  SELECT                                            |           |                          |                                                    |                |                              |                         |                             |                |                                                    |            |                                                    |                        |\n",
      "|                    |                                         |                   |                                 |    \"O_CUSTOMER_SK\" AS \"O_CUSTOMER_SK\",             |           |                          |                                                    |                |                              |                         |                             |                |                                                    |            |                                                    |                        |\n",
      "|                    |                                         |                   |                                 |    \"FREQUENCY\" AS \"FREQUENCY\"                      |           |                          |                                                    |                |                              |                         |                             |                |                                                    |            |                                                    |                        |\n",
      "|                    |                                         |                   |                                 |  FROM cte_8 AS cte_8                               |           |                          |                                                    |                |                              |                         |                             |                |                                                    |            |                                                    |                        |\n",
      "|                    |                                         |                   |                                 |), cte_9 AS (                                       |           |                          |                                                    |                |                              |                         |                             |                |                                                    |            |                                                    |                        |\n",
      "|                    |                                         |                   |                                 |  SELECT                                            |           |                          |                                                    |                |                              |                         |                             |                |                                                    |            |                                                    |                        |\n",
      "|                    |                                         |                   |                                 |    \"O_CUSTOMER_SK\",                                |           |                          |                                                    |                |                              |                         |                             |                |                                                    |            |                                                    |                        |\n",
      "|                    |                                         |                   |                                 |    CAST(AVG(\"RATIO\") AS FLOAT) AS \"RETURN_RATIO\",  |           |                          |                                                    |                |                              |                         |                             |                |                                                    |            |                                                    |                        |\n",
      "|                    |                                         |                   |                                 |    MAX(\"LATEST_ORDER_DATE\") AS \"LATEST_ORDER_D...  |           |                          |                                                    |                |                              |                         |                             |                |                                                    |            |                                                    |                        |\n",
      "|                    |                                         |                   |                                 |  FROM cte_6 AS cte_6                               |           |                          |                                                    |                |                              |                         |                             |                |                                                    |            |                                                    |                        |\n",
      "|                    |                                         |                   |                                 |  GROUP BY                                          |           |                          |                                                    |                |                              |                         |                             |                |                                                    |            |                                                    |                        |\n",
      "|                    |                                         |                   |                                 |    \"O_CUSTOMER_SK\"                                 |           |                          |                                                    |                |                              |                         |                             |                |                                                    |            |                                                    |                        |\n",
      "|                    |                                         |                   |                                 |), SNOWPARK_RIGHT_3 AS (                            |           |                          |                                                    |                |                              |                         |                             |                |                                                    |            |                                                    |                        |\n",
      "|                    |                                         |                   |                                 |  SELECT                                            |           |                          |                                                    |                |                              |                         |                             |                |                                                    |            |                                                    |                        |\n",
      "|                    |                                         |                   |                                 |    \"O_CUSTOMER_SK\" AS \"O_CUSTOMER_SK\",             |           |                          |                                                    |                |                              |                         |                             |                |                                                    |            |                                                    |                        |\n",
      "|                    |                                         |                   |                                 |    \"RETURN_RATIO\" AS \"RETURN_RATIO\",               |           |                          |                                                    |                |                              |                         |                             |                |                                                    |            |                                                    |                        |\n",
      "|                    |                                         |                   |                                 |    \"LATEST_ORDER_DATE\" AS \"LATEST_ORDER_DATE\"      |           |                          |                                                    |                |                              |                         |                             |                |                                                    |            |                                                    |                        |\n",
      "|                    |                                         |                   |                                 |  FROM cte_9 AS cte_9                               |           |                          |                                                    |                |                              |                         |                             |                |                                                    |            |                                                    |                        |\n",
      "|                    |                                         |                   |                                 |)                                                   |           |                          |                                                    |                |                              |                         |                             |                |                                                    |            |                                                    |                        |\n",
      "|                    |                                         |                   |                                 |SELECT                                              |           |                          |                                                    |                |                              |                         |                             |                |                                                    |            |                                                    |                        |\n",
      "|                    |                                         |                   |                                 |  *                                                 |           |                          |                                                    |                |                              |                         |                             |                |                                                    |            |                                                    |                        |\n",
      "|                    |                                         |                   |                                 |FROM (                                              |           |                          |                                                    |                |                              |                         |                             |                |                                                    |            |                                                    |                        |\n",
      "|                    |                                         |                   |                                 |  SNOWPARK_LEFT_3 AS SNOWPARK_LEFT                  |           |                          |                                                    |                |                              |                         |                             |                |                                                    |            |                                                    |                        |\n",
      "|                    |                                         |                   |                                 |    INNER JOIN SNOWPARK_RIGHT_3 AS SNOWPARK_RIGHT   |           |                          |                                                    |                |                              |                         |                             |                |                                                    |            |                                                    |                        |\n",
      "|                    |                                         |                   |                                 |      USING (O_CUSTOMER_SK)                         |           |                          |                                                    |                |                              |                         |                             |                |                                                    |            |                                                    |                        |\n",
      "|                    |                                         |                   |                                 |)                                                   |           |                          |                                                    |                |                              |                         |                             |                |                                                    |            |                                                    |                        |\n",
      "------------------------------------------------------------------------------------------------------------------------------------------------------------------------------------------------------------------------------------------------------------------------------------------------------------------------------------------------------------------------------------------------------------------------------------------------------------------------------------------------------------------------------------------------\n",
      "\n"
     ]
    }
   ],
   "source": [
    "FV_UC01_PREPROCESS_V_1.to_df(session).show()"
   ]
  },
  {
   "cell_type": "code",
   "execution_count": 18,
   "metadata": {
    "metadata": {}
   },
   "outputs": [
    {
     "name": "stdout",
     "output_type": "stream",
     "text": [
      "------------------------------------------------------------------------\n",
      "|\"O_CUSTOMER_SK\"  |\"FREQUENCY\"  |\"RETURN_RATIO\"  |\"LATEST_ORDER_DATE\"  |\n",
      "------------------------------------------------------------------------\n",
      "|44331            |2.0          |0.844365738333  |2023-01-05           |\n",
      "|62529            |1.5          |0.82124993      |2022-09-08           |\n",
      "|64781            |6.0          |0.700611269167  |2022-12-02           |\n",
      "|2293             |4.5          |0.741950793333  |2022-08-19           |\n",
      "|8257             |3.0          |0.783821728333  |2022-09-15           |\n",
      "|36043            |3.0          |0.716803395     |2022-06-24           |\n",
      "|54262            |2.5          |0.724347374     |2022-10-15           |\n",
      "|21346            |6.0          |0.653639729167  |2022-11-18           |\n",
      "|13994            |3.0          |0.690442011667  |2022-08-11           |\n",
      "|8854             |3.0          |0.767658665556  |2023-01-03           |\n",
      "------------------------------------------------------------------------\n",
      "\n"
     ]
    }
   ],
   "source": [
    "# We can look at the FeatureView's contents with\n",
    "fv_uc01_preprocess.feature_df.show()"
   ]
  },
  {
   "cell_type": "markdown",
   "metadata": {},
   "source": [
    "### Create training data Dataset from FeatureView_Preprocess"
   ]
  },
  {
   "cell_type": "code",
   "execution_count": 19,
   "metadata": {
    "metadata": {}
   },
   "outputs": [
    {
     "name": "stdout",
     "output_type": "stream",
     "text": [
      "---------------------------------\n",
      "|\"O_CUSTOMER_SK\"  |\"ASOF_DATE\"  |\n",
      "---------------------------------\n",
      "|0                |2023-02-02   |\n",
      "|1                |2022-11-02   |\n",
      "|2                |2022-11-24   |\n",
      "|3                |2023-01-18   |\n",
      "|4                |2022-08-25   |\n",
      "---------------------------------\n",
      "\n"
     ]
    }
   ],
   "source": [
    "# Create Spine\n",
    "spine_sdf =  fv_uc01_preprocess.feature_df.group_by('O_CUSTOMER_SK').agg( F.max('LATEST_ORDER_DATE').as_('ASOF_DATE'))#.limit(10)\n",
    "\n",
    "spine_sdf.sort('O_CUSTOMER_SK').show(5)\n"
   ]
  },
  {
   "cell_type": "code",
   "execution_count": 20,
   "metadata": {
    "metadata": {}
   },
   "outputs": [
    {
     "name": "stderr",
     "output_type": "stream",
     "text": [
      "WARNING:root:A Column with DATE or TIMESTAMP data type detected. It might not be able to get converted to tensors. Please consider handle it in feature engineering.\n"
     ]
    },
    {
     "name": "stdout",
     "output_type": "stream",
     "text": [
      "---------------------------------------------------------------------------\n",
      "|\"O_CUSTOMER_SK\"  |\"ASOF_DATE\"  |\"FREQUENCY\"         |\"RETURN_RATIO\"      |\n",
      "---------------------------------------------------------------------------\n",
      "|0                |2023-02-02   |1.6666666269302368  |0.7006146907806396  |\n",
      "|1                |2022-11-02   |3.5                 |0.8004919290542603  |\n",
      "|2                |2022-11-24   |2.5                 |0.6384019255638123  |\n",
      "|3                |2023-01-18   |2.0                 |0.6914749145507812  |\n",
      "|4                |2022-08-25   |3.5                 |0.6873698234558105  |\n",
      "---------------------------------------------------------------------------\n",
      "\n"
     ]
    }
   ],
   "source": [
    "# Generate_Dataset\n",
    "training_dataset = fs.generate_dataset( name = 'UC01_TRAINING',\n",
    "                                        spine_df = spine_sdf, features = [fv_uc01_preprocess], \n",
    "                                        spine_timestamp_col = 'ASOF_DATE'\n",
    "                                        )                                     \n",
    "# Create a snowpark dataframe reference from the Dataset\n",
    "training_dataset_sdf = training_dataset.read.to_snowpark_dataframe()\n",
    "# Display some sample data\n",
    "training_dataset_sdf.sort('O_CUSTOMER_SK').show(5)\n"
   ]
  },
  {
   "cell_type": "code",
   "execution_count": 21,
   "metadata": {},
   "outputs": [
    {
     "data": {
      "text/html": [
       "<div>\n",
       "<style scoped>\n",
       "    .dataframe tbody tr th:only-of-type {\n",
       "        vertical-align: middle;\n",
       "    }\n",
       "\n",
       "    .dataframe tbody tr th {\n",
       "        vertical-align: top;\n",
       "    }\n",
       "\n",
       "    .dataframe thead th {\n",
       "        text-align: right;\n",
       "    }\n",
       "</style>\n",
       "<table border=\"1\" class=\"dataframe\">\n",
       "  <thead>\n",
       "    <tr style=\"text-align: right;\">\n",
       "      <th></th>\n",
       "      <th>O_CUSTOMER_SK</th>\n",
       "      <th>ASOF_DATE</th>\n",
       "      <th>FREQUENCY</th>\n",
       "      <th>RETURN_RATIO</th>\n",
       "    </tr>\n",
       "  </thead>\n",
       "  <tbody>\n",
       "    <tr>\n",
       "      <th>0</th>\n",
       "      <td>46222</td>\n",
       "      <td>2022-07-27</td>\n",
       "      <td>3.000000</td>\n",
       "      <td>0.861002</td>\n",
       "    </tr>\n",
       "    <tr>\n",
       "      <th>1</th>\n",
       "      <td>24205</td>\n",
       "      <td>2021-10-21</td>\n",
       "      <td>2.000000</td>\n",
       "      <td>0.533675</td>\n",
       "    </tr>\n",
       "    <tr>\n",
       "      <th>2</th>\n",
       "      <td>33580</td>\n",
       "      <td>2023-01-06</td>\n",
       "      <td>2.000000</td>\n",
       "      <td>0.733064</td>\n",
       "    </tr>\n",
       "    <tr>\n",
       "      <th>3</th>\n",
       "      <td>13617</td>\n",
       "      <td>2022-04-19</td>\n",
       "      <td>1.000000</td>\n",
       "      <td>0.938136</td>\n",
       "    </tr>\n",
       "    <tr>\n",
       "      <th>4</th>\n",
       "      <td>9238</td>\n",
       "      <td>2022-10-28</td>\n",
       "      <td>3.000000</td>\n",
       "      <td>0.741761</td>\n",
       "    </tr>\n",
       "    <tr>\n",
       "      <th>...</th>\n",
       "      <td>...</td>\n",
       "      <td>...</td>\n",
       "      <td>...</td>\n",
       "      <td>...</td>\n",
       "    </tr>\n",
       "    <tr>\n",
       "      <th>70310</th>\n",
       "      <td>61142</td>\n",
       "      <td>2022-08-04</td>\n",
       "      <td>1.500000</td>\n",
       "      <td>0.815722</td>\n",
       "    </tr>\n",
       "    <tr>\n",
       "      <th>70311</th>\n",
       "      <td>36997</td>\n",
       "      <td>2023-01-11</td>\n",
       "      <td>1.333333</td>\n",
       "      <td>0.819351</td>\n",
       "    </tr>\n",
       "    <tr>\n",
       "      <th>70312</th>\n",
       "      <td>63198</td>\n",
       "      <td>2022-08-18</td>\n",
       "      <td>1.500000</td>\n",
       "      <td>0.905925</td>\n",
       "    </tr>\n",
       "    <tr>\n",
       "      <th>70313</th>\n",
       "      <td>938</td>\n",
       "      <td>2023-02-16</td>\n",
       "      <td>2.000000</td>\n",
       "      <td>0.713014</td>\n",
       "    </tr>\n",
       "    <tr>\n",
       "      <th>70314</th>\n",
       "      <td>68979</td>\n",
       "      <td>2023-01-18</td>\n",
       "      <td>3.000000</td>\n",
       "      <td>0.732097</td>\n",
       "    </tr>\n",
       "  </tbody>\n",
       "</table>\n",
       "<p>70315 rows × 4 columns</p>\n",
       "</div>"
      ],
      "text/plain": [
       "       O_CUSTOMER_SK   ASOF_DATE  FREQUENCY  RETURN_RATIO\n",
       "0              46222  2022-07-27   3.000000      0.861002\n",
       "1              24205  2021-10-21   2.000000      0.533675\n",
       "2              33580  2023-01-06   2.000000      0.733064\n",
       "3              13617  2022-04-19   1.000000      0.938136\n",
       "4               9238  2022-10-28   3.000000      0.741761\n",
       "...              ...         ...        ...           ...\n",
       "70310          61142  2022-08-04   1.500000      0.815722\n",
       "70311          36997  2023-01-11   1.333333      0.819351\n",
       "70312          63198  2022-08-18   1.500000      0.905925\n",
       "70313            938  2023-02-16   2.000000      0.713014\n",
       "70314          68979  2023-01-18   3.000000      0.732097\n",
       "\n",
       "[70315 rows x 4 columns]"
      ]
     },
     "execution_count": 21,
     "metadata": {},
     "output_type": "execute_result"
    }
   ],
   "source": [
    "training_dataset_sdf.to_pandas()"
   ]
  },
  {
   "cell_type": "code",
   "execution_count": 22,
   "metadata": {
    "metadata": {}
   },
   "outputs": [
    {
     "name": "stdout",
     "output_type": "stream",
     "text": [
      "['2024_05_30_22_17_28', '2024_05_31_14_37_06']\n",
      "DatasetVersion(dataset='TPCXAI_SF0001_QUICKSTART_INC._TRAINING_FEATURE_STORE.UC01_TRAINING', version='2024_05_31_14_37_06')\n",
      "TPCXAI_SF0001_QUICKSTART_INC._TRAINING_FEATURE_STORE.UC01_TRAINING\n"
     ]
    }
   ],
   "source": [
    "print(training_dataset.list_versions())\n",
    "print(training_dataset.selected_version)\n",
    "print(training_dataset.fully_qualified_name)"
   ]
  },
  {
   "cell_type": "code",
   "execution_count": 23,
   "metadata": {},
   "outputs": [
    {
     "data": {
      "text/plain": [
       "'2024_05_31_14_37_06'"
      ]
     },
     "execution_count": 23,
     "metadata": {},
     "output_type": "execute_result"
    }
   ],
   "source": [
    "training_dataset.list_versions()[-1]"
   ]
  },
  {
   "cell_type": "code",
   "execution_count": 24,
   "metadata": {
    "metadata": {}
   },
   "outputs": [],
   "source": [
    "# Get the latest version\n",
    "training_dataset_latest = training_dataset.list_versions()[-1]"
   ]
  },
  {
   "cell_type": "code",
   "execution_count": 25,
   "metadata": {
    "metadata": {}
   },
   "outputs": [
    {
     "data": {
      "text/html": [
       "<div>\n",
       "<style scoped>\n",
       "    .dataframe tbody tr th:only-of-type {\n",
       "        vertical-align: middle;\n",
       "    }\n",
       "\n",
       "    .dataframe tbody tr th {\n",
       "        vertical-align: top;\n",
       "    }\n",
       "\n",
       "    .dataframe thead th {\n",
       "        text-align: right;\n",
       "    }\n",
       "</style>\n",
       "<table border=\"1\" class=\"dataframe\">\n",
       "  <thead>\n",
       "    <tr style=\"text-align: right;\">\n",
       "      <th></th>\n",
       "      <th>O_CUSTOMER_SK</th>\n",
       "      <th>ASOF_DATE</th>\n",
       "      <th>FREQUENCY</th>\n",
       "      <th>RETURN_RATIO</th>\n",
       "    </tr>\n",
       "  </thead>\n",
       "  <tbody>\n",
       "    <tr>\n",
       "      <th>0</th>\n",
       "      <td>6196</td>\n",
       "      <td>2023-01-28</td>\n",
       "      <td>2.333333</td>\n",
       "      <td>0.779405</td>\n",
       "    </tr>\n",
       "    <tr>\n",
       "      <th>1</th>\n",
       "      <td>62173</td>\n",
       "      <td>2022-11-24</td>\n",
       "      <td>2.500000</td>\n",
       "      <td>0.653662</td>\n",
       "    </tr>\n",
       "    <tr>\n",
       "      <th>2</th>\n",
       "      <td>12436</td>\n",
       "      <td>2022-08-31</td>\n",
       "      <td>1.000000</td>\n",
       "      <td>0.720020</td>\n",
       "    </tr>\n",
       "    <tr>\n",
       "      <th>3</th>\n",
       "      <td>29459</td>\n",
       "      <td>2022-08-05</td>\n",
       "      <td>2.000000</td>\n",
       "      <td>0.782995</td>\n",
       "    </tr>\n",
       "    <tr>\n",
       "      <th>4</th>\n",
       "      <td>7050</td>\n",
       "      <td>2022-04-25</td>\n",
       "      <td>2.000000</td>\n",
       "      <td>0.859765</td>\n",
       "    </tr>\n",
       "    <tr>\n",
       "      <th>...</th>\n",
       "      <td>...</td>\n",
       "      <td>...</td>\n",
       "      <td>...</td>\n",
       "      <td>...</td>\n",
       "    </tr>\n",
       "    <tr>\n",
       "      <th>70310</th>\n",
       "      <td>49620</td>\n",
       "      <td>2022-11-15</td>\n",
       "      <td>1.500000</td>\n",
       "      <td>0.834543</td>\n",
       "    </tr>\n",
       "    <tr>\n",
       "      <th>70311</th>\n",
       "      <td>5971</td>\n",
       "      <td>2022-12-16</td>\n",
       "      <td>4.000000</td>\n",
       "      <td>0.828913</td>\n",
       "    </tr>\n",
       "    <tr>\n",
       "      <th>70312</th>\n",
       "      <td>69290</td>\n",
       "      <td>2022-08-31</td>\n",
       "      <td>2.000000</td>\n",
       "      <td>0.715730</td>\n",
       "    </tr>\n",
       "    <tr>\n",
       "      <th>70313</th>\n",
       "      <td>30326</td>\n",
       "      <td>2022-11-16</td>\n",
       "      <td>2.000000</td>\n",
       "      <td>0.761122</td>\n",
       "    </tr>\n",
       "    <tr>\n",
       "      <th>70314</th>\n",
       "      <td>41306</td>\n",
       "      <td>2022-12-24</td>\n",
       "      <td>4.000000</td>\n",
       "      <td>0.728150</td>\n",
       "    </tr>\n",
       "  </tbody>\n",
       "</table>\n",
       "<p>70315 rows × 4 columns</p>\n",
       "</div>"
      ],
      "text/plain": [
       "       O_CUSTOMER_SK   ASOF_DATE  FREQUENCY  RETURN_RATIO\n",
       "0               6196  2023-01-28   2.333333      0.779405\n",
       "1              62173  2022-11-24   2.500000      0.653662\n",
       "2              12436  2022-08-31   1.000000      0.720020\n",
       "3              29459  2022-08-05   2.000000      0.782995\n",
       "4               7050  2022-04-25   2.000000      0.859765\n",
       "...              ...         ...        ...           ...\n",
       "70310          49620  2022-11-15   1.500000      0.834543\n",
       "70311           5971  2022-12-16   4.000000      0.828913\n",
       "70312          69290  2022-08-31   2.000000      0.715730\n",
       "70313          30326  2022-11-16   2.000000      0.761122\n",
       "70314          41306  2022-12-24   4.000000      0.728150\n",
       "\n",
       "[70315 rows x 4 columns]"
      ]
     },
     "execution_count": 25,
     "metadata": {},
     "output_type": "execute_result"
    }
   ],
   "source": [
    "training_dataset.read.to_pandas()"
   ]
  },
  {
   "cell_type": "markdown",
   "metadata": {},
   "source": [
    "### Fit Snowpark-ML Transforms & Model using Fileset training data\n",
    "\n",
    "We need to fit the transformer over the training Fileset to ensure we are using the same input global values for transforming and training, and later inference with the model.\n",
    "\n",
    "The transforms here are model-specific and persisted within the model-pipeline, and not stored in the Feature Store."
   ]
  },
  {
   "cell_type": "code",
   "execution_count": 26,
   "metadata": {
    "metadata": {}
   },
   "outputs": [],
   "source": [
    "## MODEL PIPELINE \n",
    "## - Model Specific Transforms\n",
    "## - Model Fitting Function (Kmeans)\n",
    "\n",
    "def uc01_train(featurevector, num_clusters):\n",
    "    mms_input_cols = ['RETURN_RATIO', 'FREQUENCY']\n",
    "    km_input_cols = mms_output_cols =['RETURN_RATIO_MMS', 'FREQUENCY_MMS']    \n",
    "    km_output_cols = \"CLUSTER\"\n",
    "    km4_purchases = sml_Pipeline(\n",
    "        steps=[ (\"MMS\",\n",
    "                    sml_MinMaxScaler(\n",
    "                        clip=True,\n",
    "                        input_cols=mms_input_cols,\n",
    "                        output_cols=mms_output_cols,)),\n",
    "                (\"KM\",\n",
    "                    sml_KMeans(\n",
    "                        n_clusters=num_clusters,\n",
    "                        init='k-means++',\n",
    "                        max_iter=300,\n",
    "                        n_init=10,\n",
    "                        random_state=0,\n",
    "                        input_cols=km_input_cols,\n",
    "                        output_cols = km_output_cols)),])\n",
    "    km4_purchases.fit(featurevector.select(mms_input_cols))\n",
    "    return {'MODEL': km4_purchases}"
   ]
  },
  {
   "cell_type": "code",
   "execution_count": 27,
   "metadata": {
    "metadata": {}
   },
   "outputs": [
    {
     "name": "stderr",
     "output_type": "stream",
     "text": [
      "WARNING:snowflake.snowpark.session:The version of package 'snowflake-snowpark-python' in the local environment is 1.17.0, which does not fit the criteria for the requirement 'snowflake-snowpark-python'. Your UDF might not work when the package version is different between the server and your local environment.\n"
     ]
    }
   ],
   "source": [
    "## Fit the KMeans Model\n",
    "model_name = \"UC01_SNOWFLAKEML_KMEANS_MODEL\"\n",
    "\n",
    "num_clusters = 5\n",
    "\n",
    "train_result = uc01_train(training_dataset_sdf, num_clusters)#"
   ]
  },
  {
   "cell_type": "code",
   "execution_count": 28,
   "metadata": {
    "metadata": {}
   },
   "outputs": [
    {
     "name": "stdout",
     "output_type": "stream",
     "text": [
      "model version:\t V_4\n"
     ]
    },
    {
     "name": "stderr",
     "output_type": "stream",
     "text": [
      "/opt/homebrew/Caskroom/miniconda/base/envs/py-snowpark_df_ml_fs-1.15.1_v4/lib/python3.10/contextlib.py:135: UserWarning: `relax_version` is not set and therefore defaulted to True. Dependency version constraints relaxed from ==x.y.z to >=x.y, <(x+1). To use specific dependency versions for compatibility, reproducibility, etc., set `options={'relax_version': False}` when logging the model.\n",
      "  return next(self.gen)\n"
     ]
    }
   ],
   "source": [
    "# Check for the latest version of this model in registry, and increment version\n",
    "mr_df = mr.show_models()\n",
    "model_version = check_and_update(mr_df, model_name)\n",
    "print('model version:\\t',model_version)\n",
    "# Save the Model to the Model Registry\n",
    "mv_kmeans = mr.log_model(model= train_result['MODEL'],\n",
    "                model_name= model_name,\n",
    "                version_name= model_version,\n",
    "                comment=\"TPCXAI USE CASE 01 - KMEANS - CUSTOMER PURCHASE CLUSTERS\"\n",
    "                )"
   ]
  },
  {
   "cell_type": "code",
   "execution_count": 29,
   "metadata": {
    "metadata": {}
   },
   "outputs": [
    {
     "data": {
      "text/html": [
       "<div>\n",
       "<style scoped>\n",
       "    .dataframe tbody tr th:only-of-type {\n",
       "        vertical-align: middle;\n",
       "    }\n",
       "\n",
       "    .dataframe tbody tr th {\n",
       "        vertical-align: top;\n",
       "    }\n",
       "\n",
       "    .dataframe thead th {\n",
       "        text-align: right;\n",
       "    }\n",
       "</style>\n",
       "<table border=\"1\" class=\"dataframe\">\n",
       "  <thead>\n",
       "    <tr style=\"text-align: right;\">\n",
       "      <th></th>\n",
       "      <th>created_on</th>\n",
       "      <th>name</th>\n",
       "      <th>database_name</th>\n",
       "      <th>schema_name</th>\n",
       "      <th>comment</th>\n",
       "      <th>owner</th>\n",
       "      <th>default_version_name</th>\n",
       "      <th>versions</th>\n",
       "    </tr>\n",
       "  </thead>\n",
       "  <tbody>\n",
       "    <tr>\n",
       "      <th>0</th>\n",
       "      <td>2024-05-22 15:45:05.699000-07:00</td>\n",
       "      <td>UC01_SNOWFLAKEML_KMEANS_MODEL</td>\n",
       "      <td>TPCXAI_SF0001_QUICKSTART_INC</td>\n",
       "      <td>_MODEL_REGISTRY</td>\n",
       "      <td>None</td>\n",
       "      <td>FS_QS_ROLE</td>\n",
       "      <td>V_2</td>\n",
       "      <td>[\"V_1\",\"V_2\",\"V_3\",\"V_4\"]</td>\n",
       "    </tr>\n",
       "  </tbody>\n",
       "</table>\n",
       "</div>"
      ],
      "text/plain": [
       "                        created_on                           name  \\\n",
       "0 2024-05-22 15:45:05.699000-07:00  UC01_SNOWFLAKEML_KMEANS_MODEL   \n",
       "\n",
       "                  database_name      schema_name comment       owner  \\\n",
       "0  TPCXAI_SF0001_QUICKSTART_INC  _MODEL_REGISTRY    None  FS_QS_ROLE   \n",
       "\n",
       "  default_version_name                   versions  \n",
       "0                  V_2  [\"V_1\",\"V_2\",\"V_3\",\"V_4\"]  "
      ]
     },
     "execution_count": 29,
     "metadata": {},
     "output_type": "execute_result"
    }
   ],
   "source": [
    "mr.show_models()"
   ]
  },
  {
   "cell_type": "code",
   "execution_count": 30,
   "metadata": {},
   "outputs": [],
   "source": [
    "# Get and set default for latest version of the model\n",
    "m = mr.get_model(model_name)\n",
    "latest_version = m.show_versions().iloc[-1]['name']\n",
    "mv = m.version(latest_version)\n",
    "m.default = latest_version"
   ]
  },
  {
   "cell_type": "markdown",
   "metadata": {},
   "source": [
    "#### Check the model clusters"
   ]
  },
  {
   "cell_type": "markdown",
   "metadata": {},
   "source": [
    "We will check the model clusters derived from the model.  We create an inference Function using the Snowflake Model Registry.  This packages our model as a Python function which enables access from [Python](https://docs.snowflake.com/developer-guide/snowpark-ml/model-registry/overview#calling-model-methods) or directly from [SQL](https://docs.snowflake.com/sql-reference/commands-model#label-snowpark-model-registry-model-methods).  This allows the model to be used directly for prediction within our Feature Engineering pipeline, by creating an inference Feature View."
   ]
  },
  {
   "cell_type": "code",
   "execution_count": 31,
   "metadata": {
    "metadata": {}
   },
   "outputs": [],
   "source": [
    "def uc01_serve(featurevector, km4_purchases) -> DataFrame :\n",
    "    clusters = km4_purchases.run(featurevector, function_name=\"predict\")    \n",
    "    return clusters"
   ]
  },
  {
   "cell_type": "code",
   "execution_count": 32,
   "metadata": {
    "metadata": {}
   },
   "outputs": [
    {
     "name": "stdout",
     "output_type": "stream",
     "text": [
      "serve time:\t 0.7153193339472637\n",
      "------------------------------------------------------------------------------------------------------------------------\n",
      "|\"O_CUSTOMER_SK\"  |\"ASOF_DATE\"  |\"FREQUENCY\"  |\"RETURN_RATIO\"  |\"RETURN_RATIO_MMS\"   |\"FREQUENCY_MMS\"      |\"CLUSTER\"  |\n",
      "------------------------------------------------------------------------------------------------------------------------\n",
      "|55984            |2022-03-19   |2.5          |0.741131824     |0.30531993509101674  |0.13636363636363638  |4          |\n",
      "|34802            |2022-10-30   |1.5          |0.833333333333  |0.35734230330398675  |0.04545454545454544  |2          |\n",
      "|40033            |2022-11-10   |3.0          |0.756725883333  |0.31411848841649764  |0.1818181818181818   |4          |\n",
      "|70340            |2022-08-18   |1.0          |0.61905581      |0.2364416336811862   |0.0                  |0          |\n",
      "|48196            |2023-01-04   |1.0          |0.77206235      |0.322771701599322    |0.0                  |2          |\n",
      "|4073             |2023-02-09   |1.0          |0.6985623       |0.2813011585200106   |0.0                  |0          |\n",
      "|58660            |2022-11-09   |1.5          |0.805555556667  |0.3416693958178715   |0.04545454545454544  |2          |\n",
      "|22621            |2022-09-03   |5.0          |0.735392961     |0.3020819268819371   |0.36363636363636365  |3          |\n",
      "|43781            |2022-12-30   |3.5          |0.67143851      |0.2659972464591454   |0.22727272727272727  |1          |\n",
      "|65939            |2022-11-23   |3.5          |0.739719958571  |0.3045233257540771   |0.22727272727272727  |1          |\n",
      "------------------------------------------------------------------------------------------------------------------------\n",
      "\n"
     ]
    }
   ],
   "source": [
    "# Create Spine\n",
    "inference_spine_sdf =  fv_uc01_preprocess.feature_df.group_by('O_CUSTOMER_SK').agg(F.max('LATEST_ORDER_DATE').as_('ASOF_DATE'))\n",
    "\n",
    "# Generate_Dataset\n",
    "inference_dataset_sdf = fs.retrieve_feature_values(spine_df = inference_spine_sdf, features = [fv_uc01_preprocess],  spine_timestamp_col = 'ASOF_DATE' )\n",
    "#inference_dataset_sdf = fs.read_feature_view(fv_uc01_preprocess)\n",
    "\n",
    "start = timeit.default_timer()#\n",
    "# serve_result = uc01_serve(training_dataset_sdf, train_result['MODEL'])#\n",
    "inference_result_sdf = uc01_serve(inference_dataset_sdf, mv)#\n",
    "end = timeit.default_timer()#\n",
    "serve_time = end - start#\n",
    "print('serve time:\\t', serve_time)#\n",
    "\n",
    "inference_sample_sdf = inference_result_sdf.sample(n = 10000)\n",
    "inference_sample_sdf.show()"
   ]
  },
  {
   "cell_type": "code",
   "execution_count": 33,
   "metadata": {
    "metadata": {}
   },
   "outputs": [],
   "source": [
    "#Getting unique labels\n",
    "import matplotlib.pyplot as plt\n",
    "\n",
    "u_labels = inference_sample_sdf.select(F.array_agg(F.col(\"CLUSTER\"), is_distinct = True).alias(\"U_LABELS\")) \\\n",
    "                .select(F.array_sort(F.col(\"U_LABELS\")).cast(T.StringType()).alias(\"U_LABELS\")).collect()[0][0]"
   ]
  },
  {
   "cell_type": "code",
   "execution_count": 34,
   "metadata": {
    "metadata": {}
   },
   "outputs": [
    {
     "data": {
      "image/png": "[encoded data removed]",
      "text/plain": [
       "<Figure size 640x480 with 1 Axes>"
      ]
     },
     "metadata": {},
     "output_type": "display_data"
    }
   ],
   "source": [
    "u_labels_lst = json.loads(u_labels)\n",
    "plt_df = inference_sample_sdf.select(F.col(\"CLUSTER\"), F.col(\"FREQUENCY_MMS\"), F.col(\"RETURN_RATIO_MMS\")).to_pandas()\n",
    "\n",
    "#plotting the results:\n",
    "for i in u_labels_lst:\n",
    "    plt.scatter(plt_df[plt_df['CLUSTER'] == i][['FREQUENCY_MMS']]  , plt_df[plt_df['CLUSTER'] == i][['RETURN_RATIO_MMS']]  , label = i)\n",
    "plt.legend()\n",
    "plt.show()"
   ]
  },
  {
   "cell_type": "markdown",
   "metadata": {},
   "source": [
    "We can look at the query that contains our inference function.  It makes use of the SQL API for Model registry to call the inference function `MODEL_VERSION_ALIAS!PREDICT(RETURN_RATIO, FREQUENCY) AS TMP_RESULT`"
   ]
  },
  {
   "cell_type": "code",
   "execution_count": 35,
   "metadata": {
    "metadata": {}
   },
   "outputs": [
    {
     "name": "stdout",
     "output_type": "stream",
     "text": [
      "SELECT \"O_CUSTOMER_SK\", \"ASOF_DATE\", \"FREQUENCY\", \"RETURN_RATIO\",  CAST (\"TMP_RESULT\"['RETURN_RATIO_MMS'] AS DOUBLE) AS \"RETURN_RATIO_MMS\",  CAST (\"TMP_RESULT\"['FREQUENCY_MMS'] AS DOUBLE) AS \"FREQUENCY_MMS\",  CAST (\"TMP_RESULT\"['CLUSTER'] AS BIGINT) AS \"CLUSTER\" FROM (WITH SNOWPARK_ML_MODEL_INFERENCE_INPUT AS (SELECT\n",
      "                            l_0.*,\n",
      "\n",
      "                            r_0.* EXCLUDE (O_CUSTOMER_SK, LATEST_ORDER_DATE)\n",
      "                        FROM (SELECT \"O_CUSTOMER_SK\", max(\"LATEST_ORDER_DATE\") AS \"ASOF_DATE\" FROM (WITH SNOWPARK_LEFT AS (\n",
      "  SELECT\n",
      "    \"LI_ORDER_ID\" AS \"LI_ORDER_ID\",\n",
      "    \"LI_PRODUCT_ID\" AS \"LI_PRODUCT_ID\",\n",
      "    \"QUANTITY\" AS \"QUANTITY\",\n",
      "    \"PRICE\" AS \"PRICE\"\n",
      "  FROM TPCXAI_SF0001_QUICKSTART_INC.TRAINING.LINEITEM\n",
      "), SNOWPARK_RIGHT AS (\n",
      "  SELECT\n",
      "    \"OR_ORDER_ID\" AS \"OR_ORDER_ID\",\n",
      "    \"OR_PRODUCT_ID\" AS \"OR_PRODUCT_ID\",\n",
      "    \"OR_RETURN_QUANTITY\" AS \"OR_RETURN_QUANTITY\"\n",
      "  FROM TPCXAI_SF0001_QUICKSTART_INC.TRAINING.ORDER_RETURNS\n",
      "), cte AS (\n",
      "  SELECT\n",
      "    *\n",
      "  FROM (\n",
      "    SNOWPARK_LEFT AS SNOWPARK_LEFT\n",
      "      LEFT OUTER JOIN SNOWPARK_RIGHT AS SNOWPARK_RIGHT\n",
      "        ON (\n",
      "          (\n",
      "            \"LI_ORDER_ID\" = \"OR_ORDER_ID\"\n",
      "          ) AND (\n",
      "            \"LI_PRODUCT_ID\" = \"OR_PRODUCT_ID\"\n",
      "          )\n",
      "        )\n",
      "  )\n",
      "), SNOWPARK_LEFT_2 AS (\n",
      "  SELECT\n",
      "    \"LI_ORDER_ID\" AS \"LI_ORDER_ID\",\n",
      "    \"LI_PRODUCT_ID\" AS \"LI_PRODUCT_ID\",\n",
      "    \"QUANTITY\" AS \"QUANTITY\",\n",
      "    \"PRICE\" AS \"PRICE\",\n",
      "    \"OR_ORDER_ID\" AS \"OR_ORDER_ID\",\n",
      "    \"OR_PRODUCT_ID\" AS \"OR_PRODUCT_ID\",\n",
      "    \"OR_RETURN_QUANTITY\" AS \"OR_RETURN_QUANTITY\"\n",
      "  FROM cte AS cte\n",
      "), SNOWPARK_RIGHT_2 AS (\n",
      "  SELECT\n",
      "    \"O_ORDER_ID\" AS \"O_ORDER_ID\",\n",
      "    \"O_CUSTOMER_SK\" AS \"O_CUSTOMER_SK\",\n",
      "    \"ORDER_TS\" AS \"ORDER_TS\",\n",
      "    \"WEEKDAY\" AS \"WEEKDAY\",\n",
      "    \"ORDER_DATE\" AS \"ORDER_DATE\",\n",
      "    \"STORE\" AS \"STORE\",\n",
      "    \"TRIP_TYPE\" AS \"TRIP_TYPE\"\n",
      "  FROM TPCXAI_SF0001_QUICKSTART_INC.TRAINING.ORDERS\n",
      "), cte_2 AS (\n",
      "  SELECT\n",
      "    *\n",
      "  FROM (\n",
      "    SNOWPARK_LEFT_2 AS SNOWPARK_LEFT\n",
      "      INNER JOIN SNOWPARK_RIGHT_2 AS SNOWPARK_RIGHT\n",
      "        ON (\n",
      "          \"OR_ORDER_ID\" = \"O_ORDER_ID\"\n",
      "        )\n",
      "  )\n",
      "), cte_3 AS (\n",
      "  SELECT\n",
      "    IFF(\"O_ORDER_ID\" IS NULL, 0, \"O_ORDER_ID\") AS \"O_ORDER_ID\",\n",
      "    IFF(\"O_CUSTOMER_SK\" IS NULL, 0, \"O_CUSTOMER_SK\") AS \"O_CUSTOMER_SK\",\n",
      "    IFF(\"ORDER_DATE\" IS NULL, CAST('1970-01-01' AS DATE), \"ORDER_DATE\") AS \"ORDER_DATE\",\n",
      "    \"LI_PRODUCT_ID\",\n",
      "    IFF(\"PRICE\" IS NULL, 0.0, \"PRICE\") AS \"PRICE\",\n",
      "    IFF(\"QUANTITY\" IS NULL, 0, \"QUANTITY\") AS \"QUANTITY\",\n",
      "    IFF(\"OR_RETURN_QUANTITY\" IS NULL, 0, \"OR_RETURN_QUANTITY\") AS \"OR_RETURN_QUANTITY\"\n",
      "  FROM cte_2 AS cte_2\n",
      "), cte_4 AS (\n",
      "  SELECT\n",
      "    \"O_ORDER_ID\",\n",
      "    \"O_CUSTOMER_SK\",\n",
      "    \"ORDER_DATE\",\n",
      "    \"LI_PRODUCT_ID\",\n",
      "    \"PRICE\",\n",
      "    \"QUANTITY\",\n",
      "    \"OR_RETURN_QUANTITY\",\n",
      "    YEAR(\"ORDER_DATE\") AS \"INVOICE_YEAR\",\n",
      "    (\n",
      "      \"QUANTITY\" * \"PRICE\"\n",
      "    ) AS \"ROW_PRICE\",\n",
      "    (\n",
      "      \"OR_RETURN_QUANTITY\" * \"PRICE\"\n",
      "    ) AS \"RETURN_ROW_PRICE\"\n",
      "  FROM cte_3 AS cte_3\n",
      "), cte_5 AS (\n",
      "  SELECT\n",
      "    \"O_CUSTOMER_SK\",\n",
      "    \"O_ORDER_ID\",\n",
      "    SUM(\"ROW_PRICE\") AS \"ROW_PRICE\",\n",
      "    SUM(\"RETURN_ROW_PRICE\") AS \"RETURN_ROW_PRICE\",\n",
      "    MIN(\"INVOICE_YEAR\") AS \"INVOICE_YEAR\",\n",
      "    MAX(\"ORDER_DATE\") AS \"LATEST_ORDER_DATE\"\n",
      "  FROM cte_4 AS cte_4\n",
      "  GROUP BY\n",
      "    \"O_CUSTOMER_SK\",\n",
      "    \"O_ORDER_ID\"\n",
      "), cte_6 AS (\n",
      "  SELECT\n",
      "    \"O_CUSTOMER_SK\",\n",
      "    \"O_ORDER_ID\",\n",
      "    \"ROW_PRICE\",\n",
      "    \"RETURN_ROW_PRICE\",\n",
      "    \"INVOICE_YEAR\",\n",
      "    \"LATEST_ORDER_DATE\",\n",
      "    (\n",
      "      \"RETURN_ROW_PRICE\" / \"ROW_PRICE\"\n",
      "    ) AS \"RATIO\"\n",
      "  FROM cte_5 AS cte_5\n",
      "), cte_7 AS (\n",
      "  SELECT\n",
      "    \"O_CUSTOMER_SK\",\n",
      "    \"INVOICE_YEAR\",\n",
      "    CAST(COUNT(\"O_ORDER_ID\") AS FLOAT) AS \"FREQUENCY\"\n",
      "  FROM cte_6 AS cte_6\n",
      "  GROUP BY\n",
      "    \"O_CUSTOMER_SK\",\n",
      "    \"INVOICE_YEAR\"\n",
      "), cte_8 AS (\n",
      "  SELECT\n",
      "    \"O_CUSTOMER_SK\",\n",
      "    AVG(\"FREQUENCY\") AS \"FREQUENCY\"\n",
      "  FROM cte_7 AS cte_7\n",
      "  GROUP BY\n",
      "    \"O_CUSTOMER_SK\"\n",
      "), SNOWPARK_LEFT_3 AS (\n",
      "  SELECT\n",
      "    \"O_CUSTOMER_SK\" AS \"O_CUSTOMER_SK\",\n",
      "    \"FREQUENCY\" AS \"FREQUENCY\"\n",
      "  FROM cte_8 AS cte_8\n",
      "), cte_9 AS (\n",
      "  SELECT\n",
      "    \"O_CUSTOMER_SK\",\n",
      "    CAST(AVG(\"RATIO\") AS FLOAT) AS \"RETURN_RATIO\",\n",
      "    MAX(\"LATEST_ORDER_DATE\") AS \"LATEST_ORDER_DATE\"\n",
      "  FROM cte_6 AS cte_6\n",
      "  GROUP BY\n",
      "    \"O_CUSTOMER_SK\"\n",
      "), SNOWPARK_RIGHT_3 AS (\n",
      "  SELECT\n",
      "    \"O_CUSTOMER_SK\" AS \"O_CUSTOMER_SK\",\n",
      "    \"RETURN_RATIO\" AS \"RETURN_RATIO\",\n",
      "    \"LATEST_ORDER_DATE\" AS \"LATEST_ORDER_DATE\"\n",
      "  FROM cte_9 AS cte_9\n",
      ")\n",
      "SELECT\n",
      "  *\n",
      "FROM (\n",
      "  SNOWPARK_LEFT_3 AS SNOWPARK_LEFT\n",
      "    INNER JOIN SNOWPARK_RIGHT_3 AS SNOWPARK_RIGHT\n",
      "      USING (O_CUSTOMER_SK)\n",
      ")) GROUP BY \"O_CUSTOMER_SK\") l_0\n",
      "                        ASOF JOIN (\n",
      "                            SELECT O_CUSTOMER_SK, LATEST_ORDER_DATE, FREQUENCY, RETURN_RATIO\n",
      "                            FROM TPCXAI_SF0001_QUICKSTART_INC._TRAINING_FEATURE_STORE.FV_UC01_PREPROCESS$V_1\n",
      "                        ) r_0\n",
      "                        MATCH_CONDITION (l_0.ASOF_DATE >= r_0.LATEST_ORDER_DATE)\n",
      "                        ON l_0.O_CUSTOMER_SK = r_0.O_CUSTOMER_SK),MODEL_VERSION_ALIAS AS MODEL TPCXAI_SF0001_QUICKSTART_INC._MODEL_REGISTRY.UC01_SNOWFLAKEML_KMEANS_MODEL VERSION V_2\n",
      "                SELECT *,\n",
      "                    MODEL_VERSION_ALIAS!PREDICT(RETURN_RATIO, FREQUENCY) AS TMP_RESULT\n",
      "                FROM SNOWPARK_ML_MODEL_INFERENCE_INPUT)\n"
     ]
    }
   ],
   "source": [
    "\n",
    "ind_sql = inference_result_sdf.queries['queries'][0]\n",
    "ind_fmtd_sql = os.linesep.join(ind_sql.split(os.linesep)[:1000])\n",
    "print(ind_fmtd_sql)"
   ]
  },
  {
   "cell_type": "markdown",
   "metadata": {},
   "source": [
    "## CLEAN UP"
   ]
  },
  {
   "cell_type": "code",
   "execution_count": 36,
   "metadata": {
    "metadata": {}
   },
   "outputs": [],
   "source": [
    "session.close()"
   ]
  }
 ],
 "metadata": {
  "kernelspec": {
   "display_name": "Python 3 (ipykernel)",
   "language": "python",
   "name": "python3"
  },
  "language_info": {
   "codemirror_mode": {
    "name": "ipython",
    "version": 3
   },
   "file_extension": ".py",
   "mimetype": "text/x-python",
   "name": "python",
   "nbconvert_exporter": "python",
   "pygments_lexer": "ipython3",
   "version": "3.9.19"
  }
 },
 "nbformat": 4,
 "nbformat_minor": 4
}
